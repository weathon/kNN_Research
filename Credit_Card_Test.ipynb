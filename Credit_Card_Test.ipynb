{
  "cells": [
    {
      "cell_type": "markdown",
      "metadata": {
        "id": "view-in-github",
        "colab_type": "text"
      },
      "source": [
        "<a href=\"https://colab.research.google.com/github/weathon/kNN_Research/blob/main/Credit_Card_Test.ipynb\" target=\"_parent\"><img src=\"https://colab.research.google.com/assets/colab-badge.svg\" alt=\"Open In Colab\"/></a>"
      ]
    },
    {
      "cell_type": "code",
      "execution_count": 2,
      "metadata": {
        "colab": {
          "base_uri": "https://localhost:8080/"
        },
        "id": "Xp1nNwCaskI7",
        "outputId": "7ad3a852-169c-4211-8c33-283f9759ade8"
      },
      "outputs": [
        {
          "output_type": "stream",
          "name": "stdout",
          "text": [
            "Downloading credit-card-customers.zip to /content\n",
            "\r  0% 0.00/379k [00:00<?, ?B/s]\n",
            "\r100% 379k/379k [00:00<00:00, 61.0MB/s]\n",
            "Archive:  credit-card-customers.zip\n",
            "  inflating: BankChurners.csv        \n"
          ]
        }
      ],
      "source": [
        "!cp drive/MyDrive/kaggle.json kaggle.json \n",
        "!cp kaggle.json /root/.kaggle/\n",
        "!kaggle datasets download -d sakshigoyal7/credit-card-customers\n",
        "!unzip credit-card-customers.zip "
      ]
    },
    {
      "cell_type": "code",
      "execution_count": 3,
      "metadata": {
        "id": "M7CYYLrvxB1F"
      },
      "outputs": [],
      "source": [
        "import pandas as pd\n",
        "import numpy as np"
      ]
    },
    {
      "cell_type": "markdown",
      "metadata": {
        "id": "bGOd4Spyw9-u"
      },
      "source": [
        "### Data Washing"
      ]
    },
    {
      "cell_type": "code",
      "execution_count": 4,
      "metadata": {
        "id": "YTxbDnWpxM6n"
      },
      "outputs": [],
      "source": [
        "BankChurners = pd.read_csv(\"BankChurners.csv\")"
      ]
    },
    {
      "cell_type": "code",
      "execution_count": 5,
      "metadata": {
        "id": "xXzWcNCg3Zle"
      },
      "outputs": [],
      "source": [
        "del BankChurners[\"Naive_Bayes_Classifier_Attrition_Flag_Card_Category_Contacts_Count_12_mon_Dependent_count_Education_Level_Months_Inactive_12_mon_1\"]\n",
        "del BankChurners[\"Naive_Bayes_Classifier_Attrition_Flag_Card_Category_Contacts_Count_12_mon_Dependent_count_Education_Level_Months_Inactive_12_mon_2\"]"
      ]
    },
    {
      "cell_type": "code",
      "execution_count": 6,
      "metadata": {
        "id": "fFWtW_Yr3v5V"
      },
      "outputs": [],
      "source": [
        "Y = BankChurners[\"Attrition_Flag\"]\n",
        "del BankChurners[\"Attrition_Flag\"]\n",
        "del BankChurners[\"CLIENTNUM\"]\n",
        "X = BankChurners"
      ]
    },
    {
      "cell_type": "code",
      "execution_count": 7,
      "metadata": {
        "id": "cMrBJLNA35kX"
      },
      "outputs": [],
      "source": [
        "Y = Y.replace(\"Existing Customer\",0).replace(\"Attrited Customer\",1)"
      ]
    },
    {
      "cell_type": "code",
      "execution_count": 8,
      "metadata": {
        "id": "BXYqrbW85uTs"
      },
      "outputs": [],
      "source": [
        "X[\"Gender\"] = X[\"Gender\"].replace(\"M\",1).replace(\"F\",0)\n",
        "X[\"Marital_Status\"] = X[\"Marital_Status\"].replace(\"Married\",0).replace(\"Single\",1).replace(\"Divorced\",2).replace(\"Unknown\",3)\n",
        "X[\"Education_Level\"] = X[\"Education_Level\"].replace(\"Uneducated\",0).replace(\"High School\",1).replace(\"College\",2).replace(\"Graduate\",3).replace(\"Post-Graduate\",4).replace(\"Doctorate\",5).replace(\"Unknown\",-1)\n",
        "X[\"Card_Category\"] = X[\"Card_Category\"].replace(\"Blue\",0).replace(\"Silver\",1).replace(\"Gold\",2).replace(\"Platinum\",3)\n",
        "X[\"Income_Category\"] = X[\"Income_Category\"].replace(\"Less than $40K\",0).replace(\"$40K - $60K\",1).replace(\"$60K - $80K\",2).replace(\"$80K - $120K\",3).replace(\"$120K +\",4).replace(\"Unknown\",-1)"
      ]
    },
    {
      "cell_type": "code",
      "execution_count": 9,
      "metadata": {
        "id": "wWrHECcZ_FiH"
      },
      "outputs": [],
      "source": [
        "Marital_Status = pd.DataFrame(X[\"Marital_Status\"])\n",
        "del X[\"Marital_Status\"]\n",
        "X = pd.concat([Marital_Status,X],axis=1)"
      ]
    },
    {
      "cell_type": "markdown",
      "metadata": {
        "id": "D970WezUBdWn"
      },
      "source": [
        "\n",
        "\n",
        "\n",
        "#### Playground"
      ]
    },
    {
      "cell_type": "code",
      "execution_count": null,
      "metadata": {
        "id": "pibcvCsbBaYB"
      },
      "outputs": [],
      "source": [
        "X = np.array(X)\n",
        "Y = np.array(Y)"
      ]
    },
    {
      "cell_type": "code",
      "execution_count": null,
      "metadata": {
        "colab": {
          "base_uri": "https://localhost:8080/"
        },
        "id": "0sM71igiBu-R",
        "outputId": "1da92e65-75f6-4daf-8791-498d8c330413"
      },
      "outputs": [
        {
          "data": {
            "text/plain": [
              "0.0"
            ]
          },
          "execution_count": 63,
          "metadata": {},
          "output_type": "execute_result"
        }
      ],
      "source": [
        "X[4][0]"
      ]
    },
    {
      "cell_type": "code",
      "execution_count": null,
      "metadata": {
        "colab": {
          "base_uri": "https://localhost:8080/"
        },
        "id": "Q96vKDuyB_FT",
        "outputId": "0a555953-5bbf-4813-c406-20e6d855dd43"
      },
      "outputs": [
        {
          "data": {
            "text/plain": [
              "(10127,)"
            ]
          },
          "execution_count": 84,
          "metadata": {},
          "output_type": "execute_result"
        }
      ],
      "source": [
        "(X[:,0] == X[0][0]).shape"
      ]
    },
    {
      "cell_type": "code",
      "execution_count": null,
      "metadata": {
        "colab": {
          "base_uri": "https://localhost:8080/"
        },
        "id": "zZTnc_IBCOFd",
        "outputId": "060497f7-a2b0-4bf0-938f-68f7ed3f8b06"
      },
      "outputs": [
        {
          "data": {
            "text/plain": [
              "(10127,)"
            ]
          },
          "execution_count": 73,
          "metadata": {},
          "output_type": "execute_result"
        }
      ],
      "source": [
        "np.sum((X[:,1:] - X[0][1:])**2,axis=1).shape"
      ]
    },
    {
      "cell_type": "code",
      "source": [
        "#suanxkoukunttxuyaoliangge"
      ],
      "metadata": {
        "id": "mjmf4ybyTANh"
      },
      "execution_count": null,
      "outputs": []
    },
    {
      "cell_type": "code",
      "source": [
        "a = np.array([0.3, 0.2, 0.9, 0.7])\n",
        "np.swapaxes(np.array([1-a,a]),0,1)#kunxuaedaokleswapettttxkousuankuntt ttttsunaxkoukunyak"
      ],
      "metadata": {
        "colab": {
          "base_uri": "https://localhost:8080/"
        },
        "id": "ghehQKljTBSR",
        "outputId": "9d059d2c-9b4c-4488-cb80-5e53d61b593f"
      },
      "execution_count": 81,
      "outputs": [
        {
          "output_type": "execute_result",
          "data": {
            "text/plain": [
              "array([[0.7, 0.3],\n",
              "       [0.8, 0.2],\n",
              "       [0.1, 0.9],\n",
              "       [0.3, 0.7]])"
            ]
          },
          "metadata": {},
          "execution_count": 81
        }
      ]
    },
    {
      "cell_type": "code",
      "source": [
        "a = np.array([[0.3, 0.2, 0.9, 0.7],\n",
        "             [1,2,3,4],\n",
        "              [1,2,3,4]])\n",
        "a[0][1:]"
      ],
      "metadata": {
        "colab": {
          "base_uri": "https://localhost:8080/"
        },
        "id": "PuPKxiace9s5",
        "outputId": "41582aae-ea51-4a5d-bff5-558c4ea48f74"
      },
      "execution_count": 168,
      "outputs": [
        {
          "output_type": "execute_result",
          "data": {
            "text/plain": [
              "array([0.2, 0.9, 0.7])"
            ]
          },
          "metadata": {},
          "execution_count": 168
        }
      ]
    },
    {
      "cell_type": "code",
      "execution_count": 274,
      "metadata": {
        "id": "rvpDY1Jc8pAY"
      },
      "outputs": [],
      "source": [
        "import sklearn.metrics\n",
        "X = np.array(X)\n",
        "Y = np.array(Y)\n",
        "indexs = np.arange(len(X))\n",
        "\n",
        "def train_step(A, k):\n",
        "  pred = []\n",
        "  real = []\n",
        "  pred_p = []\n",
        "  global X,Y, accuracy\n",
        "\n",
        "  X_s = X[:int(len(X)*0.3)]\n",
        "  Y_s = Y[:int(len(Y)*0.3)]\n",
        "\n",
        "  r = int(len(X_s)*0.5) #Xs xkouxkoukuntt\n",
        "  npX = np.array(X_s[:r])\n",
        "  npY = np.array(Y_s[:r])\n",
        "  X_val = np.array(X_s[r:])\n",
        "  Y_val = np.array(Y_s[r:])#daxie koukeyangchaojikunasunzkoxu mei zoudaoxkoxkxueyatttxkouxueyakun\n",
        "\n",
        "  error = 0\n",
        "  # TruePositives = 0\n",
        "  # FalseNegatives = 0\n",
        "  # FalsePositives = 0\n",
        "  # TrueNegatives = 0\n",
        "  MSE = 0.0\n",
        "\n",
        "  # print(len(X_s)-r)\n",
        "  for sample in range(len(X_s)-r):  #bushiyigejuzhengyiqizu?xkouyasnaunkunygaikeyid\n",
        "    distance = np.sum(A[1:]*(npX[:,1:] - X_val[sample,1:])**2,axis=1)  #kouke xigaimingbaile chongxingyikan A shi uffushu a  koukekunhaishi hceng A jiuhuiyou abs a \n",
        "    #1819doubuxingjiaosuanzhiqianznmeyangde\n",
        "    # koukexyangnashouyunkun jiaosuan buyong1:yeyoudufushuzhiqianydiyichule A\n",
        "    # print(distance.shape)\n",
        "    # print((npX[0] == X_val[sample][0]))\n",
        "    distance += A[0]*(npX[:,0] == X_val[sample,0]) #heyousuode dxidejuli?buyongsum gaideshihge [sample][1:] vs [sample,1:] koukeyangjiaosauxiaminkunyue\n",
        "    # distance = distance * A  \n",
        "    #nominal distance\n",
        "    sum0 = 0\n",
        "    sum1 = 0\n",
        "    mins = np.argsort(distance)[:k]\n",
        "    sum0 += np.sum(1/(distance[mins]+1))\n",
        "    sum1 += np.sum(1/(distance[mins]+1) * (npY[mins]))\n",
        "    pred.append(1 if sum1/sum0>0.5 else 0)\n",
        "    pred_p.append(sum1/sum0)#kunyunsuankouke zheyangdehuakeyiyachiyansuan dulixiamianyangk uruguoyoufushushuomwentiyanzhongaashouzhangshkunkunshou nashouhshouhzkou\n",
        "    real.append(Y_val[sample]) \n",
        "    # MSE += (sum1/sum0-Y_val[sample])**2\n",
        "    # print(sum1/sum0)\n",
        "  # return distance[mins] distance qusnhifus hshuwhatxkouxkoukunyttyuneixndixiajiale 1\n",
        "  F2 = sklearn.metrics.fbeta_score(real, pred, beta=2)\n",
        "  # return np.sum(A*(npX[:,1:] - X_val[sample][1:])**2,axis=1)  #koukesuankun weism fenpianjiuyuoufushu\n",
        "  # return distance #chaojikunzhangttwhynegative?yang zkxouxkouyangzhiqiandeyeyaogao ditstance doushi -jiewandekxouxk\n",
        "  # return np.sum((npX - X_val[sample])**2,axis=1)  #xkouttttt jiaohwy zhege doushizhende zangxkouduzikun hexiaminmeigunxi zang zangxiezikundu jiaozangbufnenpian jiushizhengde?\n",
        "  # sw = np.swapaxes(np.array([np.ones_like(pred_p)-pred_p,pred_p]),0,1)\n",
        "  # return pred_p #yttkoukewodxiangfameicuo you negative de preo how?\n",
        "  print((np.array(distance)<0).any())#true????tttkunyagxueyayangtttyangkunchaojiyunyunexint\n",
        "  # print(sum1/sum0)\n",
        "  error = -(np.log(np.array(pred_p)+1e-5)+(1-np.array(real))*np.log(1-np.array(pred_p)+1e-5))\n",
        "  #sklearn.metrics.log_loss(real, sw)#wanglehgaixkouyuienxusnakun\n",
        "  # print(MSE)\n",
        "  # print(pred_p)\n",
        "  # return  MSE/(len(X_s)-r), F2 haiyhaoyomgwarjingkoke\n",
        "  return np.sum(error), sklearn.metrics.accuracy_score(real, pred)"
      ]
    },
    {
      "cell_type": "markdown",
      "metadata": {
        "id": "CVTu8XTf8bBm"
      },
      "source": [
        "### Baseline: tradional kNN"
      ]
    },
    {
      "cell_type": "code",
      "execution_count": 261,
      "metadata": {
        "colab": {
          "base_uri": "https://localhost:8080/"
        },
        "id": "OcTB_P6tCwm4",
        "outputId": "258a8d78-c851-4ea7-8a4c-46c424fc9d34"
      },
      "outputs": [
        {
          "output_type": "stream",
          "name": "stdout",
          "text": [
            "False\n"
          ]
        },
        {
          "output_type": "execute_result",
          "data": {
            "text/plain": [
              "(5368.455256902935, 0.8887425938117183)"
            ]
          },
          "metadata": {},
          "execution_count": 261
        }
      ],
      "source": [
        "A = [ 1.23681813,  0.31152102,  0.46241673,  0.25879828,  0.36210078,  0.51283376,\n",
        "  1.1395858,   1.90530383,  1.6163926,   0.41448312,  3.16664808,  2.23804483,\n",
        "  3.16841063,  1.47072341, -0.11594054,  0.21872565,  0.43101711,  0.48073522] # A youfushudanshibushiyou abs A ma \n",
        "train_step(abs(np.array(A)),30) # Baseline Result yangyanjing tt ladatuikun\n",
        "#xtiao kuaiyidiandian?kunxkoukunxkouyunhuanghui xtiaoyachixkouxkoukun huanghutttttkunxianzaibudxinlettsuankungangciashi 0eixnxie\n",
        "# jiaosaun yachikouke haishi buxing whywhwywhydoujiale "
      ]
    },
    {
      "cell_type": "code",
      "source": [
        "A = np.abs(np.random.normal(size=18))"
      ],
      "metadata": {
        "id": "khE89vPViXqG"
      },
      "execution_count": 226,
      "outputs": []
    },
    {
      "cell_type": "markdown",
      "metadata": {
        "id": "oc7xzSG0Fnz2"
      },
      "source": [
        "#### GD kNN"
      ]
    },
    {
      "cell_type": "code",
      "execution_count": 213,
      "metadata": {
        "id": "9q5euRcSF3Cu"
      },
      "outputs": [],
      "source": [
        "import autograd.numpy as np\n",
        "from autograd import grad"
      ]
    },
    {
      "cell_type": "code",
      "execution_count": 257,
      "metadata": {
        "id": "tfA80yLXFx6I"
      },
      "outputs": [],
      "source": [
        "def d(A):\n",
        "  return train_step(np.abs(A),30)[0] #koukekuzhahyegeyaochongxingrunyunkoukeeix       exinxkoukunkouke band huiyiacsi kunkoukeyangzhiqianbabsmeiwenitleng\n",
        "train_grad = grad(d)\n",
        "#chaojiyunkunyunyaonpabs zhiqianiey"
      ]
    },
    {
      "cell_type": "code",
      "execution_count": 201,
      "metadata": {
        "id": "UH8xmFfDFzfg"
      },
      "outputs": [],
      "source": [
        "def X_shuffle(X):\n",
        "  return np.append(X[len(X)//10:,:],X[:len(X)//10,:],axis=0)\n",
        "\n",
        "def shuffle(X):\n",
        "  return np.append(X[len(X)//10:],X[:len(X)//10])"
      ]
    },
    {
      "cell_type": "code",
      "execution_count": 202,
      "metadata": {
        "id": "TQhP7mIMF_7o"
      },
      "outputs": [],
      "source": [
        "X_old = np.copy(X)\n",
        "Y_old = np.copy(Y)"
      ]
    },
    {
      "cell_type": "code",
      "execution_count": 290,
      "metadata": {
        "id": "ANmdO5xqlBDC"
      },
      "outputs": [],
      "source": [
        "A = np.ones(19)\n",
        "#kunkoukekeyi learningrate"
      ]
    },
    {
      "cell_type": "code",
      "source": [
        "alpha = 0.8 # if it is 1, it can learn fast at the begining but the loss will increase after step over the min\n",
        "losses = []\n",
        "FList = []\n",
        "v_losses = []\n",
        "v_FList = []\n",
        "A = np.abs(np.random.normal(size=19))"
      ],
      "metadata": {
        "id": "02IEWiT8mybb"
      },
      "execution_count": 289,
      "outputs": []
    },
    {
      "cell_type": "code",
      "source": [
        "alpha=1"
      ],
      "metadata": {
        "id": "ixjD8q-ApJFL"
      },
      "execution_count": 293,
      "outputs": []
    },
    {
      "cell_type": "code",
      "execution_count": 294,
      "metadata": {
        "colab": {
          "base_uri": "https://localhost:8080/",
          "height": 1000
        },
        "id": "NP3fbF8IFpti",
        "outputId": "decf693c-5f7e-4bb9-cb45-83d4af6d27b1"
      },
      "outputs": [
        {
          "output_type": "stream",
          "name": "stdout",
          "text": [
            "False\n",
            "[  1.02115993   3.4638325    1.02019721   1.11757649   1.22726889\n",
            "   1.1545595    1.02076049   4.25942891   1.12448508   1.05633406\n",
            "   1.09159647  22.63787244  20.28590413  22.06193642   1.00505743\n",
            " 149.18155198   4.78403213   1.0096856    1.00000036]\n",
            "False\n",
            "False\n",
            "[  1.02116268   3.46495639   1.02020016   1.11760689   1.22731493\n",
            "   1.15460315   1.02076621   4.26211282   1.12451707   1.05636555\n",
            "   1.09162279  22.81166188  20.4558242   22.22107863   1.00505836\n",
            " 149.10837154   4.78599528   1.00968651   1.00000036]\n",
            "False\n",
            "False\n",
            "[  1.0211695    3.48671522   1.02020549   1.11758846   1.22737718\n",
            "   1.15473767   1.02077438   4.2784176    1.12533974   1.05669022\n",
            "   1.09177559  22.98742887  20.66964258  22.45020213   1.00506507\n",
            " 149.01571387   4.82666329   1.00969531   1.00000037]\n",
            "False\n",
            "False\n",
            "[  1.02117336   3.48730286   1.02020725   1.11758588   1.22739369\n",
            "   1.15476308   1.02077897   4.27942598   1.1253983    1.05667404\n",
            "   1.09178238  23.4517313   20.87780535  22.91147451   1.00506537\n",
            " 148.84564728   4.8276338    1.00969532   1.00000037]\n",
            "False\n",
            "False\n",
            "[  1.02119017   3.50610249   1.0205827    1.11818272   1.23056788\n",
            "   1.16271118   1.02364662   4.31367347   1.12833169   1.05706705\n",
            "   1.09255012  24.95663011  22.89316716  23.88930846   1.00514461\n",
            " 148.16384483   5.13348429   1.00980401   1.00000048]\n",
            "False\n",
            "False\n",
            "[  1.02123373   3.52807989   1.0206092    1.11902269   1.23159961\n",
            "   1.16303047   1.02370299   4.34649091   1.13179848   1.05744262\n",
            "   1.09468251  26.88971816  24.52101787  26.05422974   1.00517737\n",
            " 147.23395001   5.19580067   1.00987388   1.00000048]\n",
            "False\n",
            "False\n",
            "[  1.02318217   3.60642045   1.02232391   1.12425143   1.2740653\n",
            "   1.1690697    1.02380047   4.53160564   1.13867566   1.06015457\n",
            "   1.09755782  27.09741654  24.88972735  26.35699569   1.00606333\n",
            " 147.0694555    5.2988786    1.01197765   1.00000047]\n",
            "False\n",
            "False\n",
            "[  1.02441097   3.73450276   1.0232102    1.12836764   1.28055882\n",
            "   1.17824379   1.02388935   4.70828284   1.14164742   1.06086869\n",
            "   1.10155671  27.67994239  25.12056879  27.0708244    1.00610583\n",
            " 146.78181172   5.42339762   1.01213049   1.00000046]\n",
            "False\n",
            "False\n",
            "[  1.02495232   3.87417254   1.02348607   1.13325239   1.28302476\n",
            "   1.18330872   1.02439924   4.91795883   1.1454912    1.06308645\n",
            "   1.10358607  27.9484479   25.32540791  27.11163972   1.00614384\n",
            " 146.67492809   5.51019373   1.01219182   1.00000042]\n",
            "False\n",
            "False\n",
            "[  1.02574479   3.84539913   1.02420614   1.13267203   1.28506797\n",
            "   1.1829487    1.02441246   4.89948267   1.1485737    1.06656502\n",
            "   1.11046074  28.01990667  25.3944113   27.19354625   1.00617871\n",
            " 146.63396695   5.55125893   1.01222773   1.00000041]\n",
            "False\n",
            "0.8774851876234365\n",
            "13272.448708290709\n",
            "----------------------\n",
            "False\n",
            "[  1.02577577   3.84699725   1.02423464   1.13280903   1.28516075\n",
            "   1.18298976   1.02441444   4.90148595   1.14858697   1.06656868\n",
            "   1.11071343  28.10877786  25.45628016  27.23620229   1.00617972\n",
            " 146.59808291   5.55556102   1.01223166   1.00000041]\n",
            "False\n",
            "False\n",
            "[  1.02577815   3.84784494   1.02423697   1.13283203   1.28519715\n",
            "   1.18302283   1.02441886   4.90353252   1.14861179   1.06659262\n",
            "   1.11073442  28.23554933  25.58740695  27.37124666   1.00618044\n",
            " 146.52576105   5.55722716   1.01223237   1.00000041]\n",
            "False\n",
            "False\n",
            "[  1.02578403   3.86553349   1.02424151   1.13281888   1.28525375\n",
            "   1.18313782   1.02442561   4.91673267   1.14926853   1.06684887\n",
            "   1.11086234  28.36033104  25.73931897  27.53993433   1.00618579\n",
            " 146.4415156    5.59004329   1.01223939   1.00000041]\n",
            "False\n",
            "False\n",
            "[  1.02578705   3.8660303    1.02424289   1.13281587   1.28526512\n",
            "   1.18315794   1.02442923   4.91757438   1.14931602   1.06683312\n",
            "   1.11086889  28.71152571  25.91569615  27.89785068   1.00618598\n",
            " 146.27512392   5.59070171   1.01223938   1.00000041]\n",
            "False\n",
            "False\n",
            "[  1.02579974   3.88066427   1.02452699   1.13327925   1.28763054\n",
            "   1.18908152   1.02656324   4.94322347   1.15150986   1.06712865\n",
            "   1.11147572  29.78281468  27.35241634  28.62339868   1.00624772\n",
            " 145.66187394   5.81791547   1.01232817   1.0000005 ]\n",
            "False\n",
            "False\n",
            "[  1.02583626   3.89863214   1.0245489    1.13396168   1.28844787\n",
            "   1.18932044   1.02660601   4.97038431   1.15432812   1.06741894\n",
            "   1.11320229  31.35836344  28.45916391  30.22125083   1.0062728\n",
            " 144.8144675    5.86781914   1.012382     1.00000049]\n",
            "False\n",
            "False\n",
            "[  1.0273886    3.96296021   1.02590753   1.13825443   1.32199778\n",
            "   1.19425438   1.02668927   5.11643881   1.15976244   1.06959311\n",
            "   1.11553327  31.58670744  28.75887469  30.52377615   1.00697292\n",
            " 144.63238005   5.95080352   1.01404423   1.00000048]\n",
            "False\n",
            "False\n",
            "[  1.0283714    4.06553818   1.02662916   1.14158146   1.32725454\n",
            "   1.20163282   1.02676471   5.25579124   1.16212665   1.0701548\n",
            "   1.11866982  32.00046118  28.96341638  31.07521924   1.00700745\n",
            " 144.37296604   6.04940416   1.01417259   1.00000047]\n",
            "False\n",
            "False\n",
            "[  1.02882255   4.1751598    1.02685304   1.14553696   1.32928353\n",
            "   1.2057567    1.02719492   5.42093357   1.16517337   1.07189796\n",
            "   1.12035597  32.20555901  29.13119388  31.1203947    1.00703838\n",
            " 144.27202225   6.11748378   1.01422303   1.00000045]\n",
            "False\n",
            "False\n",
            "[  1.02949356   4.15237068   1.02746556   1.14512053   1.33098538\n",
            "   1.2055045    1.02720649   5.40654259   1.16776941   1.07483735\n",
            "   1.12621427  32.26707561  29.19050019  31.17724598   1.0070677\n",
            " 144.23372724   6.15079169   1.01425246   1.00000044]\n",
            "False\n",
            "0.8800526662277817\n",
            "13127.845804779365\n",
            "----------------------\n",
            "False\n",
            "[  1.02951923   4.15373759   1.02748923   1.14523641   1.33106137\n",
            "   1.20553582   1.0272079    5.40821736   1.16777944   1.07483981\n",
            "   1.12642612  32.33387439  29.2346574   31.22003151   1.00706856\n",
            " 144.20034175   6.15431481   1.01425575   1.00000044]\n",
            "False\n",
            "False\n",
            "[  1.02952116   4.15441763   1.02749105   1.14525407   1.33109091\n",
            "   1.2055609    1.02721153   5.4098461    1.16779975   1.07485964\n",
            "   1.12644309  32.42149731  29.33407611  31.32000954   1.00706915\n",
            " 144.1387528    6.15567394   1.01425629   1.00000044]\n",
            "False\n",
            "False\n",
            "[  1.02952612   4.16890173   1.02749487   1.14524244   1.33114094\n",
            "   1.20565932   1.02721719   5.42061298   1.16833697   1.07506645\n",
            "   1.12655062  32.5276479   29.44750077  31.45121964   1.00707348\n",
            " 144.06130736   6.1824739    1.01426199   1.00000044]\n",
            "False\n",
            "False\n",
            "[  1.02952858   4.16934047   1.02749598   1.14523976   1.3311497\n",
            "   1.20567563   1.02722011   5.42134365   1.16837651   1.07505209\n",
            "   1.12655666  32.79694229  29.58926856  31.71440551   1.00707362\n",
            " 143.91400429   6.18297085   1.01426197   1.00000044]\n",
            "False\n",
            "False\n",
            "[  1.02953861   4.18111439   1.02771928   1.14561094   1.3329857\n",
            "   1.21027614   1.02887557   5.4413763    1.170085     1.07528342\n",
            "   1.12704923  33.49534341  30.63640437  32.20554461   1.0071234\n",
            " 143.42256326   6.35900722   1.0143357    1.00000051]\n",
            "False\n",
            "False\n",
            "[  1.02956823   4.19608953   1.02773721   1.14616205   1.33362427\n",
            "   1.21046788   1.02890966   5.46416679   1.17241705   1.07552073\n",
            "   1.12847064  34.66730745  31.40712868  33.35437621   1.00714372\n",
            " 142.72309801   6.39981655   1.01437725   1.00000051]\n",
            "False\n",
            "False\n",
            "[  1.03082861   4.24970831   1.02883452   1.1497277    1.36067697\n",
            "   1.21455223   1.02898165   5.58264394   1.17680838   1.07729488\n",
            "   1.13039381  34.87535332  31.65683887  33.6185329    1.00770797\n",
            " 142.54629045   6.46794011   1.01571769   1.0000005 ]\n",
            "False\n",
            "False\n",
            "[  1.03163475   4.33351308   1.02944026   1.15246902   1.36517416\n",
            "   1.22064602   1.02904607   5.69529718   1.17874017   1.07776234\n",
            "   1.13293627  35.20583132  31.80217107  34.03008609   1.00773792\n",
            " 142.32524411   6.55097197   1.01582322   1.00000049]\n",
            "False\n",
            "False\n",
            "[  1.03201382   4.42173661   1.02962544   1.15572085   1.36687075\n",
            "   1.22405803   1.02941048   5.82846353   1.18121348   1.07916566\n",
            "   1.13435711  35.36653964  31.92261972  34.06968504   1.00776356\n",
            " 142.23843697   6.60593868   1.01586525   1.00000047]\n",
            "False\n",
            "False\n",
            "[  1.03258016   4.40385686   1.0301524    1.15542483   1.36826839\n",
            "   1.22388761   1.02942048   5.81730603   1.18339204   1.08164492\n",
            "   1.13936338  35.41106443  31.96853838  34.13721427   1.00778943\n",
            " 142.20051318   6.63365312   1.01588964   1.00000046]\n",
            "False\n",
            "0.8813034891375906\n",
            "13059.383521854648\n",
            "----------------------\n",
            "False\n",
            "[  1.03260169   4.40505035   1.03017223   1.15552368   1.3683335\n",
            "   1.22391276   1.02942184   5.81872454   1.18340017   1.08164684\n",
            "   1.13954199  35.47285761  32.00067007  34.17433157   1.00779017\n",
            " 142.16875341   6.63663513   1.0158924    1.00000046]\n",
            "False\n",
            "False\n",
            "[  1.03260308   4.40608962   1.03017619   1.15558036   1.36836854\n",
            "   1.22399885   1.0294277    5.82087191   1.1834269    1.08166577\n",
            "   1.139567    35.54066956  32.08340023  34.25337406   1.00779064\n",
            " 142.11403943   6.63770433   1.01589283   1.00000047]\n",
            "False\n",
            "False\n",
            "[  1.0326073    4.41804643   1.03017942   1.15556912   1.36841074\n",
            "   1.22408303   1.02943247   5.82973534   1.18386793   1.08183464\n",
            "   1.13965762  35.63077038  32.17175394  34.36426183   1.00779419\n",
            " 142.04305984   6.65980297   1.01589747   1.00000047]\n",
            "False\n",
            "False\n",
            "[  1.03260932   4.41841257   1.03018032   1.15556656   1.36841729\n",
            "   1.22409631   1.02943488   5.83035287   1.18390083   1.08182171\n",
            "   1.13966296  35.842971    32.27916291  34.56715291   1.00779429\n",
            " 141.91636378   6.66016468   1.01589745   1.00000047]\n",
            "False\n",
            "False\n",
            "[  1.03261583   4.42785082   1.03035785   1.15587055   1.36987775\n",
            "   1.22774468   1.03074894   5.84615734   1.18524589   1.08200577\n",
            "   1.14006804  36.38675539  33.10106423  35.01137245   1.00783464\n",
            " 141.47634614   6.79895964   1.01595915   1.00000052]\n",
            "False\n",
            "False\n",
            "[  1.03264057   4.44045306   1.03037386   1.15632372   1.37041264\n",
            "   1.22790046   1.03077663   5.86534586   1.18719667   1.08220363\n",
            "   1.14124758  37.30888338  33.70628043  35.86390693   1.00785177\n",
            " 140.88374412   6.83287966   1.0159955    1.00000051]\n",
            "False\n",
            "False\n",
            "[  1.03367676   4.48521524   1.0312718    1.1592992    1.39247615\n",
            "   1.23132243   1.03083812   5.9621144    1.19078758   1.08367074\n",
            "   1.14284542  37.48739099  33.91463872  36.08466936   1.00831189\n",
            " 140.72189245   6.88924558   1.01708911   1.00000051]\n",
            "False\n",
            "False\n",
            "[  1.03434756   4.55385263   1.03177612   1.16158069   1.39625378\n",
            "   1.23638796   1.03089303   6.05461699   1.1923884    1.08408202\n",
            "   1.14492472  37.7519243   34.02158929  36.40700331   1.00833733\n",
            " 140.53336175   6.95814342   1.01717646   1.0000005 ]\n",
            "False\n",
            "False\n",
            "[  1.03466745   4.62587982   1.03193071   1.16427946   1.39767658\n",
            "   1.23923267   1.03120206   6.16345015   1.19442318   1.0852272\n",
            "   1.14612242  37.8822816   34.11233506  36.42728353   1.00835872\n",
            " 140.46175986   7.00318771   1.01721161   1.00000049]\n",
            "False\n",
            "False\n",
            "[  1.03515075   4.61180871   1.03237884   1.16411385   1.39883974\n",
            "   1.23911161   1.03121072   6.15444008   1.19626396   1.08732874\n",
            "   1.15038688  37.92545607  34.15091032  36.48519215   1.0083808\n",
            " 140.42533987   7.02649643   1.01723197   1.00000048]\n",
            "False\n",
            "0.8822909809084925\n",
            "12992.826288194383\n",
            "----------------------\n",
            "False\n",
            "[  1.03518215   4.61331374   1.03239553   1.16419769   1.39890854\n",
            "   1.23914549   1.03121185   6.15996034   1.19628367   1.08733067\n",
            "   1.15055143  37.97887211  34.17948828  36.52032305   1.00838146\n",
            " 140.39436161   7.03007318   1.01723439   1.00000048]\n",
            "False\n",
            "False\n",
            "[  1.03518328   4.61415552   1.03239866   1.16424243   1.39893761\n",
            "   1.23921363   1.03121663   6.16171889   1.19630563   1.0873465\n",
            "   1.1505719   38.03451687  34.25104206  36.58458867   1.00838185\n",
            " 140.34501996   7.03097133   1.01723474   1.00000048]\n",
            "False\n",
            "False\n",
            "[  1.03518684   4.62399845   1.03240171   1.1642354    1.39897538\n",
            "   1.23928836   1.03122096   6.16900047   1.19667091   1.08748505\n",
            "   1.15064839  38.11480935  34.3190743   36.67783802   1.00838475\n",
            " 140.28078467   7.04923303   1.01723855   1.00000049]\n",
            "False\n",
            "False\n",
            "[  1.03518855   4.6243162    1.03240248   1.16423322   1.39898107\n",
            "   1.23929954   1.03122299   6.16952914   1.1966987    1.08747376\n",
            "   1.1506535   38.28391205  34.41073079  36.84694527   1.00838483\n",
            " 140.16815235   7.04951614   1.01723853   1.00000049]\n",
            "False\n",
            "False\n",
            "[  1.03519386   4.63212752   1.03254689   1.16448508   1.400162\n",
            "   1.24224403   1.03228274   6.18237218   1.19778562   1.08762367\n",
            "   1.15099076  38.72726688  35.09366869  37.24748176   1.00841834\n",
            " 139.76759496   7.16140886   1.01729048   1.00000053]\n",
            "False\n",
            "False\n",
            "[  1.0352145    4.64294225   1.03256037   1.16486305   1.40060898\n",
            "   1.2423735    1.03230541   6.19865468   1.19942242   1.08778915\n",
            "   1.15197537  39.48249266  35.57690298  37.9191065    1.00843332\n",
            " 139.25545624   7.18965203   1.01732068   1.00000053]\n",
            "False\n",
            "False\n",
            "[  1.03607255   4.68058144   1.0333014    1.16736352   1.418789\n",
            "   1.24524206   1.03235807   6.27874184   1.20238345   1.08900981\n",
            "   1.15331096  39.63760668  35.75172695  38.11560748   1.00881223\n",
            " 139.10575527   7.23665346   1.01822168   1.00000052]\n",
            "False\n",
            "False\n",
            "[  1.03662883   4.73709165   1.03372227   1.16926722   1.42195436\n",
            "   1.24945682   1.03240521   6.35486906   1.20370879   1.08935229\n",
            "   1.15502159  39.85180876  35.84003173  38.38267104   1.00883362\n",
            " 138.94041864   7.29360602   1.01829417   1.00000052]\n",
            "False\n",
            "False\n",
            "[  1.03689927   4.79537856   1.03384178   1.1714773    1.42314927\n",
            "   1.25167962   1.03266742   6.44282674   1.20530636   1.09028585\n",
            "   1.15602257  39.93741911  35.92451556  38.41266934   1.0088516\n",
            " 138.87788478   7.32787685   1.01832326   1.00000051]\n",
            "False\n",
            "False\n",
            "[  1.0373094    4.78397194   1.03422322   1.1713577    1.42412939\n",
            "   1.25159424   1.0326749    6.43565625   1.20686708   1.09207615\n",
            "   1.15965116  39.97798395  35.95236878  38.46869173   1.00887027\n",
            " 138.84313366   7.34752791   1.01834034   1.0000005 ]\n",
            "False\n",
            "0.8816984858459513\n",
            "12933.77748165958\n",
            "----------------------\n",
            "False\n",
            "[  1.03733594   4.78529943   1.03423727   1.17142958   1.42418873\n",
            "   1.25162239   1.03267598   6.44037038   1.20688393   1.09207787\n",
            "   1.1597907   40.03427772  35.98302799  38.51159015   1.00887083\n",
            " 138.80667278   7.35054438   1.01834238   1.0000005 ]\n",
            "False\n",
            "False\n",
            "[  1.03733689   4.78599179   1.0342398    1.17146567   1.4242125\n",
            "   1.25167726   1.03267992   6.44181137   1.2069019    1.09209102\n",
            "   1.1598072   40.08061651  36.04424931  38.56579116   1.00887116\n",
            " 138.76226728   7.35129752   1.01834267   1.0000005 ]\n",
            "False\n",
            "False\n",
            "[  1.03733927   4.79420602   1.03424239   1.17145924   1.42424468\n",
            "   1.2517413    1.03268301   6.44780979   1.20720079   1.09220343\n",
            "   1.15987203  40.15138744  36.09910046  38.63941369   1.00887356\n",
            " 138.70574502   7.36647267   1.01834582   1.0000005 ]\n",
            "False\n",
            "False\n",
            "[  1.03734069   4.79447648   1.03424302   1.17145737   1.42424935\n",
            "   1.25175059   1.03268471   6.44825689   1.20722412   1.09219382\n",
            "   1.15987657  40.28970091  36.17322887  38.77707842   1.00887362\n",
            " 138.60802279   7.36670071   1.01834581   1.0000005 ]\n",
            "False\n",
            "False\n",
            "[  1.03734507   4.80098254   1.03436168   1.171666     1.4252141\n",
            "   1.25415441   1.03354943   6.45878257   1.20811289   1.0923165\n",
            "   1.160158    40.64619557  36.71983749  39.10355774   1.00890161\n",
            " 138.26479308   7.45797076   1.01838965   1.00000054]\n",
            "False\n",
            "False\n",
            "[  1.03736254   4.81017725   1.03437328   1.17198236   1.42559009\n",
            "   1.25426456   1.03356838   6.47251243   1.20947584   1.0924562\n",
            "   1.16097846  41.23464214  37.09713443  39.65360019   1.00891456\n",
            " 137.83378483   7.48149226   1.01841643   1.00000054]\n",
            "False\n",
            "False\n",
            "[  1.03808745   4.84476902   1.03499582   1.17410684   1.44095347\n",
            "   1.25672263   1.03361592   6.5426184    1.2119964    1.09348651\n",
            "   1.16213351  41.36446406  37.25501545  39.8284521    1.00923274\n",
            " 137.69521475   7.52151615   1.01917325   1.00000053]\n",
            "False\n",
            "False\n",
            "[  1.03861934   4.8981424    1.03540841   1.17666752   1.44357724\n",
            "   1.2608554    1.03365131   6.61356874   1.21372839   1.09382533\n",
            "   1.16383649  41.54981501  37.32246325  40.04712543   1.00925169\n",
            " 137.55006916   7.56880638   1.0192354    1.00000053]\n",
            "False\n",
            "False\n",
            "[  1.03884878   4.94646383   1.03550955   1.17851678   1.44458778\n",
            "   1.26272749   1.03387355   6.68654896   1.21506294   1.09459893\n",
            "   1.16468432  41.62563382  37.38908453  40.0838773    1.00926688\n",
            " 137.49151221   7.59736146   1.01926002   1.00000052]\n",
            "False\n",
            "False\n",
            "[  1.03920566   4.93755255   1.03583397   1.17843468   1.44544572\n",
            "   1.262662     1.03387998   6.68204933   1.2163822    1.09615262\n",
            "   1.1677792   41.65198453  37.41813457  40.13506335   1.00928262\n",
            " 137.46027016   7.61393098   1.01927437   1.00000052]\n",
            "False\n",
            "0.8822251481237655\n",
            "12884.819725467398\n",
            "----------------------\n",
            "False\n",
            "[  1.03922804   4.93868075   1.03584583   1.17849577   1.44549598\n",
            "   1.26268547   1.03388089   6.68602451   1.21639626   1.09615403\n",
            "   1.16789734  41.69461365  37.44236418  40.16796906   1.00928309\n",
            " 137.43077161   7.61648749   1.01927611   1.00000052]\n",
            "False\n",
            "False\n",
            "[  1.03922884   4.93925217   1.0358479    1.17852516   1.44551578\n",
            "   1.26273009   1.03388414   6.68721449   1.2164112    1.09616502\n",
            "   1.16791095  41.73351736  37.49440699  40.21419878   1.00928337\n",
            " 137.39116325   7.61711999   1.01927635   1.00000052]\n",
            "False\n",
            "False\n",
            "[  1.03923089   4.94498679   1.03585011   1.17851449   1.44554328\n",
            "   1.2627799    1.03388677   6.69190708   1.21664092   1.0962536\n",
            "   1.16794577  41.79303931  37.54063947  40.28034252   1.0092853\n",
            " 137.34013907   7.62664941   1.01927876   1.00000052]\n",
            "False\n",
            "False\n",
            "[  1.03923208   4.9452189    1.03585065   1.17851285   1.44554722\n",
            "   1.26278775   1.03388822   6.69228911   1.21666072   1.09624525\n",
            "   1.16794977  41.90952832  37.60449566  40.39822198   1.00928535\n",
            " 137.25262635   7.62683437   1.01927874   1.00000052]\n",
            "False\n",
            "False\n",
            "[  1.03923579   4.95067497   1.0359485    1.17868711   1.44633886\n",
            "   1.26475698   1.03459623   6.70095193   1.21739206   1.09634622\n",
            "   1.1681856   42.20823037  38.07073737  40.67745813   1.00930881\n",
            " 136.94666966   7.70162155   1.01931581   1.00000055]\n",
            "False\n",
            "False\n",
            "[  1.03924957   4.9579209    1.03595785   1.17894134   1.44665592\n",
            "   1.26484624   1.03461187   6.71270148   1.21853872   1.09646304\n",
            "   1.16887595  42.75570505  38.39073856  41.16153356   1.00932013\n",
            " 136.54322916   7.72113311   1.0193403    1.00000055]\n",
            "False\n",
            "False\n",
            "[  1.03985631   4.98746507   1.03647702   1.18073748   1.45945439\n",
            "   1.26691741   1.0346524    6.77175966   1.22064095   1.0973296\n",
            "   1.16984835  42.8729509   38.5318784   41.31093357   1.00958521\n",
            " 136.41568854   7.75482957   1.01997094   1.00000055]\n",
            "False\n",
            "False\n",
            "[  1.0403041    5.03159289   1.03682623   1.18289116   1.46165968\n",
            "   1.27042317   1.03468264   6.83160524   1.22207639   1.09760496\n",
            "   1.17127728  43.02192991  38.58657879  41.48884653   1.00960118\n",
            " 136.29256495   7.7948761    1.02002304   1.00000054]\n",
            "False\n",
            "False\n",
            "[  1.04049856   5.07177875   1.03691102   1.18444111   1.46251034\n",
            "   1.27200434   1.03487151   6.89238503   1.22319249   1.09824755\n",
            "   1.17199411  43.0840311   38.6509923   41.52679735   1.00961394\n",
            " 136.23720718   7.81884012   1.02004365   1.00000054]\n",
            "False\n",
            "False\n",
            "[  1.04080183   5.06442233   1.03718699   1.18438146   1.46323299\n",
            "   1.2719552    1.03487703   6.88875495   1.22431044   1.09956627\n",
            "   1.17462614  43.10764705  38.67715625  41.56969964   1.00962727\n",
            " 136.20883988   7.8327738    1.02005577   1.00000054]\n",
            "False\n",
            "0.8818301514154049\n",
            "12833.03182778685\n",
            "----------------------\n",
            "False\n",
            "[  1.04082075   5.06537464   1.03719702   1.18443331   1.46327461\n",
            "   1.27197467   1.03487779   6.89210647   1.22432205   1.09956732\n",
            "   1.17472616  43.14079746  38.69476316  41.59538828   1.00962767\n",
            " 136.18517796   7.83492232   1.02005724   1.00000054]\n",
            "False\n",
            "False\n",
            "[  1.04082143   5.06585345   1.03719874   1.18445783   1.46329134\n",
            "   1.27201177   1.03488051   6.89310038   1.22433457   1.09957658\n",
            "   1.17473759  43.17374082  38.74055791  41.63464067   1.0096279\n",
            " 136.14964096   7.83546471   1.02005744   1.00000054]\n",
            "False\n",
            "False\n",
            "[  1.04082319   5.07065705   1.03720065   1.18444852   1.46331484\n",
            "   1.27205437   1.03488274   6.89703269   1.22452728   1.0996506\n",
            "   1.17476704  43.21905871  38.77688435  41.68551387   1.00962951\n",
            " 136.10853797   7.84341859   1.02005945   1.00000054]\n",
            "False\n",
            "False\n",
            "[  1.04082419   5.0708585    1.0372011    1.18444712   1.4633182\n",
            "   1.27206097   1.03488396   6.89735756   1.22454405   1.09964337\n",
            "   1.17477055  43.31405277  38.82944906  41.78144743   1.00962955\n",
            " 136.03398432   7.84357212   1.02005944   1.00000054]\n",
            "False\n",
            "False\n",
            "[  1.04082736   5.07545745   1.03728256   1.18459382   1.46397637\n",
            "   1.27369277   1.03547037   6.90456615   1.22515122   1.09972768\n",
            "   1.17496944  43.61429011  39.24548152  42.07583295   1.00964929\n",
            " 135.72506991   7.90553799   1.02009083   1.00000056]\n",
            "False\n",
            "False\n",
            "[  1.04083903   5.08163238   1.03729069   1.18480721   1.46424435\n",
            "   1.27376761   1.03548347   6.91457982   1.22611275   1.09982603\n",
            "   1.17554834  44.05882058  39.51111172  42.48830954   1.00965904\n",
            " 135.37582651   7.92195499   1.02011161   1.00000056]\n",
            "False\n",
            "False\n",
            "[  1.04135138   5.10664283   1.03772625   1.18633797   1.47498448\n",
            "   1.27551771   1.03551802   6.96440521   1.2278762    1.10056552\n",
            "   1.1763718   44.15789467  39.63357419  42.6157567    1.00988146\n",
            " 135.26247584   7.95079199   1.02064049   1.00000056]\n",
            "False\n",
            "False\n",
            "[  1.04172684   5.14351236   1.03802037   1.18814471   1.47678341\n",
            "   1.27845879   1.03553725   7.01442433   1.2290668    1.10079612\n",
            "   1.17755859  44.280839    39.68017992  42.75873061   1.00989478\n",
            " 135.15762416   7.98398008   1.02068382   1.00000056]\n",
            "False\n",
            "False\n",
            "[  1.04189207   5.17710049   1.03809235   1.18945096   1.47750572\n",
            "   1.27979896   1.03569785   7.06524917   1.23000567   1.10133401\n",
            "   1.17816766  44.3340395   39.73306837  42.79339436   1.00990556\n",
            " 135.10854402   8.00404159   1.02070126   1.00000056]\n",
            "False\n",
            "False\n",
            "[  1.04214997   5.17102652   1.03832734   1.1894076    1.47811708\n",
            "   1.27976375   1.03570272   7.06232481   1.23095454   1.10245465\n",
            "   1.1804081   44.35528909  39.75759068  42.82542576   1.00991687\n",
            " 135.08385236   8.01583243   1.02071149   1.00000056]\n",
            "False\n",
            "0.8820276497695853\n",
            "12785.949713337788\n",
            "----------------------\n",
            "False\n",
            "[  1.04216598   5.17184823   1.03833584   1.18945207   1.47815287\n",
            "   1.27978035   1.03570337   7.06520267   1.23096494   1.1024558\n",
            "   1.18049303  44.38374227  39.77405652  42.84957327   1.00991721\n",
            " 135.06171506   8.0176681    1.02071275   1.00000056]\n",
            "False\n",
            "False\n",
            "[  1.04216657   5.172248     1.03833726   1.18947237   1.47816671\n",
            "   1.27981081   1.03570563   7.06603171   1.2309751    1.10246356\n",
            "   1.18050252  44.41461194  39.81011183  42.88274761   1.00991741\n",
            " 135.03034098   8.01813016   1.02071292   1.00000056]\n",
            "False\n",
            "False\n",
            "[  1.04216807   5.17627477   1.03833886   1.18946419   1.47818676\n",
            "   1.27984713   1.03570754   7.06933152   1.23113646   1.10252546\n",
            "   1.18052741  44.45357448  39.83859211  42.9256308    1.00991876\n",
            " 134.99478481   8.02478669   1.0207146    1.00000056]\n",
            "False\n",
            "False\n",
            "[  1.0421689    5.17644565   1.03833923   1.1894629    1.4781893\n",
            "   1.27985254   1.03570856   7.0696059    1.2311506    1.10251919\n",
            "   1.18053041  44.52911786  39.88000972  43.00081321   1.00991878\n",
            " 134.93375087   8.02490716   1.02071459   1.00000056]\n",
            "False\n",
            "False\n",
            "[  1.0421716    5.18031978   1.03840736   1.18958678   1.47873696\n",
            "   1.2812107    1.03619649   7.07561383   1.23165586   1.10258954\n",
            "   1.18069919  44.77188963  40.22524215  43.24516162   1.00993542\n",
            " 134.67016563   8.07652849   1.02074119   1.00000058]\n",
            "False\n",
            "False\n",
            "[  1.04218119   5.18556512   1.03841396   1.18975554   1.47895137\n",
            "   1.2812739    1.03620746   7.08416467   1.23246475   1.10267369\n",
            "   1.18118284  45.15124445  40.4561422   43.59609298   1.00994378\n",
            " 134.36088931   8.09035962   1.02075878   1.00000058]\n",
            "False\n",
            "False\n",
            "[  1.04261215   5.20679555   1.03877984   1.19105251   1.48796049\n",
            "   1.28275455   1.03623695   7.12608308   1.23394568   1.10329617\n",
            "   1.18187859  45.23254289  40.55429241  43.70483902   1.01013071\n",
            " 134.26407383   8.11466122   1.0212023    1.00000058]\n",
            "False\n",
            "False\n",
            "[  1.04292811   5.23774578   1.03902939   1.19258104   1.48949022\n",
            "   1.28523888   1.03625334   7.16806481   1.23494821   1.10349163\n",
            "   1.18287895  45.33522515  40.59416162  43.82161166   1.01014213\n",
            " 134.17423313   8.14252281   1.02123876   1.00000058]\n",
            "False\n",
            "False\n",
            "[  1.04306806   5.26495871   1.0390897    1.19367649   1.49009734\n",
            "   1.28633901   1.03638909   7.20867601   1.23572579   1.10393252\n",
            "   1.18339318  45.38612282  40.63454261  43.85768075   1.0101512\n",
            " 134.12882555   8.15790916   1.02125337   1.00000057]\n",
            "False\n",
            "False\n",
            "[  1.04328737   5.25992299   1.03928976   1.19364473   1.49061535\n",
            "   1.28631336   1.03639327   7.20629206   1.23653107   1.10488503\n",
            "   1.18530011  45.40117731  40.65329785  43.88192678   1.01016082\n",
            " 134.10979752   8.16789773   1.02126208   1.00000057]\n",
            "False\n",
            "0.8824884792626728\n",
            "12753.763075314682\n",
            "----------------------\n",
            "False\n",
            "[  1.04330095   5.2606201    1.03929697   1.19368236   1.49064588\n",
            "   1.28632736   1.03639381   7.20872727   1.23653989   1.10488594\n",
            "   1.18537216  45.42388432  40.66703087  43.90188859   1.01016112\n",
            " 134.09116063   8.16945879   1.02126315   1.00000057]\n",
            "False\n",
            "False\n",
            "[  1.0433012    5.26082364   1.03929808   1.19369734   1.49065339\n",
            "   1.28635082   1.03639483   7.20903796   1.23654524   1.10488887\n",
            "   1.18537709  45.44735556  40.68439038  43.91715924   1.01016119\n",
            " 134.07291458   8.16954681   1.02126329   1.00000057]\n",
            "False\n",
            "False\n",
            "[  1.0433025    5.26421216   1.03929944   1.19369035   1.49067049\n",
            "   1.28638181   1.03639645   7.21181923   1.23668103   1.10494091\n",
            "   1.1853982   45.48278362  40.71064559  43.95279808   1.01016232\n",
            " 134.04063882   8.17513532   1.0212647    1.00000057]\n",
            "False\n",
            "False\n",
            "[  1.04330321   5.26435749   1.03929974   1.19368922   1.49067275\n",
            "   1.28638636   1.03639733   7.212053     1.2366931    1.10493551\n",
            "   1.18540081  45.54526254  40.74566365  44.01631204   1.01016235\n",
            " 133.98795143   8.17523777   1.02126468   1.00000057]\n",
            "False\n",
            "False\n",
            "[  1.0433055    5.26763373   1.03935687   1.1937941    1.49113087\n",
            "   1.28752154   1.03680497   7.21710192   1.23711564   1.10499481\n",
            "   1.18554384  45.73780409  41.03646751  44.21874763   1.01017638\n",
            " 133.7645073    8.21838373   1.02128725   1.00000059]\n",
            "False\n",
            "False\n",
            "[  1.04331358   5.27202504   1.03936157   1.1939353    1.49130641\n",
            "   1.28757067   1.03681419   7.22426643   1.23779281   1.10506461\n",
            "   1.18595148  46.06616979  41.24565941  44.53243074   1.01018322\n",
            " 133.48307186   8.22998467   1.02130194   1.00000059]\n",
            "False\n",
            "False\n",
            "[  1.04367309   5.29006462   1.03967047   1.1950191    1.49879002\n",
            "   1.28882814   1.03683932   7.25938161   1.23902343   1.10558913\n",
            "   1.18652346  46.13864042  41.33488687  44.63253629   1.01034102\n",
            " 133.39310487   8.25004218   1.02167451   1.00000059]\n",
            "False\n",
            "False\n",
            "[  1.0439397    5.31611073   1.03988161   1.19631015   1.50008399\n",
            "   1.29092674   1.03685329   7.29468579   1.23986841   1.10575421\n",
            "   1.18736498  46.22635707  41.37073624  44.73930256   1.01035075\n",
            " 133.31145754   8.27350701   1.02170555   1.00000059]\n",
            "False\n",
            "False\n",
            "[  1.04406561   5.33969147   1.03993264   1.19724851   1.5006093\n",
            "   1.29188425   1.03696875   7.33035845   1.240643     1.10613041\n",
            "   1.18780128  46.27077978  41.40478919  44.78150391   1.01035848\n",
            " 133.26750907   8.28768513   1.0217182    1.00000059]\n",
            "False\n",
            "False\n",
            "[  1.04425181   5.3352781    1.04010277   1.19722475   1.50104729\n",
            "   1.29186457   1.03697222   7.32836013   1.24132665   1.10693843\n",
            "   1.18942475  46.28464758  41.42141768  44.79916322   1.01036663\n",
            " 133.25131646   8.29617264   1.02172557   1.00000059]\n",
            "False\n",
            "0.8822909809084925\n",
            "12736.541554917589\n",
            "----------------------\n",
            "False\n",
            "[  1.04426332   5.33587229   1.04010889   1.19725688   1.50107327\n",
            "   1.29187644   1.03697268   7.33042724   1.2413341    1.10693921\n",
            "   1.18948589  46.30426138  41.43340137  44.81610788   1.01036688\n",
            " 133.23486028   8.2974956    1.02172648   1.00000059]\n",
            "False\n",
            "False\n",
            "[  1.04426375   5.33607675   1.04010981   1.19726955   1.50107982\n",
            "   1.29189611   1.03697355   7.33074013   1.24133932   1.10694166\n",
            "   1.18949007  46.32402976  41.44890549  44.82989969   1.01036694\n",
            " 133.2184938    8.29765099   1.02172659   1.00000059]\n",
            "False\n",
            "False\n",
            "[  1.04426486   5.33893231   1.04011097   1.19726349   1.50109446\n",
            "   1.29192255   1.03697494   7.33308614   1.24145384   1.10698545\n",
            "   1.18950794  46.35438706  41.47080507  44.86123419   1.01036789\n",
            " 133.19004103   8.30235256   1.02172778   1.00000059]\n",
            "False\n",
            "False\n",
            "[  1.04426546   5.33905816   1.04011123   1.19726254   1.50109641\n",
            "   1.29192639   1.03697568   7.33328584   1.24146412   1.1069808\n",
            "   1.18951021  46.40618667  41.49987488  44.91330037   1.01036791\n",
            " 133.14540322   8.30243871   1.02172777   1.00000059]\n",
            "False\n",
            "False\n",
            "[  1.04426739   5.34182422   1.04015925   1.19735102   1.50148037\n",
            "   1.29287766   1.0373172    7.33752964   1.2418184    1.10703059\n",
            "   1.18963117  46.56051425  41.73744342  45.08052415   1.01037982\n",
            " 132.95853635   8.33858973   1.02174695   1.0000006 ]\n",
            "False\n",
            "False\n",
            "[  1.04427439   5.34558702   1.04016346   1.19747201   1.50163494\n",
            "   1.2929197    1.03732497   7.34366671   1.24239389   1.10709003\n",
            "   1.18997712  46.83423183  41.9265435   45.36256338   1.01038591\n",
            " 132.70657701   8.34840422   1.02175981   1.0000006 ]\n",
            "False\n",
            "False\n",
            "[  1.04457845   5.3601908    1.04042398   1.19838423   1.50791387\n",
            "   1.29399176   1.03734637   7.37265536   1.24343937   1.10753438\n",
            "   1.19046154  46.89553586  42.00280048  45.44592389   1.01051875\n",
            " 132.6289468    8.36584449   1.0220737    1.0000006 ]\n",
            "False\n",
            "False\n",
            "[  1.04479372   5.3819838    1.0405927    1.19939421   1.50892723\n",
            "   1.29553062   1.0373498    7.40237645   1.2441306    1.1076746\n",
            "   1.19113521  46.96948581  42.03468483  45.53637048   1.01052593\n",
            " 132.55790424   8.38514939   1.02209971   1.0000006 ]\n",
            "False\n",
            "False\n",
            "[  1.04490044   5.40125357   1.04063605   1.20018315   1.5093685\n",
            "   1.29632131   1.03744801   7.43114041   1.24477793   1.10798555\n",
            "   1.19150608  47.00868399  42.06376742  45.5698345    1.01053246\n",
            " 132.52016881   8.39628541   1.02211034   1.0000006 ]\n",
            "False\n",
            "False\n",
            "[  1.04505878   5.39755462   1.04078082   1.20016536   1.50973925\n",
            "   1.2963065    1.03745097   7.42949516   1.24535845   1.10867228\n",
            "   1.19288732  47.02241789  42.07423261  45.58247381   1.01053938\n",
            " 132.50738452   8.40348655   1.02211657   1.0000006 ]\n",
            "False\n",
            "0.8829493087557603\n",
            "12726.179388809956\n",
            "----------------------\n",
            "False\n",
            "[  1.04506852   5.39806022   1.04078601   1.20019267   1.50976099\n",
            "   1.2963165    1.03745136   7.43124819   1.24536474   1.10867292\n",
            "   1.19293921  47.03791682  42.0838884   45.59616311   1.01053959\n",
            " 132.49391814   8.4046072    1.02211734   1.0000006 ]\n",
            "False\n",
            "False\n",
            "[  1.04506889   5.39823204   1.04078678   1.20020324   1.50976653\n",
            "   1.29633293   1.03745209   7.43151111   1.24536912   1.10867501\n",
            "   1.19294272  47.05502504  42.0968503   45.60853672   1.01053964\n",
            " 132.47943841   8.40474111   1.02211744   1.0000006 ]\n",
            "False\n",
            "False\n",
            "[  1.04506989   5.40064542   1.04078777   1.200198     1.5097789\n",
            "   1.29635536   1.03745329   7.43349239   1.2454661    1.10871191\n",
            "   1.19295796  47.08009704  42.11551821  45.6354282    1.01054046\n",
            " 132.45488059   8.40870481   1.02211844   1.0000006 ]\n",
            "False\n",
            "False\n",
            "[  1.0450704    5.40075217   1.04078797   1.20019718   1.50978082\n",
            "   1.29635856   1.03745392   7.43365835   1.24547479   1.10870821\n",
            "   1.19296024  47.12305939  42.13979025  45.6786922    1.01054048\n",
            " 132.41696768   8.40878205   1.02211843   1.0000006 ]\n",
            "False\n",
            "False\n",
            "[  1.04507202   5.40310717   1.04082845   1.20027263   1.51010432\n",
            "   1.29715789   1.03774077   7.43723105   1.24577258   1.10875015\n",
            "   1.19306296  47.24376629  42.33127351  45.81456953   1.01055056\n",
            " 132.26395817   8.43915103   1.02213472   1.00000061]\n",
            "False\n",
            "False\n",
            "[  1.04507814   5.4063334    1.04083191   1.20037394   1.51022502\n",
            "   1.29719363   1.0377473    7.44248611   1.24625779   1.10880063\n",
            "   1.19335775  47.47296424  42.49700448  46.06630718   1.01055577\n",
            " 132.04087807   8.44750208   1.0221452    1.00000061]\n",
            "False\n",
            "False\n",
            "[  1.04533456   5.41873325   1.04105171   1.20114964   1.51552281\n",
            "   1.29810292   1.03776554   7.46696918   1.24714073   1.10917687\n",
            "   1.19376805  47.52892281  42.55760151  46.14107715   1.01066788\n",
            " 131.97223667   8.46227359   1.02240999   1.00000061]\n",
            "False\n",
            "False\n",
            "[  1.0455167    5.43878946   1.04119477   1.20201863   1.51640998\n",
            "   1.299405     1.03776846   7.49311637   1.24773848   1.10930123\n",
            "   1.19435139  47.57542716  42.57753835  46.20153829   1.01067409\n",
            " 131.92452189   8.47861871   1.02243203   1.00000061]\n",
            "False\n",
            "False\n",
            "[  1.04560713   5.45514256   1.04123158   1.20268564   1.51679722\n",
            "   1.30007647   1.03785188   7.51748924   1.24828765   1.10957402\n",
            "   1.19466614  47.61049262  42.60381846  46.2321704    1.01067966\n",
            " 131.88997084   8.48806512   1.0224411    1.00000061]\n",
            "False\n",
            "False\n",
            "[  1.04574184   5.45204593   1.0413548    1.20267264   1.5171115\n",
            "   1.30006589   1.03785441   7.51613785   1.24878102   1.11015842\n",
            "   1.19584146  47.62044768  42.61293264  46.24152873   1.01068554\n",
            " 131.87993702   8.49418728   1.02244638   1.00000061]\n",
            "False\n",
            "0.8834759710335748\n",
            "12700.497959254479\n",
            "----------------------\n",
            "False\n",
            "[  1.04575012   5.45247781   1.04135921   1.20269594   1.51713056\n",
            "   1.30007441   1.03785474   7.51762729   1.24878631   1.1101598\n",
            "   1.19588634  47.6336747   42.6213613   46.25333805   1.01068573\n",
            " 131.86813172   8.49513536   1.02244703   1.00000061]\n",
            "False\n",
            "False\n",
            "[  1.04575061   5.45266757   1.04135992   1.20270551   1.51714265\n",
            "   1.30009038   1.03785575   7.51797525   1.24879199   1.11016367\n",
            "   1.19589117  47.64764429  42.63320525  46.2639862    1.01068581\n",
            " 131.85547775   8.49539333   1.02244714   1.00000061]\n",
            "False\n",
            "False\n",
            "[  1.04575146   5.4547058    1.04136076   1.20270098   1.51715316\n",
            "   1.30010946   1.03785677   7.51964985   1.24887389   1.11019481\n",
            "   1.19590412  47.66799261  42.64798085  46.28611107   1.01068651\n",
            " 131.83518757   8.49873669   1.02244799   1.00000061]\n",
            "False\n",
            "False\n",
            "[  1.04575189   5.45479684   1.04136094   1.20270027   1.51715477\n",
            "   1.3001122    1.0378573    7.51979107   1.24888129   1.11019164\n",
            "   1.19590607  47.70350897  42.66809975  46.32172914   1.01068652\n",
            " 131.80331617   8.49880162   1.02244798   1.00000061]\n",
            "False\n",
            "False\n",
            "[  1.04575352   5.4568306    1.04139507   1.20276546   1.51742839\n",
            "   1.30078501   1.03809876   7.522816     1.24913283   1.11022712\n",
            "   1.19599391  47.80814745  42.83401755  46.44039492   1.01069508\n",
            " 131.66808898   8.52463471   1.02246185   1.00000062]\n",
            "False\n",
            "False\n",
            "[  1.04576013   5.45956078   1.04139803   1.20285757   1.51753608\n",
            "   1.30081687   1.03810437   7.52726638   1.24954708   1.11027459\n",
            "   1.19624808  47.97612506  43.00369003  46.67370717   1.01069954\n",
            " 131.46876679   8.53181072   1.02247073   1.00000062]\n",
            "False\n",
            "False\n",
            "[  1.04597705   5.47011053   1.04158385   1.20351666   1.52201207\n",
            "   1.30158914   1.03811999   7.54800582   1.25029417   1.11059319\n",
            "   1.19659636  48.02510057  43.05626177  46.73682738   1.01079421\n",
            " 131.40876525   8.54432837   1.02269441   1.00000062]\n",
            "False\n",
            "False\n",
            "[  1.04613112   5.48707096   1.04170503   1.20425203   1.52276383\n",
            "   1.30269027   1.03812233   7.57010203   1.2507992    1.11069841\n",
            "   1.1970889   48.06361046  43.07327064  46.78463273   1.01079948\n",
            " 131.36920238   8.55813546   1.02271302   1.00000062]\n",
            "False\n",
            "False\n",
            "[  1.04620789   5.50100894   1.04173631   1.20481744   1.52309461\n",
            "   1.30326075   1.03819328   7.59079263   1.25127158   1.11093308\n",
            "   1.19735643  48.09265107  43.09774563  46.81177462   1.0108042\n",
            " 131.33856525   8.566127     1.02272076   1.00000062]\n",
            "False\n",
            "False\n",
            "[  1.0463226    5.49841605   1.04184116   1.20480791   1.52336236\n",
            "   1.30325351   1.03819565   7.58969076   1.25169205   1.11143023\n",
            "   1.19835833  48.10231008  43.10533178  46.82046785   1.01080921\n",
            " 131.32924871   8.57135869   1.02272527   1.00000062]\n",
            "False\n",
            "0.8841342988808426\n",
            "12671.9053329288\n",
            "----------------------\n",
            "False\n",
            "[  1.0463267    5.49867871   1.04184491   1.20482771   1.52337573\n",
            "   1.30325798   1.03819592   7.59000684   1.25169357   1.11143139\n",
            "   1.19839346  48.11296287  43.11246662  46.83039955   1.01080936\n",
            " 131.31939709   8.5719273    1.0227258    1.00000061]\n",
            "False\n",
            "False\n",
            "[  1.04632712   5.4988389    1.0418455    1.20483573   1.52338604\n",
            "   1.30327141   1.03819677   7.5903009    1.25169838   1.11143468\n",
            "   1.19839755  48.12492483  43.12273423  46.84007782   1.01080943\n",
            " 131.30815374   8.57214556   1.0227259    1.00000062]\n",
            "False\n",
            "False\n",
            "[  1.04632785   5.50056299   1.04184622   1.20483186   1.52339501\n",
            "   1.30328768   1.03819765   7.59171792   1.25176766   1.11146099\n",
            "   1.19840855  48.14097375  43.13505998  46.85789253   1.01081002\n",
            " 131.29152913   8.57497167   1.02272661   1.00000062]\n",
            "False\n",
            "False\n",
            "[  1.04632821   5.50064089   1.04184637   1.20483126   1.52339637\n",
            "   1.30329      1.0381981    7.59183826   1.25177395   1.11145828\n",
            "   1.19841022  48.17191472  43.15241663  46.88894306   1.01081003\n",
            " 131.26338573   8.57502583   1.02272661   1.00000062]\n",
            "False\n",
            "False\n",
            "[  1.04632945   5.50232049   1.04187291   1.2048832    1.52360403\n",
            "   1.30379968   1.03838065   7.59418307   1.25196538   1.11148541\n",
            "   1.19848173  48.23573928  43.26487561  46.95207206   1.01081728\n",
            " 131.17892426   8.59491034   1.02273833   1.00000062]\n",
            "False\n",
            "False\n",
            "[  1.04633526   5.50465022   1.04187548   1.20496172   1.52369662\n",
            "   1.30382785   1.03838542   7.59797011   1.25231567   1.11152624\n",
            "   1.19869643  48.38919566  43.40254194  47.16323853   1.01082107\n",
            " 131.00079086   8.60093682   1.02274597   1.00000063]\n",
            "False\n",
            "False\n",
            "[  1.04651764   5.51338679   1.04203142   1.20552164   1.52747703\n",
            "   1.30447254   1.03839872   7.61540351   1.25293594   1.11176248\n",
            "   1.19899096  48.43253213  43.44632625  47.2181787    1.01090097\n",
            " 130.94835785   8.61141808   1.02293515   1.00000062]\n",
            "False\n",
            "False\n",
            "[  1.04664855   5.52775346   1.04213342   1.20614597   1.52810285\n",
            "   1.30539887   1.03840073   7.6341332    1.25336297   1.1118496\n",
            "   1.19940686  48.4646948   43.46063413  47.25640699   1.01090526\n",
            " 130.9154227    8.62326884   1.0229509    1.00000062]\n",
            "False\n",
            "False\n",
            "[  1.04671402   5.53989714   1.04216199   1.20663416   1.52839153\n",
            "   1.30589153   1.03846106   7.65190677   1.25376539   1.11205626\n",
            "   1.19964334  48.48917379  43.48050294  47.28206655   1.01090936\n",
            " 130.88848426   8.63004171   1.02295769   1.00000062]\n",
            "False\n",
            "False\n",
            "[  1.04681157   5.53771574   1.04225118   1.2066267    1.5286173\n",
            "   1.30588583   1.03846308   7.65099148   1.25412277   1.11247348\n",
            "   1.20049413  48.49804476  43.48663805  47.28933932   1.01091354\n",
            " 130.88036784   8.63445673   1.02296149   1.00000062]\n",
            "False\n",
            "0.8842001316655695\n",
            "12709.312632273948\n",
            "----------------------\n",
            "False\n",
            "[  1.04681506   5.53793945   1.04225437   1.20664355   1.52862867\n",
            "   1.3058896    1.03846331   7.65126007   1.25412405   1.11247446\n",
            "   1.20052396  48.50683659  43.49236733  47.29753956   1.01091367\n",
            " 130.87218577   8.63493945   1.02296195   1.00000062]\n",
            "False\n",
            "False\n",
            "[  1.04681541   5.53807116   1.04225487   1.20665027   1.52863721\n",
            "   1.30590089   1.03846403   7.65150565   1.25412812   1.11247722\n",
            "   1.20052732  48.5179098   43.50115056  47.30605428   1.01091373\n",
            " 130.86205287   8.63512472   1.02296203   1.00000062]\n",
            "False\n",
            "False\n",
            "[  1.04681603   5.53953071   1.04225548   1.20664696   1.52864485\n",
            "   1.30591475   1.03846477   7.65270568   1.25418678   1.11249948\n",
            "   1.20053667  48.53104449  43.51164929  47.32064311   1.01091423\n",
            " 130.84812857   8.63751476   1.02296263   1.00000062]\n",
            "False\n",
            "False\n",
            "[  1.04681635   5.53959695   1.04225561   1.20664644   1.528646\n",
            "   1.30591672   1.03846516   7.65280792   1.25419212   1.11249716\n",
            "   1.2005381   48.55703115  43.52629919  47.34679709   1.01091424\n",
            " 130.82414831   8.63755968   1.02296263   1.00000062]\n",
            "False\n",
            "False\n",
            "[  1.04681719   5.54080603   1.04226105   1.20666908   1.52865977\n",
            "   1.30592336   1.03846527   7.65336584   1.25419994   1.11249982\n",
            "   1.20056254  48.61086843  43.61923494  47.39884891   1.01092034\n",
            " 130.75429329   8.63800127   1.02297205   1.00000063]\n",
            "False\n",
            "False\n",
            "[  1.04682134   5.54189641   1.04226307   1.20672151   1.52873716\n",
            "   1.30594854   1.03846932   7.65488697   1.25448411   1.11253353\n",
            "   1.20073249  48.75512353  43.73397138  47.59310902   1.01092393\n",
            " 130.59148294   8.64319035   1.02297791   1.00000063]\n",
            "False\n",
            "False\n",
            "[  1.04697593   5.54937579   1.04239527   1.20719768   1.53193965\n",
            "   1.30649686   1.03848067   7.66977637   1.25501175   1.1127341\n",
            "   1.20098305  48.79159624  43.76971407  47.63877234   1.01099181\n",
            " 130.54741364   8.65208434   1.02313814   1.00000063]\n",
            "False\n",
            "False\n",
            "[  1.04708682   5.56114309   1.04247411   1.20771807   1.53246318\n",
            "   1.30709839   1.03848237   7.68506908   1.25536592   1.11280776\n",
            "   1.20132615  48.81780603  43.78192201  47.67119667   1.01099539\n",
            " 130.51961122   8.66197948   1.02315027   1.00000063]\n",
            "False\n",
            "False\n",
            "[  1.04711126   5.56990231   1.04249821   1.2080628    1.53269042\n",
            "   1.3074787    1.03849844   7.69913701   1.25567215   1.11294919\n",
            "   1.20140462  48.83882543  43.79771888  47.69464738   1.01099771\n",
            " 130.49631209   8.66734392   1.0231558    1.00000063]\n",
            "False\n",
            "False\n",
            "[  1.04719423   5.56805726   1.04257411   1.20805695   1.53288195\n",
            "   1.30747428   1.03850016   7.69836661   1.25597601   1.11330399\n",
            "   1.20212851  48.84617496  43.80417928  47.70179855   1.01100126\n",
            " 130.48863894   8.67107998   1.02315902   1.00000063]\n",
            "False\n",
            "0.8843976300197497\n",
            "12689.557190005435\n",
            "----------------------\n",
            "False\n",
            "[  1.04719768   5.56829866   1.04257733   1.20807381   1.53289318\n",
            "   1.30747803   1.03850039   7.69864805   1.2559773    1.11330522\n",
            "   1.20215833  48.85558485  43.80957498  47.71015167   1.01100139\n",
            " 130.48019196   8.6715622    1.02315948   1.00000063]\n",
            "False\n",
            "False\n",
            "[  1.04719804   5.56843015   1.04257783   1.20808055   1.53290175\n",
            "   1.30748926   1.0385011    7.69889291   1.25598139   1.11330799\n",
            "   1.20216169  48.86688075  43.81997342  47.71971792   1.01100145\n",
            " 130.46894039   8.67174805   1.02315956   1.00000063]\n",
            "False\n",
            "False\n",
            "[  1.04719878   5.5699428    1.04257838   1.20807574   1.53291007\n",
            "   1.30750282   1.03850185   7.70014477   1.25604264   1.11333095\n",
            "   1.20217183  48.87942324  43.82995966  47.73381872   1.01100196\n",
            " 130.45543013   8.67417718   1.02316017   1.00000063]\n",
            "False\n",
            "False\n",
            "[  1.04719909   5.57001023   1.04257851   1.2080753    1.53291121\n",
            "   1.30750483   1.03850223   7.70024813   1.25604809   1.11332862\n",
            "   1.20217327  48.90368159  43.84455406  47.75826006   1.01100197\n",
            " 130.4324824    8.67422198   1.02316017   1.00000063]\n",
            "False\n",
            "False\n",
            "[  1.04719981   5.5711965    1.04258393   1.20809722   1.53292234\n",
            "   1.30751098   1.03850212   7.70079619   1.25605522   1.1133311\n",
            "   1.20219752  48.9558853   43.93556593  47.81084376   1.01100805\n",
            " 130.36295713   8.67454141   1.02316959   1.00000063]\n",
            "False\n",
            "False\n",
            "[  1.04720422   5.57245912   1.0425862    1.20815238   1.53300064\n",
            "   1.30753413   1.03850614   7.70248937   1.25633813   1.11336765\n",
            "   1.20236773  49.09849241  44.03720222  48.02546618   1.01101218\n",
            " 130.19592716   8.67977494   1.02317608   1.00000063]\n",
            "False\n",
            "False\n",
            "[  1.04735821   5.58143663   1.04271626   1.20865084   1.5362259\n",
            "   1.30812721   1.0385175    7.71860258   1.25687165   1.11357773\n",
            "   1.20261828  49.13637096  44.07288203  48.06937462   1.01108144\n",
            " 130.15133474   8.68940568   1.02333577   1.00000063]\n",
            "False\n",
            "False\n",
            "[  1.04746896   5.59318799   1.04279487   1.20916959   1.53674916\n",
            "   1.30872658   1.03851917   7.73386452   1.25722523   1.11365135\n",
            "   1.20296104  49.15977294  44.08162657  48.10063823   1.01108499\n",
            " 130.125898     8.69925822   1.02334785   1.00000063]\n",
            "False\n",
            "False\n",
            "[  1.04749337   5.6019102    1.04281897   1.20951352   1.53697644\n",
            "   1.30910683   1.03853524   7.74788414   1.25753024   1.11379213\n",
            "   1.20303945  49.18007335  44.09625341  48.12451151   1.01108731\n",
            " 130.1028675    8.70460975   1.02335337   1.00000063]\n",
            "False\n",
            "False\n",
            "[  1.04757641   5.60007814   1.04289493   1.20950825   1.53716798\n",
            "   1.30910244   1.03853696   7.74711818   1.25783458   1.11414714\n",
            "   1.20376432  49.18683318  44.10225194  48.13072441   1.01109086\n",
            " 130.09583864   8.70834733   1.0233566    1.00000063]\n",
            "False\n",
            "0.8851876234364713\n",
            "12633.698506539073\n",
            "----------------------\n",
            "False\n",
            "[  1.04757987   5.60031415   1.04289814   1.20952505   1.53717856\n",
            "   1.30910605   1.03853718   7.74739344   1.25783574   1.11414789\n",
            "   1.2037935   49.19624711  44.10783537  48.13853106   1.01109099\n",
            " 130.08743875   8.70883223   1.02335705   1.00000063]\n",
            "False\n",
            "False\n",
            "[  1.04758011   5.60042647   1.04289864   1.20953155   1.53718687\n",
            "   1.30911707   1.03853787   7.74760712   1.25783926   1.11415062\n",
            "   1.2037968   49.2072509   44.11663033  48.14675491   1.01109104\n",
            " 130.07722468   8.7089737    1.02335714   1.00000063]\n",
            "False\n",
            "False\n",
            "[  1.04758085   5.60193616   1.04289919   1.20952669   1.5371952\n",
            "   1.30913066   1.03853862   7.74885728   1.2579004    1.11417353\n",
            "   1.20380695  49.21902626  44.12638301  48.16051714   1.01109155\n",
            " 130.06406569   8.7113966    1.02335774   1.00000063]\n",
            "False\n",
            "False\n",
            "[  1.04758117   5.60200358   1.04289932   1.20952624   1.53719633\n",
            "   1.30913267   1.038539     7.74896043   1.25790584   1.11417118\n",
            "   1.2038084   49.24308574  44.14091285  48.18471936   1.01109156\n",
            " 130.04105781   8.7114409    1.02335774   1.00000063]\n",
            "False\n",
            "False\n",
            "[  1.04758188   5.60319973   1.04290475   1.20954838   1.53720786\n",
            "   1.30913895   1.0385389    7.74951515   1.25791324   1.11417368\n",
            "   1.20383268  49.2992708   44.23100018  48.23651235   1.01109763\n",
            " 129.96990501   8.71175894   1.02336716   1.00000064]\n",
            "False\n",
            "False\n",
            "[  1.04758619   5.60463495   1.04290748   1.20960534   1.53729066\n",
            "   1.30916447   1.03854291   7.75155416   1.2582059    1.11421118\n",
            "   1.2040037   49.44239804  44.30963203  48.47552583   1.01110287\n",
            " 129.79960083   8.71709275   1.02337493   1.00000063]\n",
            "False\n"
          ]
        },
        {
          "output_type": "error",
          "ename": "KeyboardInterrupt",
          "evalue": "ignored",
          "traceback": [
            "\u001b[0;31m---------------------------------------------------------------------------\u001b[0m",
            "\u001b[0;31mKeyboardInterrupt\u001b[0m                         Traceback (most recent call last)",
            "\u001b[0;32m<ipython-input-294-e03ff5cdc3a8>\u001b[0m in \u001b[0;36m<module>\u001b[0;34m()\u001b[0m\n\u001b[1;32m      6\u001b[0m   \u001b[0mfsum\u001b[0m \u001b[0;34m=\u001b[0m \u001b[0;36m0\u001b[0m\u001b[0;34m\u001b[0m\u001b[0;34m\u001b[0m\u001b[0m\n\u001b[1;32m      7\u001b[0m   \u001b[0;32mfor\u001b[0m \u001b[0mbatch\u001b[0m \u001b[0;32min\u001b[0m \u001b[0mrange\u001b[0m\u001b[0;34m(\u001b[0m\u001b[0;36m10\u001b[0m\u001b[0;34m)\u001b[0m\u001b[0;34m:\u001b[0m\u001b[0;34m\u001b[0m\u001b[0;34m\u001b[0m\u001b[0m\n\u001b[0;32m----> 8\u001b[0;31m     \u001b[0mslope\u001b[0m \u001b[0;34m=\u001b[0m \u001b[0mtrain_grad\u001b[0m\u001b[0;34m(\u001b[0m\u001b[0mA\u001b[0m\u001b[0;34m)\u001b[0m\u001b[0;34m\u001b[0m\u001b[0;34m\u001b[0m\u001b[0m\n\u001b[0m\u001b[1;32m      9\u001b[0m     \u001b[0mA\u001b[0m\u001b[0;34m-=\u001b[0m\u001b[0mslope\u001b[0m\u001b[0;34m*\u001b[0m\u001b[0malpha\u001b[0m\u001b[0;34m\u001b[0m\u001b[0;34m\u001b[0m\u001b[0m\n\u001b[1;32m     10\u001b[0m     \u001b[0mprint\u001b[0m\u001b[0;34m(\u001b[0m\u001b[0mA\u001b[0m\u001b[0;34m)\u001b[0m\u001b[0;34m\u001b[0m\u001b[0;34m\u001b[0m\u001b[0m\n",
            "\u001b[0;32m/usr/local/lib/python3.7/dist-packages/autograd/wrap_util.py\u001b[0m in \u001b[0;36mnary_f\u001b[0;34m(*args, **kwargs)\u001b[0m\n\u001b[1;32m     18\u001b[0m             \u001b[0;32melse\u001b[0m\u001b[0;34m:\u001b[0m\u001b[0;34m\u001b[0m\u001b[0;34m\u001b[0m\u001b[0m\n\u001b[1;32m     19\u001b[0m                 \u001b[0mx\u001b[0m \u001b[0;34m=\u001b[0m \u001b[0mtuple\u001b[0m\u001b[0;34m(\u001b[0m\u001b[0margs\u001b[0m\u001b[0;34m[\u001b[0m\u001b[0mi\u001b[0m\u001b[0;34m]\u001b[0m \u001b[0;32mfor\u001b[0m \u001b[0mi\u001b[0m \u001b[0;32min\u001b[0m \u001b[0margnum\u001b[0m\u001b[0;34m)\u001b[0m\u001b[0;34m\u001b[0m\u001b[0;34m\u001b[0m\u001b[0m\n\u001b[0;32m---> 20\u001b[0;31m             \u001b[0;32mreturn\u001b[0m \u001b[0munary_operator\u001b[0m\u001b[0;34m(\u001b[0m\u001b[0munary_f\u001b[0m\u001b[0;34m,\u001b[0m \u001b[0mx\u001b[0m\u001b[0;34m,\u001b[0m \u001b[0;34m*\u001b[0m\u001b[0mnary_op_args\u001b[0m\u001b[0;34m,\u001b[0m \u001b[0;34m**\u001b[0m\u001b[0mnary_op_kwargs\u001b[0m\u001b[0;34m)\u001b[0m\u001b[0;34m\u001b[0m\u001b[0;34m\u001b[0m\u001b[0m\n\u001b[0m\u001b[1;32m     21\u001b[0m         \u001b[0;32mreturn\u001b[0m \u001b[0mnary_f\u001b[0m\u001b[0;34m\u001b[0m\u001b[0;34m\u001b[0m\u001b[0m\n\u001b[1;32m     22\u001b[0m     \u001b[0;32mreturn\u001b[0m \u001b[0mnary_operator\u001b[0m\u001b[0;34m\u001b[0m\u001b[0;34m\u001b[0m\u001b[0m\n",
            "\u001b[0;32m/usr/local/lib/python3.7/dist-packages/autograd/differential_operators.py\u001b[0m in \u001b[0;36mgrad\u001b[0;34m(fun, x)\u001b[0m\n\u001b[1;32m     23\u001b[0m     \u001b[0marguments\u001b[0m \u001b[0;32mas\u001b[0m\u001b[0;31m \u001b[0m\u001b[0;31m`\u001b[0m\u001b[0mfun\u001b[0m\u001b[0;31m`\u001b[0m\u001b[0;34m,\u001b[0m \u001b[0mbut\u001b[0m \u001b[0mreturns\u001b[0m \u001b[0mthe\u001b[0m \u001b[0mgradient\u001b[0m \u001b[0minstead\u001b[0m\u001b[0;34m.\u001b[0m \u001b[0mThe\u001b[0m \u001b[0mfunction\u001b[0m\u001b[0;31m \u001b[0m\u001b[0;31m`\u001b[0m\u001b[0mfun\u001b[0m\u001b[0;31m`\u001b[0m\u001b[0;34m\u001b[0m\u001b[0;34m\u001b[0m\u001b[0m\n\u001b[1;32m     24\u001b[0m     should be scalar-valued. The gradient has the same type as the argument.\"\"\"\n\u001b[0;32m---> 25\u001b[0;31m     \u001b[0mvjp\u001b[0m\u001b[0;34m,\u001b[0m \u001b[0mans\u001b[0m \u001b[0;34m=\u001b[0m \u001b[0m_make_vjp\u001b[0m\u001b[0;34m(\u001b[0m\u001b[0mfun\u001b[0m\u001b[0;34m,\u001b[0m \u001b[0mx\u001b[0m\u001b[0;34m)\u001b[0m\u001b[0;34m\u001b[0m\u001b[0;34m\u001b[0m\u001b[0m\n\u001b[0m\u001b[1;32m     26\u001b[0m     \u001b[0;32mif\u001b[0m \u001b[0;32mnot\u001b[0m \u001b[0mvspace\u001b[0m\u001b[0;34m(\u001b[0m\u001b[0mans\u001b[0m\u001b[0;34m)\u001b[0m\u001b[0;34m.\u001b[0m\u001b[0msize\u001b[0m \u001b[0;34m==\u001b[0m \u001b[0;36m1\u001b[0m\u001b[0;34m:\u001b[0m\u001b[0;34m\u001b[0m\u001b[0;34m\u001b[0m\u001b[0m\n\u001b[1;32m     27\u001b[0m         raise TypeError(\"Grad only applies to real scalar-output functions. \"\n",
            "\u001b[0;32m/usr/local/lib/python3.7/dist-packages/autograd/core.py\u001b[0m in \u001b[0;36mmake_vjp\u001b[0;34m(fun, x)\u001b[0m\n\u001b[1;32m      8\u001b[0m \u001b[0;32mdef\u001b[0m \u001b[0mmake_vjp\u001b[0m\u001b[0;34m(\u001b[0m\u001b[0mfun\u001b[0m\u001b[0;34m,\u001b[0m \u001b[0mx\u001b[0m\u001b[0;34m)\u001b[0m\u001b[0;34m:\u001b[0m\u001b[0;34m\u001b[0m\u001b[0;34m\u001b[0m\u001b[0m\n\u001b[1;32m      9\u001b[0m     \u001b[0mstart_node\u001b[0m \u001b[0;34m=\u001b[0m \u001b[0mVJPNode\u001b[0m\u001b[0;34m.\u001b[0m\u001b[0mnew_root\u001b[0m\u001b[0;34m(\u001b[0m\u001b[0;34m)\u001b[0m\u001b[0;34m\u001b[0m\u001b[0;34m\u001b[0m\u001b[0m\n\u001b[0;32m---> 10\u001b[0;31m     \u001b[0mend_value\u001b[0m\u001b[0;34m,\u001b[0m \u001b[0mend_node\u001b[0m \u001b[0;34m=\u001b[0m  \u001b[0mtrace\u001b[0m\u001b[0;34m(\u001b[0m\u001b[0mstart_node\u001b[0m\u001b[0;34m,\u001b[0m \u001b[0mfun\u001b[0m\u001b[0;34m,\u001b[0m \u001b[0mx\u001b[0m\u001b[0;34m)\u001b[0m\u001b[0;34m\u001b[0m\u001b[0;34m\u001b[0m\u001b[0m\n\u001b[0m\u001b[1;32m     11\u001b[0m     \u001b[0;32mif\u001b[0m \u001b[0mend_node\u001b[0m \u001b[0;32mis\u001b[0m \u001b[0;32mNone\u001b[0m\u001b[0;34m:\u001b[0m\u001b[0;34m\u001b[0m\u001b[0;34m\u001b[0m\u001b[0m\n\u001b[1;32m     12\u001b[0m         \u001b[0;32mdef\u001b[0m \u001b[0mvjp\u001b[0m\u001b[0;34m(\u001b[0m\u001b[0mg\u001b[0m\u001b[0;34m)\u001b[0m\u001b[0;34m:\u001b[0m \u001b[0;32mreturn\u001b[0m \u001b[0mvspace\u001b[0m\u001b[0;34m(\u001b[0m\u001b[0mx\u001b[0m\u001b[0;34m)\u001b[0m\u001b[0;34m.\u001b[0m\u001b[0mzeros\u001b[0m\u001b[0;34m(\u001b[0m\u001b[0;34m)\u001b[0m\u001b[0;34m\u001b[0m\u001b[0;34m\u001b[0m\u001b[0m\n",
            "\u001b[0;32m/usr/local/lib/python3.7/dist-packages/autograd/tracer.py\u001b[0m in \u001b[0;36mtrace\u001b[0;34m(start_node, fun, x)\u001b[0m\n\u001b[1;32m      8\u001b[0m     \u001b[0;32mwith\u001b[0m \u001b[0mtrace_stack\u001b[0m\u001b[0;34m.\u001b[0m\u001b[0mnew_trace\u001b[0m\u001b[0;34m(\u001b[0m\u001b[0;34m)\u001b[0m \u001b[0;32mas\u001b[0m \u001b[0mt\u001b[0m\u001b[0;34m:\u001b[0m\u001b[0;34m\u001b[0m\u001b[0;34m\u001b[0m\u001b[0m\n\u001b[1;32m      9\u001b[0m         \u001b[0mstart_box\u001b[0m \u001b[0;34m=\u001b[0m \u001b[0mnew_box\u001b[0m\u001b[0;34m(\u001b[0m\u001b[0mx\u001b[0m\u001b[0;34m,\u001b[0m \u001b[0mt\u001b[0m\u001b[0;34m,\u001b[0m \u001b[0mstart_node\u001b[0m\u001b[0;34m)\u001b[0m\u001b[0;34m\u001b[0m\u001b[0;34m\u001b[0m\u001b[0m\n\u001b[0;32m---> 10\u001b[0;31m         \u001b[0mend_box\u001b[0m \u001b[0;34m=\u001b[0m \u001b[0mfun\u001b[0m\u001b[0;34m(\u001b[0m\u001b[0mstart_box\u001b[0m\u001b[0;34m)\u001b[0m\u001b[0;34m\u001b[0m\u001b[0;34m\u001b[0m\u001b[0m\n\u001b[0m\u001b[1;32m     11\u001b[0m         \u001b[0;32mif\u001b[0m \u001b[0misbox\u001b[0m\u001b[0;34m(\u001b[0m\u001b[0mend_box\u001b[0m\u001b[0;34m)\u001b[0m \u001b[0;32mand\u001b[0m \u001b[0mend_box\u001b[0m\u001b[0;34m.\u001b[0m\u001b[0m_trace\u001b[0m \u001b[0;34m==\u001b[0m \u001b[0mstart_box\u001b[0m\u001b[0;34m.\u001b[0m\u001b[0m_trace\u001b[0m\u001b[0;34m:\u001b[0m\u001b[0;34m\u001b[0m\u001b[0;34m\u001b[0m\u001b[0m\n\u001b[1;32m     12\u001b[0m             \u001b[0;32mreturn\u001b[0m \u001b[0mend_box\u001b[0m\u001b[0;34m.\u001b[0m\u001b[0m_value\u001b[0m\u001b[0;34m,\u001b[0m \u001b[0mend_box\u001b[0m\u001b[0;34m.\u001b[0m\u001b[0m_node\u001b[0m\u001b[0;34m\u001b[0m\u001b[0;34m\u001b[0m\u001b[0m\n",
            "\u001b[0;32m/usr/local/lib/python3.7/dist-packages/autograd/wrap_util.py\u001b[0m in \u001b[0;36munary_f\u001b[0;34m(x)\u001b[0m\n\u001b[1;32m     13\u001b[0m                 \u001b[0;32melse\u001b[0m\u001b[0;34m:\u001b[0m\u001b[0;34m\u001b[0m\u001b[0;34m\u001b[0m\u001b[0m\n\u001b[1;32m     14\u001b[0m                     \u001b[0msubargs\u001b[0m \u001b[0;34m=\u001b[0m \u001b[0msubvals\u001b[0m\u001b[0;34m(\u001b[0m\u001b[0margs\u001b[0m\u001b[0;34m,\u001b[0m \u001b[0mzip\u001b[0m\u001b[0;34m(\u001b[0m\u001b[0margnum\u001b[0m\u001b[0;34m,\u001b[0m \u001b[0mx\u001b[0m\u001b[0;34m)\u001b[0m\u001b[0;34m)\u001b[0m\u001b[0;34m\u001b[0m\u001b[0;34m\u001b[0m\u001b[0m\n\u001b[0;32m---> 15\u001b[0;31m                 \u001b[0;32mreturn\u001b[0m \u001b[0mfun\u001b[0m\u001b[0;34m(\u001b[0m\u001b[0;34m*\u001b[0m\u001b[0msubargs\u001b[0m\u001b[0;34m,\u001b[0m \u001b[0;34m**\u001b[0m\u001b[0mkwargs\u001b[0m\u001b[0;34m)\u001b[0m\u001b[0;34m\u001b[0m\u001b[0;34m\u001b[0m\u001b[0m\n\u001b[0m\u001b[1;32m     16\u001b[0m             \u001b[0;32mif\u001b[0m \u001b[0misinstance\u001b[0m\u001b[0;34m(\u001b[0m\u001b[0margnum\u001b[0m\u001b[0;34m,\u001b[0m \u001b[0mint\u001b[0m\u001b[0;34m)\u001b[0m\u001b[0;34m:\u001b[0m\u001b[0;34m\u001b[0m\u001b[0;34m\u001b[0m\u001b[0m\n\u001b[1;32m     17\u001b[0m                 \u001b[0mx\u001b[0m \u001b[0;34m=\u001b[0m \u001b[0margs\u001b[0m\u001b[0;34m[\u001b[0m\u001b[0margnum\u001b[0m\u001b[0;34m]\u001b[0m\u001b[0;34m\u001b[0m\u001b[0;34m\u001b[0m\u001b[0m\n",
            "\u001b[0;32m<ipython-input-257-aef73d902c9a>\u001b[0m in \u001b[0;36md\u001b[0;34m(A)\u001b[0m\n\u001b[1;32m      1\u001b[0m \u001b[0;32mdef\u001b[0m \u001b[0md\u001b[0m\u001b[0;34m(\u001b[0m\u001b[0mA\u001b[0m\u001b[0;34m)\u001b[0m\u001b[0;34m:\u001b[0m\u001b[0;34m\u001b[0m\u001b[0;34m\u001b[0m\u001b[0m\n\u001b[0;32m----> 2\u001b[0;31m   \u001b[0;32mreturn\u001b[0m \u001b[0mtrain_step\u001b[0m\u001b[0;34m(\u001b[0m\u001b[0mnp\u001b[0m\u001b[0;34m.\u001b[0m\u001b[0mabs\u001b[0m\u001b[0;34m(\u001b[0m\u001b[0mA\u001b[0m\u001b[0;34m)\u001b[0m\u001b[0;34m,\u001b[0m\u001b[0;36m30\u001b[0m\u001b[0;34m)\u001b[0m\u001b[0;34m[\u001b[0m\u001b[0;36m0\u001b[0m\u001b[0;34m]\u001b[0m \u001b[0;31m#koukekuzhahyegeyaochongxingrunyunkoukeeix       exinxkoukunkouke band huiyiacsi kunkoukeyangzhiqianbabsmeiwenitleng\u001b[0m\u001b[0;34m\u001b[0m\u001b[0;34m\u001b[0m\u001b[0m\n\u001b[0m\u001b[1;32m      3\u001b[0m \u001b[0mtrain_grad\u001b[0m \u001b[0;34m=\u001b[0m \u001b[0mgrad\u001b[0m\u001b[0;34m(\u001b[0m\u001b[0md\u001b[0m\u001b[0;34m)\u001b[0m\u001b[0;34m\u001b[0m\u001b[0;34m\u001b[0m\u001b[0m\n\u001b[1;32m      4\u001b[0m \u001b[0;31m#chaojiyunkunyunyaonpabs zhiqianiey\u001b[0m\u001b[0;34m\u001b[0m\u001b[0;34m\u001b[0m\u001b[0;34m\u001b[0m\u001b[0m\n",
            "\u001b[0;32m<ipython-input-274-945570585769>\u001b[0m in \u001b[0;36mtrain_step\u001b[0;34m(A, k)\u001b[0m\n\u001b[1;32m     40\u001b[0m     \u001b[0mmins\u001b[0m \u001b[0;34m=\u001b[0m \u001b[0mnp\u001b[0m\u001b[0;34m.\u001b[0m\u001b[0margsort\u001b[0m\u001b[0;34m(\u001b[0m\u001b[0mdistance\u001b[0m\u001b[0;34m)\u001b[0m\u001b[0;34m[\u001b[0m\u001b[0;34m:\u001b[0m\u001b[0mk\u001b[0m\u001b[0;34m]\u001b[0m\u001b[0;34m\u001b[0m\u001b[0;34m\u001b[0m\u001b[0m\n\u001b[1;32m     41\u001b[0m     \u001b[0msum0\u001b[0m \u001b[0;34m+=\u001b[0m \u001b[0mnp\u001b[0m\u001b[0;34m.\u001b[0m\u001b[0msum\u001b[0m\u001b[0;34m(\u001b[0m\u001b[0;36m1\u001b[0m\u001b[0;34m/\u001b[0m\u001b[0;34m(\u001b[0m\u001b[0mdistance\u001b[0m\u001b[0;34m[\u001b[0m\u001b[0mmins\u001b[0m\u001b[0;34m]\u001b[0m\u001b[0;34m+\u001b[0m\u001b[0;36m1\u001b[0m\u001b[0;34m)\u001b[0m\u001b[0;34m)\u001b[0m\u001b[0;34m\u001b[0m\u001b[0;34m\u001b[0m\u001b[0m\n\u001b[0;32m---> 42\u001b[0;31m     \u001b[0msum1\u001b[0m \u001b[0;34m+=\u001b[0m \u001b[0mnp\u001b[0m\u001b[0;34m.\u001b[0m\u001b[0msum\u001b[0m\u001b[0;34m(\u001b[0m\u001b[0;36m1\u001b[0m\u001b[0;34m/\u001b[0m\u001b[0;34m(\u001b[0m\u001b[0mdistance\u001b[0m\u001b[0;34m[\u001b[0m\u001b[0mmins\u001b[0m\u001b[0;34m]\u001b[0m\u001b[0;34m+\u001b[0m\u001b[0;36m1\u001b[0m\u001b[0;34m)\u001b[0m \u001b[0;34m*\u001b[0m \u001b[0;34m(\u001b[0m\u001b[0mnpY\u001b[0m\u001b[0;34m[\u001b[0m\u001b[0mmins\u001b[0m\u001b[0;34m]\u001b[0m\u001b[0;34m)\u001b[0m\u001b[0;34m)\u001b[0m\u001b[0;34m\u001b[0m\u001b[0;34m\u001b[0m\u001b[0m\n\u001b[0m\u001b[1;32m     43\u001b[0m     \u001b[0mpred\u001b[0m\u001b[0;34m.\u001b[0m\u001b[0mappend\u001b[0m\u001b[0;34m(\u001b[0m\u001b[0;36m1\u001b[0m \u001b[0;32mif\u001b[0m \u001b[0msum1\u001b[0m\u001b[0;34m/\u001b[0m\u001b[0msum0\u001b[0m\u001b[0;34m>\u001b[0m\u001b[0;36m0.5\u001b[0m \u001b[0;32melse\u001b[0m \u001b[0;36m0\u001b[0m\u001b[0;34m)\u001b[0m\u001b[0;34m\u001b[0m\u001b[0;34m\u001b[0m\u001b[0m\n\u001b[1;32m     44\u001b[0m     \u001b[0mpred_p\u001b[0m\u001b[0;34m.\u001b[0m\u001b[0mappend\u001b[0m\u001b[0;34m(\u001b[0m\u001b[0msum1\u001b[0m\u001b[0;34m/\u001b[0m\u001b[0msum0\u001b[0m\u001b[0;34m)\u001b[0m\u001b[0;31m#kunyunsuankouke zheyangdehuakeyiyachiyansuan dulixiamianyangk uruguoyoufushushuomwentiyanzhongaashouzhangshkunkunshou nashouhshouhzkou\u001b[0m\u001b[0;34m\u001b[0m\u001b[0;34m\u001b[0m\u001b[0m\n",
            "\u001b[0;32m/usr/local/lib/python3.7/dist-packages/autograd/numpy/numpy_boxes.py\u001b[0m in \u001b[0;36m__mul__\u001b[0;34m(self, other)\u001b[0m\n\u001b[1;32m     25\u001b[0m     \u001b[0;32mdef\u001b[0m \u001b[0m__add__\u001b[0m\u001b[0;34m(\u001b[0m\u001b[0mself\u001b[0m\u001b[0;34m,\u001b[0m \u001b[0mother\u001b[0m\u001b[0;34m)\u001b[0m\u001b[0;34m:\u001b[0m \u001b[0;32mreturn\u001b[0m \u001b[0manp\u001b[0m\u001b[0;34m.\u001b[0m\u001b[0madd\u001b[0m\u001b[0;34m(\u001b[0m     \u001b[0mself\u001b[0m\u001b[0;34m,\u001b[0m \u001b[0mother\u001b[0m\u001b[0;34m)\u001b[0m\u001b[0;34m\u001b[0m\u001b[0;34m\u001b[0m\u001b[0m\n\u001b[1;32m     26\u001b[0m     \u001b[0;32mdef\u001b[0m \u001b[0m__sub__\u001b[0m\u001b[0;34m(\u001b[0m\u001b[0mself\u001b[0m\u001b[0;34m,\u001b[0m \u001b[0mother\u001b[0m\u001b[0;34m)\u001b[0m\u001b[0;34m:\u001b[0m \u001b[0;32mreturn\u001b[0m \u001b[0manp\u001b[0m\u001b[0;34m.\u001b[0m\u001b[0msubtract\u001b[0m\u001b[0;34m(\u001b[0m\u001b[0mself\u001b[0m\u001b[0;34m,\u001b[0m \u001b[0mother\u001b[0m\u001b[0;34m)\u001b[0m\u001b[0;34m\u001b[0m\u001b[0;34m\u001b[0m\u001b[0m\n\u001b[0;32m---> 27\u001b[0;31m     \u001b[0;32mdef\u001b[0m \u001b[0m__mul__\u001b[0m\u001b[0;34m(\u001b[0m\u001b[0mself\u001b[0m\u001b[0;34m,\u001b[0m \u001b[0mother\u001b[0m\u001b[0;34m)\u001b[0m\u001b[0;34m:\u001b[0m \u001b[0;32mreturn\u001b[0m \u001b[0manp\u001b[0m\u001b[0;34m.\u001b[0m\u001b[0mmultiply\u001b[0m\u001b[0;34m(\u001b[0m\u001b[0mself\u001b[0m\u001b[0;34m,\u001b[0m \u001b[0mother\u001b[0m\u001b[0;34m)\u001b[0m\u001b[0;34m\u001b[0m\u001b[0;34m\u001b[0m\u001b[0m\n\u001b[0m\u001b[1;32m     28\u001b[0m     \u001b[0;32mdef\u001b[0m \u001b[0m__pow__\u001b[0m\u001b[0;34m(\u001b[0m\u001b[0mself\u001b[0m\u001b[0;34m,\u001b[0m \u001b[0mother\u001b[0m\u001b[0;34m)\u001b[0m\u001b[0;34m:\u001b[0m \u001b[0;32mreturn\u001b[0m \u001b[0manp\u001b[0m\u001b[0;34m.\u001b[0m\u001b[0mpower\u001b[0m   \u001b[0;34m(\u001b[0m\u001b[0mself\u001b[0m\u001b[0;34m,\u001b[0m \u001b[0mother\u001b[0m\u001b[0;34m)\u001b[0m\u001b[0;34m\u001b[0m\u001b[0;34m\u001b[0m\u001b[0m\n\u001b[1;32m     29\u001b[0m     \u001b[0;32mdef\u001b[0m \u001b[0m__div__\u001b[0m\u001b[0;34m(\u001b[0m\u001b[0mself\u001b[0m\u001b[0;34m,\u001b[0m \u001b[0mother\u001b[0m\u001b[0;34m)\u001b[0m\u001b[0;34m:\u001b[0m \u001b[0;32mreturn\u001b[0m \u001b[0manp\u001b[0m\u001b[0;34m.\u001b[0m\u001b[0mdivide\u001b[0m\u001b[0;34m(\u001b[0m  \u001b[0mself\u001b[0m\u001b[0;34m,\u001b[0m \u001b[0mother\u001b[0m\u001b[0;34m)\u001b[0m\u001b[0;34m\u001b[0m\u001b[0;34m\u001b[0m\u001b[0m\n",
            "\u001b[0;32m/usr/local/lib/python3.7/dist-packages/autograd/tracer.py\u001b[0m in \u001b[0;36mf_wrapped\u001b[0;34m(*args, **kwargs)\u001b[0m\n\u001b[1;32m     43\u001b[0m             \u001b[0margnums\u001b[0m \u001b[0;34m=\u001b[0m \u001b[0mtuple\u001b[0m\u001b[0;34m(\u001b[0m\u001b[0margnum\u001b[0m    \u001b[0;32mfor\u001b[0m \u001b[0margnum\u001b[0m\u001b[0;34m,\u001b[0m \u001b[0m_\u001b[0m   \u001b[0;32min\u001b[0m \u001b[0mboxed_args\u001b[0m\u001b[0;34m)\u001b[0m\u001b[0;34m\u001b[0m\u001b[0;34m\u001b[0m\u001b[0m\n\u001b[1;32m     44\u001b[0m             \u001b[0mans\u001b[0m \u001b[0;34m=\u001b[0m \u001b[0mf_wrapped\u001b[0m\u001b[0;34m(\u001b[0m\u001b[0;34m*\u001b[0m\u001b[0margvals\u001b[0m\u001b[0;34m,\u001b[0m \u001b[0;34m**\u001b[0m\u001b[0mkwargs\u001b[0m\u001b[0;34m)\u001b[0m\u001b[0;34m\u001b[0m\u001b[0;34m\u001b[0m\u001b[0m\n\u001b[0;32m---> 45\u001b[0;31m             \u001b[0mnode\u001b[0m \u001b[0;34m=\u001b[0m \u001b[0mnode_constructor\u001b[0m\u001b[0;34m(\u001b[0m\u001b[0mans\u001b[0m\u001b[0;34m,\u001b[0m \u001b[0mf_wrapped\u001b[0m\u001b[0;34m,\u001b[0m \u001b[0margvals\u001b[0m\u001b[0;34m,\u001b[0m \u001b[0mkwargs\u001b[0m\u001b[0;34m,\u001b[0m \u001b[0margnums\u001b[0m\u001b[0;34m,\u001b[0m \u001b[0mparents\u001b[0m\u001b[0;34m)\u001b[0m\u001b[0;34m\u001b[0m\u001b[0;34m\u001b[0m\u001b[0m\n\u001b[0m\u001b[1;32m     46\u001b[0m             \u001b[0;32mreturn\u001b[0m \u001b[0mnew_box\u001b[0m\u001b[0;34m(\u001b[0m\u001b[0mans\u001b[0m\u001b[0;34m,\u001b[0m \u001b[0mtrace\u001b[0m\u001b[0;34m,\u001b[0m \u001b[0mnode\u001b[0m\u001b[0;34m)\u001b[0m\u001b[0;34m\u001b[0m\u001b[0;34m\u001b[0m\u001b[0m\n\u001b[1;32m     47\u001b[0m         \u001b[0;32melse\u001b[0m\u001b[0;34m:\u001b[0m\u001b[0;34m\u001b[0m\u001b[0;34m\u001b[0m\u001b[0m\n",
            "\u001b[0;32m/usr/local/lib/python3.7/dist-packages/autograd/core.py\u001b[0m in \u001b[0;36m__init__\u001b[0;34m(self, value, fun, args, kwargs, parent_argnums, parents)\u001b[0m\n\u001b[1;32m     34\u001b[0m             raise NotImplementedError(\"VJP of {} wrt argnums {} not defined\"\n\u001b[1;32m     35\u001b[0m                                       .format(fun_name, parent_argnums))\n\u001b[0;32m---> 36\u001b[0;31m         \u001b[0mself\u001b[0m\u001b[0;34m.\u001b[0m\u001b[0mvjp\u001b[0m \u001b[0;34m=\u001b[0m \u001b[0mvjpmaker\u001b[0m\u001b[0;34m(\u001b[0m\u001b[0mparent_argnums\u001b[0m\u001b[0;34m,\u001b[0m \u001b[0mvalue\u001b[0m\u001b[0;34m,\u001b[0m \u001b[0margs\u001b[0m\u001b[0;34m,\u001b[0m \u001b[0mkwargs\u001b[0m\u001b[0;34m)\u001b[0m\u001b[0;34m\u001b[0m\u001b[0;34m\u001b[0m\u001b[0m\n\u001b[0m\u001b[1;32m     37\u001b[0m \u001b[0;34m\u001b[0m\u001b[0m\n\u001b[1;32m     38\u001b[0m     \u001b[0;32mdef\u001b[0m \u001b[0minitialize_root\u001b[0m\u001b[0;34m(\u001b[0m\u001b[0mself\u001b[0m\u001b[0;34m)\u001b[0m\u001b[0;34m:\u001b[0m\u001b[0;34m\u001b[0m\u001b[0;34m\u001b[0m\u001b[0m\n",
            "\u001b[0;32m/usr/local/lib/python3.7/dist-packages/autograd/core.py\u001b[0m in \u001b[0;36mvjp_argnums\u001b[0;34m(argnums, ans, args, kwargs)\u001b[0m\n\u001b[1;32m     54\u001b[0m     vjps_dict = {argnum : translate_vjp(vjpmaker, fun, argnum)\n\u001b[1;32m     55\u001b[0m                  for argnum, vjpmaker in zip(argnums, vjpmakers)}\n\u001b[0;32m---> 56\u001b[0;31m     \u001b[0;32mdef\u001b[0m \u001b[0mvjp_argnums\u001b[0m\u001b[0;34m(\u001b[0m\u001b[0margnums\u001b[0m\u001b[0;34m,\u001b[0m \u001b[0mans\u001b[0m\u001b[0;34m,\u001b[0m \u001b[0margs\u001b[0m\u001b[0;34m,\u001b[0m \u001b[0mkwargs\u001b[0m\u001b[0;34m)\u001b[0m\u001b[0;34m:\u001b[0m\u001b[0;34m\u001b[0m\u001b[0;34m\u001b[0m\u001b[0m\n\u001b[0m\u001b[1;32m     57\u001b[0m         \u001b[0mL\u001b[0m \u001b[0;34m=\u001b[0m \u001b[0mlen\u001b[0m\u001b[0;34m(\u001b[0m\u001b[0margnums\u001b[0m\u001b[0;34m)\u001b[0m\u001b[0;34m\u001b[0m\u001b[0;34m\u001b[0m\u001b[0m\n\u001b[1;32m     58\u001b[0m         \u001b[0;31m# These first two cases are just optimizations\u001b[0m\u001b[0;34m\u001b[0m\u001b[0;34m\u001b[0m\u001b[0;34m\u001b[0m\u001b[0m\n",
            "\u001b[0;31mKeyboardInterrupt\u001b[0m: "
          ]
        }
      ],
      "source": [
        "#yuneixnsuanxkouyanjingbiqizsuanzxiuzhegyahcixkoukunkoukeyuneixn\n",
        "for epoches in range(600): \n",
        "  if alpha>=0.1:\n",
        "    alpha*=0.85\n",
        "  losssum = 0\n",
        "  fsum = 0\n",
        "  for batch in range(10):\n",
        "    slope = train_grad(A)\n",
        "    A-=slope*alpha\n",
        "    print(A)\n",
        "    loss, F = train_step(np.abs(A),30) \n",
        "    losssum+=loss\n",
        "    fsum += F\n",
        "    indexs=shuffle(indexs)  \n",
        "    X = X_old[indexs]\n",
        "    Y = Y_old[indexs] \n",
        "  losses.append(losssum/10)\n",
        "  FList.append(fsum/10)\n",
        "  # vl, vf = val(A,30)\n",
        "  # v_losses.append(vl)\n",
        "  # v_FList.append(vf) \n",
        "  print(FList[-1])\n",
        "  print(losssum/10) #koukezhilimeiyouchu faner shi shangmian?bushidouyiyangkokeerduo xtiaokunxtiaoerd\n",
        "  # print(v_FList[-1]) #Use fixed val set\n",
        "  print(\"----------------------\")\n"
      ]
    },
    {
      "cell_type": "markdown",
      "metadata": {
        "id": "tMg7Nlk5CccV"
      },
      "source": [
        "#### Trash Can"
      ]
    },
    {
      "cell_type": "code",
      "execution_count": null,
      "metadata": {
        "colab": {
          "base_uri": "https://localhost:8080/"
        },
        "id": "M_kDdl3a09we",
        "outputId": "e92940dd-b0ec-4c0f-c62b-e951e263a208"
      },
      "outputs": [
        {
          "name": "stdout",
          "output_type": "stream",
          "text": [
            "accuracy:  0.7192231731402239\n",
            "F1 Sore:  0.2271273192578375\n"
          ]
        },
        {
          "data": {
            "text/plain": [
              "0.08580358301594213"
            ]
          },
          "execution_count": 22,
          "metadata": {},
          "output_type": "execute_result"
        }
      ],
      "source": [
        "A = np.ones(19)\n",
        "A[8] = 800000\n",
        "train_step(A, 50)"
      ]
    },
    {
      "cell_type": "code",
      "execution_count": null,
      "metadata": {
        "colab": {
          "base_uri": "https://localhost:8080/"
        },
        "id": "OdhR7NtYLZGz",
        "outputId": "8e733409-c4a8-4da6-e87f-82a2a4c7281c"
      },
      "outputs": [
        {
          "name": "stdout",
          "output_type": "stream",
          "text": [
            "accuracy:  0.7182356813693219\n",
            "F1 Sore:  0.24092009685230023\n"
          ]
        },
        {
          "data": {
            "text/plain": [
              "0.08822852306390326"
            ]
          },
          "execution_count": 21,
          "metadata": {},
          "output_type": "execute_result"
        }
      ],
      "source": [
        "A = np.ones(19)\n",
        "train_step(A, 50)"
      ]
    },
    {
      "cell_type": "code",
      "execution_count": null,
      "metadata": {
        "id": "1p9EUP5dd14Y"
      },
      "outputs": [],
      "source": [
        "# Guess and try method for GD\n",
        "#xiamianyangttnianbenlaishibuyiyangdewhyxianzaiyiyang\n",
        "A = np.random.normal(size=19)\n",
        "def ff(A):\n",
        "  return (A/50)**2\n",
        "#duziniannashoukunnianyuenixnnasho ninasuanhuang shujubianda fanerjianadanttduaizi \n",
        "for e in range(10):\n",
        "  for i in range(19):\n",
        "    loss = train_step(A, 50)\n",
        "    A[i] += 1 #zheliojialeyaojianhuiqu a buranbaizuole shabixiamainyanghaihshibuxingkunyachiyangyijingzuixiaole? yijingzuixiaole a shabi!\n",
        "    loss2 = train_step(A, 50) #guaibudebuxing A shi float !! yachikunxikanlexiamiancaizhidaoyahciyahci \n",
        "    slope = (loss2-loss)\n",
        "    A[i] -=slope*100+1\n",
        "    print()\n",
        "    print(slope) #younlossshouzang you loss yebujianshao niaozaixiayicijianshaojkunniaodzi kunlossfuncion\n",
        "    print(loss) #henduodifangniaoshi0yachicitongxkoukunttzhebujiuxlettmanhduoniao chouweishiianaa hwenduobuwei0dewsmdingzheyigekannengnian zhejiuduilema niaokunyachi buzhiyigedifangyou soopettnao\n",
        "#yunchaojyunnaiogaileyibanyachi xkoumeiyouaaaniaoyoubuxinglehenduo bujiansahode qunasi0bukenegkunnia\n"
      ]
    },
    {
      "cell_type": "code",
      "execution_count": null,
      "metadata": {
        "colab": {
          "base_uri": "https://localhost:8080/"
        },
        "id": "5w19LQ65txP9",
        "outputId": "f739a2d1-63c7-4394-b2fc-6134115ae7de"
      },
      "outputs": [
        {
          "data": {
            "text/plain": [
              "27826.0"
            ]
          },
          "execution_count": 187,
          "metadata": {},
          "output_type": "execute_result"
        }
      ],
      "source": [
        "np.sum(A*(npX - X_val[sample])**2,axis=1)[3] #lengyachi yunkunlengduzi sum youwenti?meiyou zhejiushi 10 ge meige sde kijuli"
      ]
    },
    {
      "cell_type": "code",
      "execution_count": null,
      "metadata": {
        "colab": {
          "base_uri": "https://localhost:8080/"
        },
        "id": "rNrQIDuclhze",
        "outputId": "f097cf31-8ced-47d8-9568-e7bafa2711ea"
      },
      "outputs": [
        {
          "data": {
            "text/plain": [
              "array([[1, 2],\n",
              "       [2, 4],\n",
              "       [3, 6],\n",
              "       [4, 8]])"
            ]
          },
          "execution_count": 176,
          "metadata": {},
          "output_type": "execute_result"
        }
      ],
      "source": [
        "np.array([1,2])*[\n",
        "                 [1,1],[2,2],[3,3],[4,4]\n",
        "]"
      ]
    },
    {
      "cell_type": "code",
      "execution_count": null,
      "metadata": {
        "id": "QV0ftjhz2UYt"
      },
      "outputs": [],
      "source": [
        "A[0]=1e100"
      ]
    },
    {
      "cell_type": "code",
      "execution_count": null,
      "metadata": {
        "id": "0pPicVxgie5n"
      },
      "outputs": [],
      "source": [
        "A = np.ones(19)"
      ]
    },
    {
      "cell_type": "code",
      "execution_count": null,
      "metadata": {
        "id": "kmm8UG84igwG"
      },
      "outputs": [],
      "source": [
        "A[1]=1000000\n",
        "A[2]=1000000\n",
        "A[3]=1000000 #haishiyoubianhuadewhyzhiqinamieyo taychikunyun 1 bushi0xiamian"
      ]
    },
    {
      "cell_type": "code",
      "execution_count": null,
      "metadata": {
        "id": "GHk-fs-_hRD4"
      },
      "outputs": [],
      "source": [
        "A=np.random.normal(size=19)\n",
        "\n",
        "y=[]\n",
        "for x in range(10):\n",
        "  loss=train_step(A,50)#yansuanlyahcikunyuenxin zhekiangge doukeyi lai zuo  \n",
        "  A=np.random.normal(size=19)\n",
        "  y.append(loss) #yansanguaibudezhijieloss?bush aaaychihuang yahichiyansuan shanglmian loss= leilekuna duzikouketyahcituranxiangdao wozhegesuofangdeshibushiwuyiyideliang?s"
      ]
    },
    {
      "cell_type": "code",
      "execution_count": null,
      "metadata": {
        "colab": {
          "base_uri": "https://localhost:8080/"
        },
        "id": "UF6URVMEBv41",
        "outputId": "16d1fa01-9727-4550-e823-d9a8ca089dc5"
      },
      "outputs": [
        {
          "data": {
            "text/plain": [
              "array([1, 1])"
            ]
          },
          "execution_count": 20,
          "metadata": {},
          "output_type": "execute_result"
        }
      ],
      "source": [
        "A = np.array([1,1])\n",
        "B = np.copy(A)\n",
        "A[0]=-9\n",
        "B"
      ]
    },
    {
      "cell_type": "code",
      "execution_count": null,
      "metadata": {
        "colab": {
          "background_save": true,
          "base_uri": "https://localhost:8080/"
        },
        "id": "4WIiTKkABb6c",
        "outputId": "2b414de6-9b86-4eb6-b4f5-39e1aaf4ed18"
      },
      "outputs": [
        {
          "name": "stdout",
          "output_type": "stream",
          "text": [
            "failed\n",
            "0.16520344195232017\n",
            "0.16388664127521518\n",
            "0.1634252503879249\n",
            "0.1631056002257019\n",
            "failed\n",
            "failed\n",
            "failed\n",
            "failed\n",
            "failed\n",
            "0.16297125123430703\n",
            "0.1629388630272255\n",
            "0.16266993934264384\n",
            "failed\n",
            "failed\n",
            "0.16241393708562635\n",
            "failed\n",
            "0.16213880660177826\n",
            "failed\n",
            "0.16192991959373762\n",
            "0.16181932571589874\n",
            "failed\n",
            "0.16146553815771023\n",
            "failed\n",
            "0.1614312879108488\n",
            "0.16138157709126927\n",
            "0.16117054591620883\n",
            "0.16080259557060333\n",
            "0.1607916490337149\n",
            "failed\n",
            "0.16035423896177287\n",
            "failed\n",
            "0.160344985188321\n",
            "0.16001263930032558\n",
            "0.15982079277754374\n",
            "failed\n",
            "0.15911344336295766\n",
            "failed\n",
            "failed\n",
            "failed\n",
            "0.15904172661870614\n",
            "failed\n",
            "0.1589806178586554\n",
            "0.15845693327690885\n",
            "0.15823230356891038\n",
            "0.15759035124841378\n",
            "0.1553517844547904\n",
            "0.1537546057271846\n",
            "failed\n",
            "0.1535006912117388\n",
            "failed\n",
            "0.1473957398786894\n",
            "failed\n",
            "failed\n",
            "0.10541255466215511\n",
            "0.103020905628441\n",
            "0.09977249259416242\n",
            "0.09966477641416498\n",
            "0.09894162787417367\n",
            "0.09877494710114498\n",
            "failed\n",
            "failed\n",
            "failed\n",
            "0.09782716885315526\n",
            "0.09657379037946355\n",
            "failed\n",
            "failed\n",
            "failed\n",
            "failed\n",
            "0.09627022146988516\n",
            "0.09607143461701444\n",
            "failed\n",
            "failed\n",
            "failed\n",
            "failed\n",
            "failed\n",
            "0.09587355057130975\n",
            "failed\n",
            "0.09574439272111944\n",
            "failed\n",
            "failed\n",
            "failed\n",
            "0.09520502186486313\n",
            "0.09508714910424813\n",
            "failed\n",
            "0.09474504161376977\n",
            "failed\n",
            "0.09450162223162867\n",
            "failed\n",
            "failed\n",
            "failed\n",
            "0.09441980533220704\n",
            "0.09381052334603138\n",
            "failed\n",
            "failed\n",
            "failed\n",
            "0.09332802934123517\n",
            "0.09284587388912598\n",
            "0.09279198758640345\n",
            "0.09262609676964507\n"
          ]
        }
      ],
      "source": [
        "A=np.random.normal(size=19)\n",
        "\n",
        "y=[]\n",
        "for x in range(100):#niaokoukekunzhege shijhuasuanfattkunnnashouyouhua bengbaza\n",
        "  loss=train_step(A,50)\n",
        "  B=np.random.normal(size=19)*0.1+A #koukeniaoyyangzheyang koukeniaolearningratejiaozang\n",
        "  loss2=train_step(B,50)\n",
        "  # loss2=train_step(A,50)\n",
        "  if loss2<loss:\n",
        "    print(loss2)\n",
        "    A=np.copy(B)\n",
        "  else:\n",
        "    print(\"failed\")"
      ]
    },
    {
      "cell_type": "markdown",
      "metadata": {
        "id": "Yhdb311khJo4"
      },
      "source": [
        "kunshouzangbushoulie kun ttyunnashou huang xkou yuntt chaojikun xianhuachulai?xianbusuiji?kun"
      ]
    },
    {
      "cell_type": "code",
      "execution_count": null,
      "metadata": {
        "colab": {
          "base_uri": "https://localhost:8080/",
          "height": 283
        },
        "id": "uqgQSQX1fitY",
        "outputId": "4c00dae9-6fee-4310-a5a0-02525fd58cf1"
      },
      "outputs": [
        {
          "data": {
            "text/plain": [
              "[<matplotlib.lines.Line2D at 0x7f70b2617650>]"
            ]
          },
          "execution_count": 17,
          "metadata": {},
          "output_type": "execute_result"
        },
        {
          "data": {
            "image/png": "[encoded data removed]",
            "text/plain": [
              "<Figure size 432x288 with 1 Axes>"
            ]
          },
          "metadata": {},
          "output_type": "display_data"
        }
      ],
      "source": [
        "import matplotlib.pyplot as plt\n",
        "#niaokunkouek weismzihiqianshishanghsende jhuasuanfa?niao huangkun zang jiaozang\n",
        "\n",
        "plt.plot(y) #kunyachi haidouyiyng meisuijichaojikuntttt kuns shixianshag?niaotaijidogongjliyahci sui ji de A faner youbianhua le zengzhang  yachi xielvfanerbusing"
      ]
    },
    {
      "cell_type": "code",
      "execution_count": null,
      "metadata": {
        "id": "JZqDLfe34DqS"
      },
      "outputs": [],
      "source": [
        "# zhengming A shi youyxiangdekunbunengzhiyongyigebianliang "
      ]
    },
    {
      "cell_type": "code",
      "execution_count": null,
      "metadata": {
        "colab": {
          "base_uri": "https://localhost:8080/"
        },
        "id": "VCfM1bqIfD4h",
        "outputId": "f12d0c9f-784a-4ac1-aa12-3da0aafd2c7f"
      },
      "outputs": [
        {
          "name": "stdout",
          "output_type": "stream",
          "text": [
            "0.9859556725916173\n",
            "0.37058823529411766\n",
            "0.75\n",
            "0.08788173741362298\n"
          ]
        },
        {
          "data": {
            "text/plain": [
              "0.08788173741362298"
            ]
          },
          "execution_count": 41,
          "metadata": {},
          "output_type": "execute_result"
        }
      ],
      "source": [
        ""
      ]
    },
    {
      "cell_type": "code",
      "execution_count": null,
      "metadata": {
        "colab": {
          "base_uri": "https://localhost:8080/"
        },
        "id": "knlRLxXFYJWm",
        "outputId": "b13a07f9-4fbd-40d0-bb19-bf2f272d3898"
      },
      "outputs": [
        {
          "data": {
            "text/plain": [
              "0.18000000000000022"
            ]
          },
          "execution_count": 345,
          "metadata": {},
          "output_type": "execute_result"
        }
      ],
      "source": [
        "sum1/(sum0+sum1)"
      ]
    },
    {
      "cell_type": "code",
      "execution_count": null,
      "metadata": {
        "colab": {
          "base_uri": "https://localhost:8080/"
        },
        "id": "GSzuYu0kXEzo",
        "outputId": "733e4c05-db30-46cf-b514-4838967a4f01"
      },
      "outputs": [
        {
          "data": {
            "text/plain": [
              "-9.999999989999978e-08"
            ]
          },
          "execution_count": 335,
          "metadata": {},
          "output_type": "execute_result"
        }
      ],
      "source": [
        "sum"
      ]
    },
    {
      "cell_type": "code",
      "execution_count": null,
      "metadata": {
        "colab": {
          "base_uri": "https://localhost:8080/"
        },
        "id": "jFhePXPnTg8m",
        "outputId": "a92206f5-f841-4007-b443-9de70beab1f9"
      },
      "outputs": [
        {
          "data": {
            "text/plain": [
              "4043056.074194"
            ]
          },
          "execution_count": 328,
          "metadata": {},
          "output_type": "execute_result"
        }
      ],
      "source": [
        "distance[8]"
      ]
    },
    {
      "cell_type": "markdown",
      "metadata": {
        "id": "fKtLuqMzcqeq"
      },
      "source": [
        "### Baseline 2 (NN)"
      ]
    },
    {
      "cell_type": "code",
      "execution_count": null,
      "metadata": {
        "id": "cO5iRGOaaTgq"
      },
      "outputs": [],
      "source": [
        "import tensorflow as tf\n",
        "\n",
        "import os\n",
        "import tensorflow_datasets as tfds\n",
        "import numpy as np\n",
        "from PIL import Image\n",
        "\n",
        "import matplotlib.pyplot as plt\n",
        "import matplotlib.patches as patches"
      ]
    },
    {
      "cell_type": "code",
      "source": [
        "def f2(real, pred):\n",
        "  return sklearn.metrics.fbeta_score(real, pred, beta=2)"
      ],
      "metadata": {
        "id": "u_a6iZRXNz2q"
      },
      "execution_count": 16,
      "outputs": []
    },
    {
      "cell_type": "code",
      "execution_count": 298,
      "metadata": {
        "colab": {
          "base_uri": "https://localhost:8080/"
        },
        "id": "G_zQuJIvaH_M",
        "outputId": "1b67d756-746a-43d5-d9f0-3c0d508751ed"
      },
      "outputs": [
        {
          "output_type": "stream",
          "name": "stdout",
          "text": [
            "Model: \"sequential_16\"\n",
            "_________________________________________________________________\n",
            " Layer (type)                Output Shape              Param #   \n",
            "=================================================================\n",
            " dense_112 (Dense)           (None, 40)                800       \n",
            "                                                                 \n",
            " dense_113 (Dense)           (None, 50)                2050      \n",
            "                                                                 \n",
            " dense_114 (Dense)           (None, 60)                3060      \n",
            "                                                                 \n",
            " dense_115 (Dense)           (None, 50)                3050      \n",
            "                                                                 \n",
            " dense_116 (Dense)           (None, 20)                1020      \n",
            "                                                                 \n",
            " dense_117 (Dense)           (None, 10)                210       \n",
            "                                                                 \n",
            " dense_118 (Dense)           (None, 1)                 11        \n",
            "                                                                 \n",
            "=================================================================\n",
            "Total params: 10,201\n",
            "Trainable params: 10,201\n",
            "Non-trainable params: 0\n",
            "_________________________________________________________________\n",
            "Epoch 1/50\n",
            "254/254 [==============================] - 2s 4ms/step - loss: 2.8509 - accuracy: 0.7776 - val_loss: 0.4613 - val_accuracy: 0.8504\n",
            "Epoch 2/50\n",
            "254/254 [==============================] - 1s 3ms/step - loss: 0.7897 - accuracy: 0.7418 - val_loss: 0.5418 - val_accuracy: 0.8124\n",
            "Epoch 3/50\n",
            "254/254 [==============================] - 1s 3ms/step - loss: 0.3838 - accuracy: 0.8461 - val_loss: 0.3917 - val_accuracy: 0.8124\n",
            "Epoch 4/50\n",
            "254/254 [==============================] - 1s 3ms/step - loss: 0.3718 - accuracy: 0.8461 - val_loss: 0.3735 - val_accuracy: 0.8124\n",
            "Epoch 5/50\n",
            "254/254 [==============================] - 1s 3ms/step - loss: 0.3609 - accuracy: 0.8461 - val_loss: 0.4110 - val_accuracy: 0.8124\n",
            "Epoch 6/50\n",
            "254/254 [==============================] - 1s 3ms/step - loss: 0.3529 - accuracy: 0.8461 - val_loss: 0.4032 - val_accuracy: 0.8124\n",
            "Epoch 7/50\n",
            "254/254 [==============================] - 1s 3ms/step - loss: 0.3556 - accuracy: 0.8461 - val_loss: 0.4045 - val_accuracy: 0.8124\n",
            "Epoch 8/50\n",
            "254/254 [==============================] - 1s 3ms/step - loss: 0.3535 - accuracy: 0.8461 - val_loss: 0.3818 - val_accuracy: 0.8124\n",
            "Epoch 9/50\n",
            "254/254 [==============================] - 1s 3ms/step - loss: 0.3531 - accuracy: 0.8461 - val_loss: 0.3704 - val_accuracy: 0.8124\n",
            "Epoch 10/50\n",
            "254/254 [==============================] - 1s 3ms/step - loss: 0.3538 - accuracy: 0.8461 - val_loss: 0.3624 - val_accuracy: 0.8124\n",
            "Epoch 11/50\n",
            "254/254 [==============================] - 1s 3ms/step - loss: 0.3628 - accuracy: 0.8461 - val_loss: 0.5341 - val_accuracy: 0.8124\n",
            "Epoch 12/50\n",
            "254/254 [==============================] - 1s 3ms/step - loss: 0.3552 - accuracy: 0.8461 - val_loss: 0.3677 - val_accuracy: 0.8124\n",
            "Epoch 13/50\n",
            "254/254 [==============================] - 1s 3ms/step - loss: 0.3509 - accuracy: 0.8461 - val_loss: 0.3974 - val_accuracy: 0.8124\n",
            "Epoch 14/50\n",
            "254/254 [==============================] - 1s 3ms/step - loss: 0.3482 - accuracy: 0.8461 - val_loss: 0.4218 - val_accuracy: 0.8124\n",
            "Epoch 15/50\n",
            "254/254 [==============================] - 1s 3ms/step - loss: 0.3451 - accuracy: 0.8461 - val_loss: 0.4633 - val_accuracy: 0.8124\n",
            "Epoch 16/50\n",
            "254/254 [==============================] - 1s 3ms/step - loss: 0.3463 - accuracy: 0.8461 - val_loss: 0.3971 - val_accuracy: 0.8124\n",
            "Epoch 17/50\n",
            "254/254 [==============================] - 1s 3ms/step - loss: 0.3484 - accuracy: 0.8461 - val_loss: 0.4097 - val_accuracy: 0.8124\n",
            "Epoch 18/50\n",
            "254/254 [==============================] - 1s 3ms/step - loss: 0.3476 - accuracy: 0.8461 - val_loss: 0.4944 - val_accuracy: 0.8124\n",
            "Epoch 19/50\n",
            "254/254 [==============================] - 1s 3ms/step - loss: 0.3509 - accuracy: 0.8461 - val_loss: 0.3857 - val_accuracy: 0.8124\n",
            "Epoch 20/50\n",
            "254/254 [==============================] - 1s 3ms/step - loss: 0.3429 - accuracy: 0.8461 - val_loss: 0.4197 - val_accuracy: 0.8124\n",
            "Epoch 21/50\n",
            "254/254 [==============================] - 1s 3ms/step - loss: 0.3408 - accuracy: 0.8461 - val_loss: 0.4051 - val_accuracy: 0.8124\n",
            "Epoch 22/50\n",
            "254/254 [==============================] - 1s 3ms/step - loss: 0.3457 - accuracy: 0.8461 - val_loss: 0.3652 - val_accuracy: 0.8124\n",
            "Epoch 23/50\n",
            "254/254 [==============================] - 1s 3ms/step - loss: 0.3479 - accuracy: 0.8462 - val_loss: 0.4101 - val_accuracy: 0.8124\n",
            "Epoch 24/50\n",
            "254/254 [==============================] - 1s 3ms/step - loss: 0.3477 - accuracy: 0.8461 - val_loss: 0.5067 - val_accuracy: 0.8124\n",
            "Epoch 25/50\n",
            "254/254 [==============================] - 1s 3ms/step - loss: 0.3528 - accuracy: 0.8459 - val_loss: 0.4568 - val_accuracy: 0.8124\n",
            "Epoch 26/50\n",
            "254/254 [==============================] - 1s 3ms/step - loss: 0.3491 - accuracy: 0.8461 - val_loss: 0.4267 - val_accuracy: 0.8124\n",
            "Epoch 27/50\n",
            "254/254 [==============================] - 1s 3ms/step - loss: 0.3464 - accuracy: 0.8461 - val_loss: 0.4193 - val_accuracy: 0.8124\n",
            "Epoch 28/50\n",
            "254/254 [==============================] - 1s 3ms/step - loss: 0.3464 - accuracy: 0.8461 - val_loss: 0.4141 - val_accuracy: 0.8124\n",
            "Epoch 29/50\n",
            "254/254 [==============================] - 1s 3ms/step - loss: 0.3397 - accuracy: 0.8461 - val_loss: 0.5390 - val_accuracy: 0.8124\n",
            "Epoch 30/50\n",
            "254/254 [==============================] - 1s 3ms/step - loss: 0.3395 - accuracy: 0.8461 - val_loss: 0.4154 - val_accuracy: 0.8124\n",
            "Epoch 31/50\n",
            "254/254 [==============================] - 1s 3ms/step - loss: 0.3514 - accuracy: 0.8461 - val_loss: 0.4112 - val_accuracy: 0.8124\n",
            "Epoch 32/50\n",
            "254/254 [==============================] - 1s 3ms/step - loss: 0.3354 - accuracy: 0.8461 - val_loss: 0.4297 - val_accuracy: 0.8124\n",
            "Epoch 33/50\n",
            "254/254 [==============================] - 1s 3ms/step - loss: 0.3337 - accuracy: 0.8530 - val_loss: 0.4024 - val_accuracy: 0.8317\n",
            "Epoch 34/50\n",
            "254/254 [==============================] - 1s 3ms/step - loss: 0.3396 - accuracy: 0.8513 - val_loss: 0.4472 - val_accuracy: 0.8124\n",
            "Epoch 35/50\n",
            "254/254 [==============================] - 1s 3ms/step - loss: 0.3351 - accuracy: 0.8563 - val_loss: 0.3882 - val_accuracy: 0.8337\n",
            "Epoch 36/50\n",
            "254/254 [==============================] - 1s 3ms/step - loss: 0.3627 - accuracy: 0.8535 - val_loss: 0.3321 - val_accuracy: 0.8154\n",
            "Epoch 37/50\n",
            "254/254 [==============================] - 1s 3ms/step - loss: 0.3359 - accuracy: 0.8589 - val_loss: 0.3616 - val_accuracy: 0.8223\n",
            "Epoch 38/50\n",
            "254/254 [==============================] - 1s 3ms/step - loss: 0.3271 - accuracy: 0.8632 - val_loss: 0.3347 - val_accuracy: 0.8722\n",
            "Epoch 39/50\n",
            "254/254 [==============================] - 1s 3ms/step - loss: 0.3304 - accuracy: 0.8605 - val_loss: 0.3384 - val_accuracy: 0.8559\n",
            "Epoch 40/50\n",
            "254/254 [==============================] - 1s 3ms/step - loss: 0.3212 - accuracy: 0.8650 - val_loss: 0.3863 - val_accuracy: 0.8317\n",
            "Epoch 41/50\n",
            "254/254 [==============================] - 1s 3ms/step - loss: 0.3165 - accuracy: 0.8690 - val_loss: 0.3444 - val_accuracy: 0.8588\n",
            "Epoch 42/50\n",
            "254/254 [==============================] - 1s 3ms/step - loss: 0.3081 - accuracy: 0.8701 - val_loss: 0.3299 - val_accuracy: 0.8707\n",
            "Epoch 43/50\n",
            "254/254 [==============================] - 1s 3ms/step - loss: 0.3092 - accuracy: 0.8701 - val_loss: 0.4765 - val_accuracy: 0.8213\n",
            "Epoch 44/50\n",
            "254/254 [==============================] - 1s 3ms/step - loss: 0.3000 - accuracy: 0.8730 - val_loss: 0.4432 - val_accuracy: 0.8440\n",
            "Epoch 45/50\n",
            "254/254 [==============================] - 1s 3ms/step - loss: 0.2981 - accuracy: 0.8771 - val_loss: 0.4267 - val_accuracy: 0.8292\n",
            "Epoch 46/50\n",
            "254/254 [==============================] - 1s 3ms/step - loss: 0.2918 - accuracy: 0.8785 - val_loss: 0.4293 - val_accuracy: 0.8381\n",
            "Epoch 47/50\n",
            "254/254 [==============================] - 1s 3ms/step - loss: 0.2874 - accuracy: 0.8837 - val_loss: 0.5278 - val_accuracy: 0.8263\n",
            "Epoch 48/50\n",
            "254/254 [==============================] - 1s 3ms/step - loss: 0.2933 - accuracy: 0.8779 - val_loss: 0.3451 - val_accuracy: 0.8529\n",
            "Epoch 49/50\n",
            "254/254 [==============================] - 1s 3ms/step - loss: 0.3020 - accuracy: 0.8789 - val_loss: 0.3153 - val_accuracy: 0.8815\n",
            "Epoch 50/50\n",
            "254/254 [==============================] - 1s 3ms/step - loss: 0.2912 - accuracy: 0.8812 - val_loss: 0.3519 - val_accuracy: 0.8361\n"
          ]
        },
        {
          "output_type": "execute_result",
          "data": {
            "text/plain": [
              "<keras.callbacks.History at 0x7fcd123c1e90>"
            ]
          },
          "metadata": {},
          "execution_count": 298
        }
      ],
      "source": [
        "import tensorflow as tf\n",
        "\n",
        "import os\n",
        "import tensorflow_datasets as tfds\n",
        "import numpy as np\n",
        "from PIL import Image\n",
        "\n",
        "import matplotlib.pyplot as plt\n",
        "import matplotlib.patches as patches\n",
        "\n",
        "model = tf.keras.models.Sequential([\n",
        "  tf.keras.layers.Input(X.shape[1]),\n",
        "  tf.keras.layers.Dense(40, activation=\"relu\"),\n",
        "  tf.keras.layers.Dense(50, activation=\"relu\"),\n",
        "  tf.keras.layers.Dense(60, activation=\"relu\"),\n",
        "  tf.keras.layers.Dense(50, activation=\"relu\"),\n",
        "  tf.keras.layers.Dense(20, activation=\"relu\"),\n",
        "  tf.keras.layers.Dense(10, activation=\"relu\"),\n",
        "  tf.keras.layers.Dense(1, activation=\"sigmoid\"),\n",
        "])\n",
        "model.summary()\n",
        "# print(model.output_shape)\n",
        "model.compile(optimizer=tf.keras.optimizers.Adam(),\n",
        "          loss='binary_crossentropy',metrics=[\"accuracy\"])\n",
        "model.fit(X, Y, epochs = 50,validation_split=0.2)#xkoukuntrrepochesdoumeigaiahziqin"
      ]
    },
    {
      "cell_type": "code",
      "execution_count": null,
      "metadata": {
        "colab": {
          "base_uri": "https://localhost:8080/"
        },
        "id": "Z9PlqKWZcd5f",
        "outputId": "567134e9-c075-41ff-fac2-fe6d1344959e"
      },
      "outputs": [
        {
          "name": "stdout",
          "output_type": "stream",
          "text": [
            "317/317 [==============================] - 1s 4ms/step - loss: 0.6061 - accuracy: 0.8216\n"
          ]
        },
        {
          "data": {
            "text/plain": [
              "<keras.callbacks.History at 0x7efeff6d43d0>"
            ]
          },
          "execution_count": 21,
          "metadata": {},
          "output_type": "execute_result"
        }
      ],
      "source": [
        "model.fit(X,Y)"
      ]
    }
  ],
  "metadata": {
    "colab": {
      "collapsed_sections": [],
      "name": "Credit Card Test.ipynb",
      "provenance": [],
      "mount_file_id": "11pxfa3iO7zJ8cidD-CBKIivDMbNQcAPp",
      "authorship_tag": "ABX9TyPHb8nm7DUvGOtVRKKIHNsO",
      "include_colab_link": true
    },
    "kernelspec": {
      "display_name": "Python 3",
      "name": "python3"
    },
    "language_info": {
      "name": "python"
    }
  },
  "nbformat": 4,
  "nbformat_minor": 0
}