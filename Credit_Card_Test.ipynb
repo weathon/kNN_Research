{
  "nbformat": 4,
  "nbformat_minor": 0,
  "metadata": {
    "colab": {
      "name": "Credit Card Test.ipynb",
      "provenance": [],
      "collapsed_sections": [],
      "authorship_tag": "ABX9TyN8o2lAws9URRqYNvermwQH",
      "include_colab_link": true
    },
    "kernelspec": {
      "name": "python3",
      "display_name": "Python 3"
    },
    "language_info": {
      "name": "python"
    }
  },
  "cells": [
    {
      "cell_type": "markdown",
      "metadata": {
        "id": "view-in-github",
        "colab_type": "text"
      },
      "source": [
        "<a href=\"https://colab.research.google.com/github/weathon/kNN_Research/blob/main/Credit_Card_Test.ipynb\" target=\"_parent\"><img src=\"https://colab.research.google.com/assets/colab-badge.svg\" alt=\"Open In Colab\"/></a>"
      ]
    },
    {
      "cell_type": "code",
      "execution_count": null,
      "metadata": {
        "colab": {
          "base_uri": "https://localhost:8080/"
        },
        "id": "Xp1nNwCaskI7",
        "outputId": "3ef08d32-d27b-463c-8176-5b88791c6a16"
      },
      "outputs": [
        {
          "output_type": "stream",
          "name": "stdout",
          "text": [
            "Warning: Your Kaggle API key is readable by other users on this system! To fix this, you can run 'chmod 600 /root/.kaggle/kaggle.json'\n",
            "credit-card-customers.zip: Skipping, found more recently modified local copy (use --force to force download)\n",
            "Archive:  credit-card-customers.zip\n",
            "  inflating: BankChurners.csv        \n"
          ]
        }
      ],
      "source": [
        "!cp kaggle.json /root/.kaggle/\n",
        "!kaggle datasets download -d sakshigoyal7/credit-card-customers\n",
        "!unzip credit-card-customers.zip"
      ]
    },
    {
      "cell_type": "code",
      "source": [
        "import pandas as pd\n",
        "import numpy as np"
      ],
      "metadata": {
        "id": "M7CYYLrvxB1F"
      },
      "execution_count": null,
      "outputs": []
    },
    {
      "cell_type": "markdown",
      "source": [
        "### Data Washing"
      ],
      "metadata": {
        "id": "bGOd4Spyw9-u"
      }
    },
    {
      "cell_type": "code",
      "source": [
        "BankChurners = pd.read_csv(\"BankChurners.csv\")"
      ],
      "metadata": {
        "id": "YTxbDnWpxM6n"
      },
      "execution_count": 69,
      "outputs": []
    },
    {
      "cell_type": "code",
      "source": [
        "del BankChurners[\"Naive_Bayes_Classifier_Attrition_Flag_Card_Category_Contacts_Count_12_mon_Dependent_count_Education_Level_Months_Inactive_12_mon_1\"]\n",
        "del BankChurners[\"Naive_Bayes_Classifier_Attrition_Flag_Card_Category_Contacts_Count_12_mon_Dependent_count_Education_Level_Months_Inactive_12_mon_2\"]"
      ],
      "metadata": {
        "id": "xXzWcNCg3Zle"
      },
      "execution_count": 70,
      "outputs": []
    },
    {
      "cell_type": "code",
      "source": [
        "Y = BankChurners[\"Attrition_Flag\"]\n",
        "del BankChurners[\"Attrition_Flag\"]\n",
        "del BankChurners[\"CLIENTNUM\"]\n",
        "X = BankChurners"
      ],
      "metadata": {
        "id": "fFWtW_Yr3v5V"
      },
      "execution_count": 71,
      "outputs": []
    },
    {
      "cell_type": "code",
      "source": [
        "Y = Y.replace(\"Existing Customer\",0).replace(\"Attrited Customer\",1)"
      ],
      "metadata": {
        "id": "cMrBJLNA35kX"
      },
      "execution_count": 72,
      "outputs": []
    },
    {
      "cell_type": "code",
      "source": [
        "X[\"Gender\"] = X[\"Gender\"].replace(\"M\",1).replace(\"F\",0)\n",
        "X[\"Marital_Status\"] = X[\"Marital_Status\"].replace(\"Married\",0).replace(\"Single\",1).replace(\"Divorced\",2).replace(\"Unknown\",3)\n",
        "X[\"Education_Level\"] = X[\"Education_Level\"].replace(\"Uneducated\",0).replace(\"High School\",1).replace(\"College\",2).replace(\"Graduate\",3).replace(\"Post-Graduate\",4).replace(\"Doctorate\",5).replace(\"Unknown\",-1)"
      ],
      "metadata": {
        "id": "BXYqrbW85uTs"
      },
      "execution_count": 74,
      "outputs": []
    },
    {
      "cell_type": "code",
      "source": [
        "X.Card_Category.value_counts"
      ],
      "metadata": {
        "colab": {
          "base_uri": "https://localhost:8080/"
        },
        "id": "vO5IxpIq7arI",
        "outputId": "0753c10f-3248-4c17-8b23-6323373982d1"
      },
      "execution_count": 77,
      "outputs": [
        {
          "output_type": "execute_result",
          "data": {
            "text/plain": [
              "0          Blue\n",
              "1          Blue\n",
              "2          Blue\n",
              "3          Blue\n",
              "4          Blue\n",
              "          ...  \n",
              "10122      Blue\n",
              "10123      Blue\n",
              "10124      Blue\n",
              "10125      Blue\n",
              "10126    Silver\n",
              "Name: Card_Category, Length: 10127, dtype: object"
            ]
          },
          "metadata": {},
          "execution_count": 77
        }
      ]
    }
  ]
}