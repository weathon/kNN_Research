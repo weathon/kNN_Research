{
  "cells": [
    {
      "cell_type": "markdown",
      "metadata": {
        "id": "view-in-github",
        "colab_type": "text"
      },
      "source": [
        "<a href=\"https://colab.research.google.com/github/weathon/kNN_Research/blob/main/Credit_Card_Test.ipynb\" target=\"_parent\"><img src=\"https://colab.research.google.com/assets/colab-badge.svg\" alt=\"Open In Colab\"/></a>"
      ]
    },
    {
      "cell_type": "code",
      "execution_count": null,
      "metadata": {
        "colab": {
          "base_uri": "https://localhost:8080/"
        },
        "id": "Xp1nNwCaskI7",
        "outputId": "3ef08d32-d27b-463c-8176-5b88791c6a16"
      },
      "outputs": [
        {
          "name": "stdout",
          "output_type": "stream",
          "text": [
            "Warning: Your Kaggle API key is readable by other users on this system! To fix this, you can run 'chmod 600 /root/.kaggle/kaggle.json'\n",
            "credit-card-customers.zip: Skipping, found more recently modified local copy (use --force to force download)\n",
            "Archive:  credit-card-customers.zip\n",
            "  inflating: BankChurners.csv        \n"
          ]
        }
      ],
      "source": [
        "!cp kaggle.json /root/.kaggle/\n",
        "!kaggle datasets download -d sakshigoyal7/credit-card-customers\n",
        "!unzip credit-card-customers.zip"
      ]
    },
    {
      "cell_type": "code",
      "execution_count": null,
      "metadata": {
        "id": "M7CYYLrvxB1F"
      },
      "outputs": [],
      "source": [
        "import pandas as pd\n",
        "import numpy as np"
      ]
    },
    {
      "cell_type": "markdown",
      "metadata": {
        "id": "bGOd4Spyw9-u"
      },
      "source": [
        "### Data Washing"
      ]
    },
    {
      "cell_type": "code",
      "execution_count": null,
      "metadata": {
        "id": "YTxbDnWpxM6n"
      },
      "outputs": [],
      "source": [
        "BankChurners = pd.read_csv(\"BankChurners.csv\")"
      ]
    },
    {
      "cell_type": "code",
      "execution_count": null,
      "metadata": {
        "id": "xXzWcNCg3Zle"
      },
      "outputs": [],
      "source": [
        "del BankChurners[\"Naive_Bayes_Classifier_Attrition_Flag_Card_Category_Contacts_Count_12_mon_Dependent_count_Education_Level_Months_Inactive_12_mon_1\"]\n",
        "del BankChurners[\"Naive_Bayes_Classifier_Attrition_Flag_Card_Category_Contacts_Count_12_mon_Dependent_count_Education_Level_Months_Inactive_12_mon_2\"]"
      ]
    },
    {
      "cell_type": "code",
      "execution_count": null,
      "metadata": {
        "id": "fFWtW_Yr3v5V"
      },
      "outputs": [],
      "source": [
        "Y = BankChurners[\"Attrition_Flag\"]\n",
        "del BankChurners[\"Attrition_Flag\"]\n",
        "del BankChurners[\"CLIENTNUM\"]\n",
        "X = BankChurners"
      ]
    },
    {
      "cell_type": "code",
      "execution_count": null,
      "metadata": {
        "id": "cMrBJLNA35kX"
      },
      "outputs": [],
      "source": [
        "Y = Y.replace(\"Existing Customer\",0).replace(\"Attrited Customer\",1)"
      ]
    },
    {
      "cell_type": "code",
      "execution_count": null,
      "metadata": {
        "id": "BXYqrbW85uTs"
      },
      "outputs": [],
      "source": [
        "X[\"Gender\"] = X[\"Gender\"].replace(\"M\",1).replace(\"F\",0)\n",
        "X[\"Marital_Status\"] = X[\"Marital_Status\"].replace(\"Married\",0).replace(\"Single\",1).replace(\"Divorced\",2).replace(\"Unknown\",3)\n",
        "X[\"Education_Level\"] = X[\"Education_Level\"].replace(\"Uneducated\",0).replace(\"High School\",1).replace(\"College\",2).replace(\"Graduate\",3).replace(\"Post-Graduate\",4).replace(\"Doctorate\",5).replace(\"Unknown\",-1)\n",
        "X[\"Card_Category\"] = X[\"Card_Category\"].replace(\"Blue\",0).replace(\"Silver\",1).replace(\"Gold\",2).replace(\"Platinum\",3)\n",
        "X[\"Income_Category\"] = X[\"Income_Category\"].replace(\"Less than $40K\",0).replace(\"$40K - $60K\",1).replace(\"$60K - $80K\",2).replace(\"$80K - $120K\",3).replace(\"$120K +\",4).replace(\"Unknown\",-1)"
      ]
    },
    {
      "cell_type": "markdown",
      "metadata": {
        "id": "CVTu8XTf8bBm"
      },
      "source": [
        "### Baseline: tradional kNN"
      ]
    },
    {
      "cell_type": "code",
      "execution_count": null,
      "metadata": {
        "id": "Muw3v8H8ClqT"
      },
      "outputs": [],
      "source": [
        "def result(sum0, sum1):\n",
        "  return 1 if sum1>sum0 else 0"
      ]
    },
    {
      "cell_type": "code",
      "execution_count": null,
      "metadata": {
        "id": "rvpDY1Jc8pAY"
      },
      "outputs": [],
      "source": [
        "X = np.array(X)\n",
        "Y = np.array(Y)\n",
        "indexs = np.arange(len(X))\n",
        "\n",
        "np.random.shuffle(indexs)\n",
        "X = X[indexs]\n",
        "Y = Y[indexs]\n",
        "def train_step(A, k):\n",
        "  global X,Y\n",
        "  r = int(len(X)*0.9)\n",
        "  npX = np.array(X[:r])\n",
        "  npY = np.array(Y[:r])\n",
        "  X_val = np.array(X[r:])\n",
        "  Y_val = np.array(Y[r:])\n",
        "\n",
        "  error = 0\n",
        "  TruePositives = 0\n",
        "  FalseNegatives = 0\n",
        "  FalsePositives = 0\n",
        "  TrueNegatives = 0\n",
        "  MSE = 0\n",
        "\n",
        "  for sample in range(len(X)-r): # change this from 20 to r decreased the accuracy a alot\n",
        "    distance = np.sum(A*(npX - X_val[sample])**2,axis=1) #tamadeguaibudebuxiajiangzheli dou ba A shanle gai k cixingqilai yang\n",
        "    sum0 = 0\n",
        "    sum1 = 0\n",
        "    for i in range(k):\n",
        "      m = np.argmin(distance)\n",
        "      distance[m] = 1000000000 \n",
        "      sum0 += 1/(distance[m]+1) * (1-npY[m])\n",
        "      sum1 += 1/(distance[m]+1) * (npY[m])\n",
        "\n",
        "    if(Y_val[sample] != result(sum0, sum1)):\n",
        "      error+=1\n",
        "    \n",
        "    if Y_val[sample] == result(sum0, sum1) == 1:\n",
        "      TruePositives += 1\n",
        "\n",
        "    if result(sum0, sum1) == 0 and Y_val[sample] == 1:\n",
        "      FalseNegatives +=1\n",
        "\n",
        "    if result(sum0, sum1) == 1 and Y_val[sample] == 0:\n",
        "      FalsePositives +=1\n",
        "\n",
        "    if Y_val[sample] == result(sum0, sum1) == 0:\n",
        "      TrueNegatives += 1\n",
        "\n",
        "    MSE += (sum1/(sum0+sum1) - Y_val[sample])**2\n",
        "\n",
        "  # print(1-error/r)\n",
        "  # print(TruePositives / (TruePositives + FalseNegatives))\n",
        "  # print(TruePositives / (TruePositives + FalsePositives))\n",
        "  # print(MSE/(len(X)-r)) \n",
        "  # return MSE/(len(X)-r)\n",
        "  return  MSE/(len(X)-r)"
      ]
    },
    {
      "cell_type": "code",
      "execution_count": null,
      "metadata": {
        "colab": {
          "base_uri": "https://localhost:8080/"
        },
        "id": "M_kDdl3a09we",
        "outputId": "7c6eb68b-4a38-4e3b-a1a4-2ca1e9153cd6"
      },
      "outputs": [
        {
          "data": {
            "text/plain": [
              "1.0"
            ]
          },
          "execution_count": 175,
          "metadata": {},
          "output_type": "execute_result"
        }
      ],
      "source": [
        ""
      ]
    },
    {
      "cell_type": "code",
      "execution_count": 195,
      "metadata": {
        "colab": {
          "base_uri": "https://localhost:8080/",
          "height": 401
        },
        "id": "1p9EUP5dd14Y",
        "outputId": "b7841d4f-49d9-417a-fff0-c48ea55f14a2"
      },
      "outputs": [
        {
          "output_type": "stream",
          "name": "stdout",
          "text": [
            "0.0\n",
            "0.0\n"
          ]
        },
        {
          "output_type": "error",
          "ename": "KeyboardInterrupt",
          "evalue": "ignored",
          "traceback": [
            "\u001b[0;31m---------------------------------------------------------------------------\u001b[0m",
            "\u001b[0;31mKeyboardInterrupt\u001b[0m                         Traceback (most recent call last)",
            "\u001b[0;32m<ipython-input-195-2929478f6d53>\u001b[0m in \u001b[0;36m<module>\u001b[0;34m()\u001b[0m\n\u001b[1;32m      6\u001b[0m \u001b[0;34m\u001b[0m\u001b[0m\n\u001b[1;32m      7\u001b[0m \u001b[0;32mfor\u001b[0m \u001b[0mi\u001b[0m \u001b[0;32min\u001b[0m \u001b[0mrange\u001b[0m\u001b[0;34m(\u001b[0m\u001b[0;36m19\u001b[0m\u001b[0;34m)\u001b[0m\u001b[0;34m:\u001b[0m\u001b[0;34m\u001b[0m\u001b[0;34m\u001b[0m\u001b[0m\n\u001b[0;32m----> 8\u001b[0;31m   \u001b[0mloss\u001b[0m \u001b[0;34m=\u001b[0m \u001b[0mtrain_step\u001b[0m\u001b[0;34m(\u001b[0m\u001b[0mA\u001b[0m\u001b[0;34m,\u001b[0m \u001b[0;36m10\u001b[0m\u001b[0;34m)\u001b[0m\u001b[0;34m\u001b[0m\u001b[0;34m\u001b[0m\u001b[0m\n\u001b[0m\u001b[1;32m      9\u001b[0m   \u001b[0mA\u001b[0m\u001b[0;34m[\u001b[0m\u001b[0;36m0\u001b[0m\u001b[0;34m]\u001b[0m \u001b[0;34m+=\u001b[0m \u001b[0;36m1\u001b[0m \u001b[0;31m#zheliojialeyaojianhuiqu a buranbaizuole shabixiamainyanghaihshibuxingkunyachiyangyijingzuixiaole? yijingzuixiaole a shabi!\u001b[0m\u001b[0;34m\u001b[0m\u001b[0;34m\u001b[0m\u001b[0m\n\u001b[1;32m     10\u001b[0m   \u001b[0mloss2\u001b[0m \u001b[0;34m=\u001b[0m \u001b[0mtrain_step\u001b[0m\u001b[0;34m(\u001b[0m\u001b[0mA\u001b[0m\u001b[0;34m,\u001b[0m \u001b[0;36m10\u001b[0m\u001b[0;34m)\u001b[0m \u001b[0;31m#guaibudebuxing A shi float !! yachikunxikanlexiamiancaizhidaoyahciyahci\u001b[0m\u001b[0;34m\u001b[0m\u001b[0;34m\u001b[0m\u001b[0m\n",
            "\u001b[0;32m<ipython-input-164-c8b1c42e51f6>\u001b[0m in \u001b[0;36mtrain_step\u001b[0;34m(A, k)\u001b[0m\n\u001b[1;32m     22\u001b[0m \u001b[0;34m\u001b[0m\u001b[0m\n\u001b[1;32m     23\u001b[0m   \u001b[0;32mfor\u001b[0m \u001b[0msample\u001b[0m \u001b[0;32min\u001b[0m \u001b[0mrange\u001b[0m\u001b[0;34m(\u001b[0m\u001b[0mlen\u001b[0m\u001b[0;34m(\u001b[0m\u001b[0mX\u001b[0m\u001b[0;34m)\u001b[0m\u001b[0;34m-\u001b[0m\u001b[0mr\u001b[0m\u001b[0;34m)\u001b[0m\u001b[0;34m:\u001b[0m \u001b[0;31m# change this from 20 to r decreased the accuracy a alot\u001b[0m\u001b[0;34m\u001b[0m\u001b[0;34m\u001b[0m\u001b[0m\n\u001b[0;32m---> 24\u001b[0;31m     \u001b[0mdistance\u001b[0m \u001b[0;34m=\u001b[0m \u001b[0mnp\u001b[0m\u001b[0;34m.\u001b[0m\u001b[0msum\u001b[0m\u001b[0;34m(\u001b[0m\u001b[0mA\u001b[0m\u001b[0;34m*\u001b[0m\u001b[0;34m(\u001b[0m\u001b[0mnpX\u001b[0m \u001b[0;34m-\u001b[0m \u001b[0mX_val\u001b[0m\u001b[0;34m[\u001b[0m\u001b[0msample\u001b[0m\u001b[0;34m]\u001b[0m\u001b[0;34m)\u001b[0m\u001b[0;34m**\u001b[0m\u001b[0;36m2\u001b[0m\u001b[0;34m,\u001b[0m\u001b[0maxis\u001b[0m\u001b[0;34m=\u001b[0m\u001b[0;36m1\u001b[0m\u001b[0;34m)\u001b[0m \u001b[0;31m#tamadeguaibudebuxiajiangzheli dou ba A shanle gai k cixingqilai yang\u001b[0m\u001b[0;34m\u001b[0m\u001b[0;34m\u001b[0m\u001b[0m\n\u001b[0m\u001b[1;32m     25\u001b[0m     \u001b[0msum0\u001b[0m \u001b[0;34m=\u001b[0m \u001b[0;36m0\u001b[0m\u001b[0;34m\u001b[0m\u001b[0;34m\u001b[0m\u001b[0m\n\u001b[1;32m     26\u001b[0m     \u001b[0msum1\u001b[0m \u001b[0;34m=\u001b[0m \u001b[0;36m0\u001b[0m\u001b[0;34m\u001b[0m\u001b[0;34m\u001b[0m\u001b[0m\n",
            "\u001b[0;31mKeyboardInterrupt\u001b[0m: "
          ]
        }
      ],
      "source": [
        "# Guess and try method for GD\n",
        "#xiamianyangttnianbenlaishibuyiyangdewhyxianzaiyiyang\n",
        "A = np.random.normal(size=19)\n",
        "def ff(A):\n",
        "  return (A/50)**2\n",
        "\n",
        "for e in range(10):\n",
        "  for i in range(19):\n",
        "    loss = train_step(A, 10)\n",
        "    A[0] += 1 #zheliojialeyaojianhuiqu a buranbaizuole shabixiamainyanghaihshibuxingkunyachiyangyijingzuixiaole? yijingzuixiaole a shabi!\n",
        "    loss2 = train_step(A, 10) #guaibudebuxing A shi float !! yachikunxikanlexiamiancaizhidaoyahciyahci \n",
        "    slope = (loss2-loss)\n",
        "    A[0] -=slope+0.5\n",
        "    print(loss) #henduodifangniaoshi0yachicitongxkoukunttzhebujiuxlettmanhduoniao chouweishiianaa hwenduobuwei0dewsmdingzheyigekannengnian zhejiuduilema niaokunyachi buzhiyigedifangyou soopettnao\n",
        "#yunchaojyunnaiogaileyibanyachi xkoumeiyouaaa\n"
      ]
    },
    {
      "cell_type": "code",
      "execution_count": null,
      "metadata": {
        "colab": {
          "base_uri": "https://localhost:8080/"
        },
        "id": "5w19LQ65txP9",
        "outputId": "f739a2d1-63c7-4394-b2fc-6134115ae7de"
      },
      "outputs": [
        {
          "data": {
            "text/plain": [
              "27826.0"
            ]
          },
          "execution_count": 187,
          "metadata": {},
          "output_type": "execute_result"
        }
      ],
      "source": [
        "np.sum(A*(npX - X_val[sample])**2,axis=1)[3] #lengyachi yunkunlengduzi sum youwenti?meiyou zhejiushi 10 ge meige sde kijuli"
      ]
    },
    {
      "cell_type": "code",
      "execution_count": null,
      "metadata": {
        "colab": {
          "base_uri": "https://localhost:8080/"
        },
        "id": "rNrQIDuclhze",
        "outputId": "f097cf31-8ced-47d8-9568-e7bafa2711ea"
      },
      "outputs": [
        {
          "data": {
            "text/plain": [
              "array([[1, 2],\n",
              "       [2, 4],\n",
              "       [3, 6],\n",
              "       [4, 8]])"
            ]
          },
          "execution_count": 176,
          "metadata": {},
          "output_type": "execute_result"
        }
      ],
      "source": [
        "np.array([1,2])*[\n",
        "                 [1,1],[2,2],[3,3],[4,4]\n",
        "]"
      ]
    },
    {
      "cell_type": "code",
      "execution_count": null,
      "metadata": {
        "id": "QV0ftjhz2UYt"
      },
      "outputs": [],
      "source": [
        "A[0]=1e100"
      ]
    },
    {
      "cell_type": "code",
      "execution_count": null,
      "metadata": {
        "id": "0pPicVxgie5n"
      },
      "outputs": [],
      "source": [
        "A = np.ones(19)"
      ]
    },
    {
      "cell_type": "code",
      "execution_count": null,
      "metadata": {
        "id": "kmm8UG84igwG"
      },
      "outputs": [],
      "source": [
        "A[1]=1000000\n",
        "A[2]=1000000\n",
        "A[3]=1000000 #haishiyoubianhuadewhyzhiqinamieyo taychikunyun 1 bushi0xiamian"
      ]
    },
    {
      "cell_type": "code",
      "execution_count": null,
      "metadata": {
        "id": "GHk-fs-_hRD4"
      },
      "outputs": [],
      "source": [
        "y=[]\n",
        "for x in range(10):\n",
        "  loss=train_step(A,50)#yansuanlyahcikunyuenxin zhekiangge doukeyi lai zuo  \n",
        "  A=np.random.normal(size=19)\n",
        "  y.append(loss) #yansanguaibudezhijieloss?bush aaaychihuang yahichiyansuan shanglmian loss= leilekuna duzikouketyahcituranxiangdao wozhegesuofangdeshibushiwuyiyideliang?s"
      ]
    },
    {
      "cell_type": "markdown",
      "metadata": {
        "id": "Yhdb311khJo4"
      },
      "source": [
        "kunshouzangbushoulie kun ttyunnashou huang xkou yuntt chaojikun xianhuachulai?xianbusuiji?kun"
      ]
    },
    {
      "cell_type": "code",
      "execution_count": null,
      "metadata": {
        "colab": {
          "base_uri": "https://localhost:8080/",
          "height": 286
        },
        "id": "uqgQSQX1fitY",
        "outputId": "65f96a93-1f55-4881-c0fd-93a967794191"
      },
      "outputs": [
        {
          "data": {
            "text/plain": [
              "[<matplotlib.lines.Line2D at 0x7efef9abcb50>]"
            ]
          },
          "execution_count": 192,
          "metadata": {},
          "output_type": "execute_result"
        },
        {
          "data": {
            "image/png": "[encoded data removed]",
            "text/plain": [
              "<Figure size 432x288 with 1 Axes>"
            ]
          },
          "metadata": {},
          "output_type": "display_data"
        }
      ],
      "source": [
        "plt.plot(y) #kunyachi haidouyiyng meisuijichaojikuntttt kuns shixianshag?niaotaijidogongjliyahci sui ji de A faner youbianhua le zengzhang  yachi xielvfanerbusing"
      ]
    },
    {
      "cell_type": "code",
      "execution_count": null,
      "metadata": {
        "id": "JZqDLfe34DqS"
      },
      "outputs": [],
      "source": [
        "# zhengming A shi youyxiangdekunbunengzhiyongyigebianliang "
      ]
    },
    {
      "cell_type": "code",
      "execution_count": null,
      "metadata": {
        "colab": {
          "base_uri": "https://localhost:8080/"
        },
        "id": "VCfM1bqIfD4h",
        "outputId": "f12d0c9f-784a-4ac1-aa12-3da0aafd2c7f"
      },
      "outputs": [
        {
          "name": "stdout",
          "output_type": "stream",
          "text": [
            "0.9859556725916173\n",
            "0.37058823529411766\n",
            "0.75\n",
            "0.08788173741362298\n"
          ]
        },
        {
          "data": {
            "text/plain": [
              "0.08788173741362298"
            ]
          },
          "execution_count": 41,
          "metadata": {},
          "output_type": "execute_result"
        }
      ],
      "source": [
        ""
      ]
    },
    {
      "cell_type": "code",
      "execution_count": null,
      "metadata": {
        "colab": {
          "base_uri": "https://localhost:8080/"
        },
        "id": "knlRLxXFYJWm",
        "outputId": "b13a07f9-4fbd-40d0-bb19-bf2f272d3898"
      },
      "outputs": [
        {
          "data": {
            "text/plain": [
              "0.18000000000000022"
            ]
          },
          "execution_count": 345,
          "metadata": {},
          "output_type": "execute_result"
        }
      ],
      "source": [
        "sum1/(sum0+sum1)"
      ]
    },
    {
      "cell_type": "code",
      "execution_count": null,
      "metadata": {
        "colab": {
          "base_uri": "https://localhost:8080/"
        },
        "id": "GSzuYu0kXEzo",
        "outputId": "733e4c05-db30-46cf-b514-4838967a4f01"
      },
      "outputs": [
        {
          "data": {
            "text/plain": [
              "-9.999999989999978e-08"
            ]
          },
          "execution_count": 335,
          "metadata": {},
          "output_type": "execute_result"
        }
      ],
      "source": [
        "sum"
      ]
    },
    {
      "cell_type": "code",
      "execution_count": null,
      "metadata": {
        "colab": {
          "base_uri": "https://localhost:8080/"
        },
        "id": "jFhePXPnTg8m",
        "outputId": "a92206f5-f841-4007-b443-9de70beab1f9"
      },
      "outputs": [
        {
          "data": {
            "text/plain": [
              "4043056.074194"
            ]
          },
          "execution_count": 328,
          "metadata": {},
          "output_type": "execute_result"
        }
      ],
      "source": [
        "distance[8]"
      ]
    },
    {
      "cell_type": "markdown",
      "metadata": {
        "id": "fKtLuqMzcqeq"
      },
      "source": [
        "### Baseline 2 (NN)"
      ]
    },
    {
      "cell_type": "code",
      "execution_count": null,
      "metadata": {
        "id": "cO5iRGOaaTgq"
      },
      "outputs": [],
      "source": [
        "import tensorflow as tf\n",
        "\n",
        "import os\n",
        "import tensorflow_datasets as tfds\n",
        "import numpy as np\n",
        "from PIL import Image\n",
        "\n",
        "import matplotlib.pyplot as plt\n",
        "import matplotlib.patches as patches"
      ]
    },
    {
      "cell_type": "code",
      "execution_count": null,
      "metadata": {
        "colab": {
          "base_uri": "https://localhost:8080/"
        },
        "id": "G_zQuJIvaH_M",
        "outputId": "afa0fa24-b2a1-4ffc-89ae-7ce46067fc52"
      },
      "outputs": [
        {
          "name": "stdout",
          "output_type": "stream",
          "text": [
            "Model: \"sequential_4\"\n",
            "_________________________________________________________________\n",
            " Layer (type)                Output Shape              Param #   \n",
            "=================================================================\n",
            " dense_16 (Dense)            (None, 40)                800       \n",
            "                                                                 \n",
            " dense_17 (Dense)            (None, 50)                2050      \n",
            "                                                                 \n",
            " dense_18 (Dense)            (None, 60)                3060      \n",
            "                                                                 \n",
            " dense_19 (Dense)            (None, 50)                3050      \n",
            "                                                                 \n",
            " dense_20 (Dense)            (None, 20)                1020      \n",
            "                                                                 \n",
            " dense_21 (Dense)            (None, 10)                210       \n",
            "                                                                 \n",
            " dense_22 (Dense)            (None, 1)                 11        \n",
            "                                                                 \n",
            "=================================================================\n",
            "Total params: 10,201\n",
            "Trainable params: 10,201\n",
            "Non-trainable params: 0\n",
            "_________________________________________________________________\n"
          ]
        }
      ],
      "source": [
        "\n",
        "model = tf.keras.models.Sequential([\n",
        "  # RBG, because pineapple is yellow\n",
        "  tf.keras.layers.Input(X.shape[1]),\n",
        "  tf.keras.layers.Dense(40, activation=\"relu\"),\n",
        "  tf.keras.layers.Dense(50, activation=\"relu\"),\n",
        "  tf.keras.layers.Dense(60, activation=\"relu\"),\n",
        "  tf.keras.layers.Dense(50, activation=\"relu\"),\n",
        "  tf.keras.layers.Dense(20, activation=\"relu\"),\n",
        "  tf.keras.layers.Dense(10, activation=\"relu\"),\n",
        "  tf.keras.layers.Dense(1, activation=\"sigmoid\"),\n",
        "])\n",
        "model.summary()\n",
        "# print(model.output_shape)\n",
        "model.compile(optimizer=tf.keras.optimizers.Adam(),\n",
        "          loss='binary_crossentropy',metrics=[\"accuracy\"])\n"
      ]
    },
    {
      "cell_type": "code",
      "execution_count": null,
      "metadata": {
        "colab": {
          "base_uri": "https://localhost:8080/"
        },
        "id": "Z9PlqKWZcd5f",
        "outputId": "567134e9-c075-41ff-fac2-fe6d1344959e"
      },
      "outputs": [
        {
          "name": "stdout",
          "output_type": "stream",
          "text": [
            "317/317 [==============================] - 1s 4ms/step - loss: 0.6061 - accuracy: 0.8216\n"
          ]
        },
        {
          "data": {
            "text/plain": [
              "<keras.callbacks.History at 0x7efeff6d43d0>"
            ]
          },
          "execution_count": 21,
          "metadata": {},
          "output_type": "execute_result"
        }
      ],
      "source": [
        "model.fit(X,Y)"
      ]
    }
  ],
  "metadata": {
    "colab": {
      "collapsed_sections": [],
      "name": "Credit Card Test.ipynb",
      "provenance": [],
      "authorship_tag": "ABX9TyMuzUHgNbUa0z5x2YxnN+KM",
      "include_colab_link": true
    },
    "kernelspec": {
      "display_name": "Python 3",
      "name": "python3"
    },
    "language_info": {
      "name": "python"
    }
  },
  "nbformat": 4,
  "nbformat_minor": 0
}