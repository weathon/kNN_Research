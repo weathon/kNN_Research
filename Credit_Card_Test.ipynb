{
  "nbformat": 4,
  "nbformat_minor": 0,
  "metadata": {
    "colab": {
      "name": "Credit Card Test.ipynb",
      "provenance": [],
      "collapsed_sections": [],
      "authorship_tag": "ABX9TyPZ7dlpmG4dtnFFVVQb00jT",
      "include_colab_link": true
    },
    "kernelspec": {
      "name": "python3",
      "display_name": "Python 3"
    },
    "language_info": {
      "name": "python"
    }
  },
  "cells": [
    {
      "cell_type": "markdown",
      "metadata": {
        "id": "view-in-github",
        "colab_type": "text"
      },
      "source": [
        "<a href=\"https://colab.research.google.com/github/weathon/kNN_Research/blob/main/Credit_Card_Test.ipynb\" target=\"_parent\"><img src=\"https://colab.research.google.com/assets/colab-badge.svg\" alt=\"Open In Colab\"/></a>"
      ]
    },
    {
      "cell_type": "code",
      "execution_count": null,
      "metadata": {
        "id": "Xp1nNwCaskI7"
      },
      "outputs": [],
      "source": [
        "!cp kaggle.json /root/.kaggle/\n",
        "!kaggle datasets download -d rikdifos/credit-card-approval-prediction"
      ]
    },
    {
      "cell_type": "code",
      "source": [
        "!unzip credit-card-approval-prediction.zip"
      ],
      "metadata": {
        "id": "NyOTRE33vVni"
      },
      "execution_count": null,
      "outputs": []
    },
    {
      "cell_type": "code",
      "source": [
        "import pandas as pd\n",
        "import numpy as np"
      ],
      "metadata": {
        "id": "M7CYYLrvxB1F"
      },
      "execution_count": 4,
      "outputs": []
    },
    {
      "cell_type": "markdown",
      "source": [
        "### Data Washing"
      ],
      "metadata": {
        "id": "bGOd4Spyw9-u"
      }
    },
    {
      "cell_type": "code",
      "source": [
        "application_record = pd.read_csv(\"application_record.csv\")\n",
        "credit_record = pd.read_csv(\"credit_record.csv\")"
      ],
      "metadata": {
        "id": "YTxbDnWpxM6n"
      },
      "execution_count": 6,
      "outputs": []
    },
    {
      "cell_type": "code",
      "source": [
        "application_record.drop_duplicates(subset=\"ID\",keep=\"last\")"
      ],
      "metadata": {
        "id": "SpYTkoldxAXE"
      },
      "execution_count": null,
      "outputs": []
    },
    {
      "cell_type": "code",
      "source": [
        "credit_record[\"ID\"]"
      ],
      "metadata": {
        "colab": {
          "base_uri": "https://localhost:8080/"
        },
        "id": "ZxB6KC-LzJoA",
        "outputId": "fd0f8eb9-fa0c-4b01-b6b3-f4d16df6251e"
      },
      "execution_count": 14,
      "outputs": [
        {
          "output_type": "execute_result",
          "data": {
            "text/plain": [
              "0          5001711\n",
              "1          5001711\n",
              "2          5001711\n",
              "3          5001711\n",
              "4          5001712\n",
              "            ...   \n",
              "1048570    5150487\n",
              "1048571    5150487\n",
              "1048572    5150487\n",
              "1048573    5150487\n",
              "1048574    5150487\n",
              "Name: ID, Length: 1048575, dtype: int64"
            ]
          },
          "metadata": {},
          "execution_count": 14
        }
      ]
    }
  ]
}