{
  "nbformat": 4,
  "nbformat_minor": 0,
  "metadata": {
    "colab": {
      "name": "Credit Card Test.ipynb",
      "provenance": [],
      "collapsed_sections": [],
      "authorship_tag": "ABX9TyN5IndrNiwf2B19AcBOv1TB",
      "include_colab_link": true
    },
    "kernelspec": {
      "name": "python3",
      "display_name": "Python 3"
    },
    "language_info": {
      "name": "python"
    }
  },
  "cells": [
    {
      "cell_type": "markdown",
      "metadata": {
        "id": "view-in-github",
        "colab_type": "text"
      },
      "source": [
        "<a href=\"https://colab.research.google.com/github/weathon/kNN_Research/blob/main/Credit_Card_Test.ipynb\" target=\"_parent\"><img src=\"https://colab.research.google.com/assets/colab-badge.svg\" alt=\"Open In Colab\"/></a>"
      ]
    },
    {
      "cell_type": "code",
      "execution_count": null,
      "metadata": {
        "colab": {
          "base_uri": "https://localhost:8080/"
        },
        "id": "Xp1nNwCaskI7",
        "outputId": "3ef08d32-d27b-463c-8176-5b88791c6a16"
      },
      "outputs": [
        {
          "output_type": "stream",
          "name": "stdout",
          "text": [
            "Warning: Your Kaggle API key is readable by other users on this system! To fix this, you can run 'chmod 600 /root/.kaggle/kaggle.json'\n",
            "credit-card-customers.zip: Skipping, found more recently modified local copy (use --force to force download)\n",
            "Archive:  credit-card-customers.zip\n",
            "  inflating: BankChurners.csv        \n"
          ]
        }
      ],
      "source": [
        "!cp kaggle.json /root/.kaggle/\n",
        "!kaggle datasets download -d sakshigoyal7/credit-card-customers\n",
        "!unzip credit-card-customers.zip"
      ]
    },
    {
      "cell_type": "code",
      "source": [
        "import pandas as pd\n",
        "import numpy as np"
      ],
      "metadata": {
        "id": "M7CYYLrvxB1F"
      },
      "execution_count": null,
      "outputs": []
    },
    {
      "cell_type": "markdown",
      "source": [
        "### Data Washing"
      ],
      "metadata": {
        "id": "bGOd4Spyw9-u"
      }
    },
    {
      "cell_type": "code",
      "source": [
        "BankChurners = pd.read_csv(\"BankChurners.csv\")"
      ],
      "metadata": {
        "id": "YTxbDnWpxM6n"
      },
      "execution_count": 196,
      "outputs": []
    },
    {
      "cell_type": "code",
      "source": [
        "del BankChurners[\"Naive_Bayes_Classifier_Attrition_Flag_Card_Category_Contacts_Count_12_mon_Dependent_count_Education_Level_Months_Inactive_12_mon_1\"]\n",
        "del BankChurners[\"Naive_Bayes_Classifier_Attrition_Flag_Card_Category_Contacts_Count_12_mon_Dependent_count_Education_Level_Months_Inactive_12_mon_2\"]"
      ],
      "metadata": {
        "id": "xXzWcNCg3Zle"
      },
      "execution_count": 197,
      "outputs": []
    },
    {
      "cell_type": "code",
      "source": [
        "Y = BankChurners[\"Attrition_Flag\"]\n",
        "del BankChurners[\"Attrition_Flag\"]\n",
        "del BankChurners[\"CLIENTNUM\"]\n",
        "X = BankChurners"
      ],
      "metadata": {
        "id": "fFWtW_Yr3v5V"
      },
      "execution_count": 198,
      "outputs": []
    },
    {
      "cell_type": "code",
      "source": [
        "Y = Y.replace(\"Existing Customer\",-1).replace(\"Attrited Customer\",1)"
      ],
      "metadata": {
        "id": "cMrBJLNA35kX"
      },
      "execution_count": 199,
      "outputs": []
    },
    {
      "cell_type": "code",
      "source": [
        "X[\"Gender\"] = X[\"Gender\"].replace(\"M\",1).replace(\"F\",0)\n",
        "X[\"Marital_Status\"] = X[\"Marital_Status\"].replace(\"Married\",0).replace(\"Single\",1).replace(\"Divorced\",2).replace(\"Unknown\",3)\n",
        "X[\"Education_Level\"] = X[\"Education_Level\"].replace(\"Uneducated\",0).replace(\"High School\",1).replace(\"College\",2).replace(\"Graduate\",3).replace(\"Post-Graduate\",4).replace(\"Doctorate\",5).replace(\"Unknown\",-1)\n",
        "X[\"Card_Category\"] = X[\"Card_Category\"].replace(\"Blue\",0).replace(\"Silver\",1).replace(\"Gold\",2).replace(\"Platinum\",3)\n",
        "X[\"Income_Category\"] = X[\"Income_Category\"].replace(\"Less than $40K\",0).replace(\"$40K - $60K\",1).replace(\"$60K - $80K\",2).replace(\"$80K - $120K\",3).replace(\"$120K +\",4).replace(\"Unknown\",-1)"
      ],
      "metadata": {
        "id": "BXYqrbW85uTs"
      },
      "execution_count": 200,
      "outputs": []
    },
    {
      "cell_type": "markdown",
      "source": [
        "### Baseline: tradional kNN"
      ],
      "metadata": {
        "id": "CVTu8XTf8bBm"
      }
    },
    {
      "cell_type": "code",
      "source": [
        "def result(x):\n",
        "  return 1 if x>0 else -1"
      ],
      "metadata": {
        "id": "Muw3v8H8ClqT"
      },
      "execution_count": 256,
      "outputs": []
    },
    {
      "cell_type": "code",
      "source": [
        "X = np.array(X)\n",
        "Y = np.array(Y)\n",
        "indexs = np.arange(len(X))\n",
        "np.random.shuffle(indexs)\n",
        "X = X[indexs]\n",
        "Y = Y[indexs]\n",
        "\n",
        "r = int(len(X)*0.9)\n",
        "npX = np.array(X[:r])\n",
        "npY = np.array(Y[:r])\n",
        "X_val = np.array(X[r:])\n",
        "Y_val = np.array(Y[r:])\n",
        "\n",
        "error = 0\n",
        "TruePositives = 0\n",
        "FalseNegatives = 0\n",
        "FalsePositives = 0\n",
        "TrueNegatives = 0\n",
        "MSE = 0\n",
        "\n",
        "for sample in range(len(X)-r): # change this from 20 to r decreased the accuracy a alot\n",
        "  distance = np.sum((npX - X_val[sample])**2,axis=1)\n",
        "  sum = 0\n",
        "  for i in range(100):\n",
        "    m = np.argmin(distance)\n",
        "    distance[m] = 1000000000 \n",
        "    sum += 1/(distance[m]+0.000000001) * (npY[m]) #ksougjuqkuamgerdoing\n",
        "\n",
        "  if(Y_val[sample] != result(sum)):\n",
        "    error+=1\n",
        "  \n",
        "  if Y_val[sample] == result(sum) == 1:\n",
        "    TruePositives += 1\n",
        "\n",
        "  if result(sum) == -1 and Y_val[sample] == 1:\n",
        "    FalseNegatives +=1\n",
        "\n",
        "  if result(sum) == 1 and Y_val[sample] == -1:\n",
        "    FalsePositives +=1\n",
        "\n",
        "  if Y_val[sample] == result(sum) == -1:\n",
        "    TrueNegatives += 1\n",
        "\n",
        "\n",
        "print(1-error/r)\n",
        "print(TruePositives / (TruePositives + FalseNegatives))\n",
        "print(TruePositives / (TruePositives + FalsePositives))\n",
        "print(MSE/(len(X)-r)) #niao zenmjisuanprobility? ratio!!!!!!! why i am doing plus or minus aratio "
      ],
      "metadata": {
        "colab": {
          "base_uri": "https://localhost:8080/"
        },
        "id": "rvpDY1Jc8pAY",
        "outputId": "f4327126-d4ec-479e-f106-933c84f52b73"
      },
      "execution_count": 331,
      "outputs": [
        {
          "output_type": "stream",
          "name": "stdout",
          "text": [
            "0.9849681808207154\n",
            "0.3492063492063492\n",
            "0.825\n",
            "0.9999998708430405\n"
          ]
        }
      ]
    },
    {
      "cell_type": "code",
      "source": [
        "distance[8]"
      ],
      "metadata": {
        "colab": {
          "base_uri": "https://localhost:8080/"
        },
        "id": "jFhePXPnTg8m",
        "outputId": "a92206f5-f841-4007-b443-9de70beab1f9"
      },
      "execution_count": 328,
      "outputs": [
        {
          "output_type": "execute_result",
          "data": {
            "text/plain": [
              "4043056.074194"
            ]
          },
          "metadata": {},
          "execution_count": 328
        }
      ]
    }
  ]
}