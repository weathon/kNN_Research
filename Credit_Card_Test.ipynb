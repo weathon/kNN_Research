{
  "nbformat": 4,
  "nbformat_minor": 0,
  "metadata": {
    "colab": {
      "name": "Credit Card Test.ipynb",
      "provenance": [],
      "authorship_tag": "ABX9TyNFJMcok+mf13amff8nAEP1",
      "include_colab_link": true
    },
    "kernelspec": {
      "name": "python3",
      "display_name": "Python 3"
    },
    "language_info": {
      "name": "python"
    }
  },
  "cells": [
    {
      "cell_type": "markdown",
      "metadata": {
        "id": "view-in-github",
        "colab_type": "text"
      },
      "source": [
        "<a href=\"https://colab.research.google.com/github/weathon/kNN_Research/blob/main/Credit_Card_Test.ipynb\" target=\"_parent\"><img src=\"https://colab.research.google.com/assets/colab-badge.svg\" alt=\"Open In Colab\"/></a>"
      ]
    },
    {
      "cell_type": "code",
      "execution_count": null,
      "metadata": {
        "id": "Xp1nNwCaskI7"
      },
      "outputs": [],
      "source": [
        "!cp kaggle.json /root/.kaggle/\n",
        "!kaggle datasets download -d rikdifos/credit-card-approval-prediction"
      ]
    },
    {
      "cell_type": "code",
      "source": [
        "!unzip credit-card-approval-prediction.zip"
      ],
      "metadata": {
        "id": "NyOTRE33vVni"
      },
      "execution_count": null,
      "outputs": []
    }
  ]
}