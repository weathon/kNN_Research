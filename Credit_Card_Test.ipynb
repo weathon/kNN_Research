{
  "cells": [
    {
      "cell_type": "markdown",
      "metadata": {
        "id": "view-in-github",
        "colab_type": "text"
      },
      "source": [
        "<a href=\"https://colab.research.google.com/github/weathon/kNN_Research/blob/main/Credit_Card_Test.ipynb\" target=\"_parent\"><img src=\"https://colab.research.google.com/assets/colab-badge.svg\" alt=\"Open In Colab\"/></a>"
      ]
    },
    {
      "cell_type": "code",
      "execution_count": 3,
      "metadata": {
        "colab": {
          "base_uri": "https://localhost:8080/"
        },
        "id": "Xp1nNwCaskI7",
        "outputId": "9a436f1a-a660-4ee7-b22e-a5ffbeb639b8"
      },
      "outputs": [
        {
          "output_type": "stream",
          "name": "stdout",
          "text": [
            "Warning: Your Kaggle API key is readable by other users on this system! To fix this, you can run 'chmod 600 /root/.kaggle/kaggle.json'\n",
            "Downloading credit-card-customers.zip to /content\n",
            "  0% 0.00/379k [00:00<?, ?B/s]\n",
            "100% 379k/379k [00:00<00:00, 67.6MB/s]\n",
            "Archive:  credit-card-customers.zip\n",
            "  inflating: BankChurners.csv        \n"
          ]
        }
      ],
      "source": [
        "!cp kaggle.json /root/.kaggle/\n",
        "!kaggle datasets download -d sakshigoyal7/credit-card-customers\n",
        "!unzip credit-card-customers.zip "
      ]
    },
    {
      "cell_type": "code",
      "execution_count": 4,
      "metadata": {
        "id": "M7CYYLrvxB1F"
      },
      "outputs": [],
      "source": [
        "import pandas as pd\n",
        "import numpy as np"
      ]
    },
    {
      "cell_type": "markdown",
      "metadata": {
        "id": "bGOd4Spyw9-u"
      },
      "source": [
        "### Data Washing"
      ]
    },
    {
      "cell_type": "code",
      "execution_count": 9,
      "metadata": {
        "id": "YTxbDnWpxM6n"
      },
      "outputs": [],
      "source": [
        "BankChurners = pd.read_csv(\"BankChurners.csv\")"
      ]
    },
    {
      "cell_type": "code",
      "execution_count": 10,
      "metadata": {
        "id": "xXzWcNCg3Zle"
      },
      "outputs": [],
      "source": [
        "del BankChurners[\"Naive_Bayes_Classifier_Attrition_Flag_Card_Category_Contacts_Count_12_mon_Dependent_count_Education_Level_Months_Inactive_12_mon_1\"]\n",
        "del BankChurners[\"Naive_Bayes_Classifier_Attrition_Flag_Card_Category_Contacts_Count_12_mon_Dependent_count_Education_Level_Months_Inactive_12_mon_2\"]"
      ]
    },
    {
      "cell_type": "code",
      "execution_count": 11,
      "metadata": {
        "id": "fFWtW_Yr3v5V"
      },
      "outputs": [],
      "source": [
        "Y = BankChurners[\"Attrition_Flag\"]\n",
        "del BankChurners[\"Attrition_Flag\"]\n",
        "del BankChurners[\"CLIENTNUM\"]\n",
        "X = BankChurners"
      ]
    },
    {
      "cell_type": "code",
      "execution_count": 12,
      "metadata": {
        "id": "cMrBJLNA35kX"
      },
      "outputs": [],
      "source": [
        "Y = Y.replace(\"Existing Customer\",0).replace(\"Attrited Customer\",1)"
      ]
    },
    {
      "cell_type": "code",
      "execution_count": 13,
      "metadata": {
        "id": "BXYqrbW85uTs"
      },
      "outputs": [],
      "source": [
        "X[\"Gender\"] = X[\"Gender\"].replace(\"M\",1).replace(\"F\",0)\n",
        "X[\"Marital_Status\"] = X[\"Marital_Status\"].replace(\"Married\",0).replace(\"Single\",1).replace(\"Divorced\",2).replace(\"Unknown\",3)\n",
        "X[\"Education_Level\"] = X[\"Education_Level\"].replace(\"Uneducated\",0).replace(\"High School\",1).replace(\"College\",2).replace(\"Graduate\",3).replace(\"Post-Graduate\",4).replace(\"Doctorate\",5).replace(\"Unknown\",-1)\n",
        "X[\"Card_Category\"] = X[\"Card_Category\"].replace(\"Blue\",0).replace(\"Silver\",1).replace(\"Gold\",2).replace(\"Platinum\",3)\n",
        "X[\"Income_Category\"] = X[\"Income_Category\"].replace(\"Less than $40K\",0).replace(\"$40K - $60K\",1).replace(\"$60K - $80K\",2).replace(\"$80K - $120K\",3).replace(\"$120K +\",4).replace(\"Unknown\",-1)"
      ]
    },
    {
      "cell_type": "code",
      "source": [
        "df = df[['mean', '0', '1', '2', '3']]"
      ],
      "metadata": {
        "id": "wWrHECcZ_FiH"
      },
      "execution_count": null,
      "outputs": []
    },
    {
      "cell_type": "markdown",
      "metadata": {
        "id": "CVTu8XTf8bBm"
      },
      "source": [
        "### Baseline: tradional kNN"
      ]
    },
    {
      "cell_type": "code",
      "execution_count": null,
      "metadata": {
        "id": "Muw3v8H8ClqT"
      },
      "outputs": [],
      "source": [
        "def result(sum0, sum1):\n",
        "  return 1 if sum1>sum0 else 0"
      ]
    },
    {
      "cell_type": "code",
      "execution_count": null,
      "metadata": {
        "id": "rvpDY1Jc8pAY"
      },
      "outputs": [],
      "source": [
        "X = np.array(X)\n",
        "Y = np.array(Y)\n",
        "indexs = np.arange(len(X))\n",
        "\n",
        "np.random.shuffle(indexs)\n",
        "X = X[indexs]\n",
        "Y = Y[indexs]\n",
        "def train_step(A, k):\n",
        "  global X,Y\n",
        "  r = int(len(X)*0.3)\n",
        "  npX = np.array(X[:r])\n",
        "  npY = np.array(Y[:r])\n",
        "  X_val = np.array(X[r:])\n",
        "  Y_val = np.array(Y[r:])\n",
        "\n",
        "  error = 0\n",
        "  TruePositives = 0\n",
        "  FalseNegatives = 0\n",
        "  FalsePositives = 0\n",
        "  TrueNegatives = 0\n",
        "  MSE = 0\n",
        "\n",
        "  for sample in range(len(X)-r): # change this from 20 to r decreased the accuracy a alot\n",
        "    distance = np.sum(A*(npX - X_val[sample])**2,axis=1) #tamadeguaibudebuxiajiangzheli dou ba A shanle gai k cixingqilai yang\n",
        "    sum0 = 0\n",
        "    sum1 = 0\n",
        "    for i in range(k):\n",
        "      m = np.argmin(distance)\n",
        "      distance[m] = 1000000000 \n",
        "      sum0 += 1/(distance[m]+1) * (1-npY[m]) #yansuankunduzi yachiyansuan lhlong tt jul zhelishibushiyeyao A benlaiiangqiudaodedfaxianleyansuan bukedaoyansunkun paper erduorerduozhangshoubihuanganshouppapers bushi. a zhe li de zhejie qu yongdistance a shousuan\n",
        "      sum1 += 1/(distance[m]+1) * (npY[m])\n",
        "\n",
        "    if(Y_val[sample] != result(sum0, sum1)):\n",
        "      error+=1\n",
        "    \n",
        "    if Y_val[sample] == result(sum0, sum1) == 1:\n",
        "      TruePositives += 1\n",
        "\n",
        "    if result(sum0, sum1) == 0 and Y_val[sample] == 1:\n",
        "      FalseNegatives +=1\n",
        "\n",
        "    if result(sum0, sum1) == 1 and Y_val[sample] == 0:\n",
        "      FalsePositives +=1\n",
        "\n",
        "    if Y_val[sample] == result(sum0, sum1) == 0:\n",
        "      TrueNegatives += 1\n",
        "\n",
        "    MSE += (sum1/(sum0+sum1) - Y_val[sample])**2\n",
        "\n",
        "  print(\"accuracy: \",1-error/r)\n",
        "  print(\"F1 Sore: \",(TruePositives / (TruePositives + FalsePositives)*(TruePositives / (TruePositives + FalseNegatives))/\n",
        "                     (TruePositives / (TruePositives + FalsePositives)+(TruePositives / (TruePositives + FalseNegatives)))))\n",
        "  # print(MSE/(len(X)-r)) \n",
        "  # return MSE/(len(X)-r)\n",
        "  return  MSE/(len(X)-r)"
      ]
    },
    {
      "cell_type": "code",
      "execution_count": null,
      "metadata": {
        "colab": {
          "base_uri": "https://localhost:8080/"
        },
        "id": "M_kDdl3a09we",
        "outputId": "e92940dd-b0ec-4c0f-c62b-e951e263a208"
      },
      "outputs": [
        {
          "output_type": "stream",
          "name": "stdout",
          "text": [
            "accuracy:  0.7192231731402239\n",
            "F1 Sore:  0.2271273192578375\n"
          ]
        },
        {
          "output_type": "execute_result",
          "data": {
            "text/plain": [
              "0.08580358301594213"
            ]
          },
          "metadata": {},
          "execution_count": 22
        }
      ],
      "source": [
        "A = np.ones(19)\n",
        "A[8] = 800000\n",
        "train_step(A, 50)"
      ]
    },
    {
      "cell_type": "code",
      "source": [
        "A = np.ones(19)\n",
        "train_step(A, 50)"
      ],
      "metadata": {
        "colab": {
          "base_uri": "https://localhost:8080/"
        },
        "id": "OdhR7NtYLZGz",
        "outputId": "8e733409-c4a8-4da6-e87f-82a2a4c7281c"
      },
      "execution_count": null,
      "outputs": [
        {
          "output_type": "stream",
          "name": "stdout",
          "text": [
            "accuracy:  0.7182356813693219\n",
            "F1 Sore:  0.24092009685230023\n"
          ]
        },
        {
          "output_type": "execute_result",
          "data": {
            "text/plain": [
              "0.08822852306390326"
            ]
          },
          "metadata": {},
          "execution_count": 21
        }
      ]
    },
    {
      "cell_type": "code",
      "execution_count": null,
      "metadata": {
        "id": "1p9EUP5dd14Y"
      },
      "outputs": [],
      "source": [
        "# Guess and try method for GD\n",
        "#xiamianyangttnianbenlaishibuyiyangdewhyxianzaiyiyang\n",
        "A = np.random.normal(size=19)\n",
        "def ff(A):\n",
        "  return (A/50)**2\n",
        "#duziniannashoukunnianyuenixnnasho ninasuanhuang shujubianda fanerjianadanttduaizi \n",
        "for e in range(10):\n",
        "  for i in range(19):\n",
        "    loss = train_step(A, 50)\n",
        "    A[i] += 1 #zheliojialeyaojianhuiqu a buranbaizuole shabixiamainyanghaihshibuxingkunyachiyangyijingzuixiaole? yijingzuixiaole a shabi!\n",
        "    loss2 = train_step(A, 50) #guaibudebuxing A shi float !! yachikunxikanlexiamiancaizhidaoyahciyahci \n",
        "    slope = (loss2-loss)\n",
        "    A[i] -=slope*100+1\n",
        "    print()\n",
        "    print(slope) #younlossshouzang you loss yebujianshao niaozaixiayicijianshaojkunniaodzi kunlossfuncion\n",
        "    print(loss) #henduodifangniaoshi0yachicitongxkoukunttzhebujiuxlettmanhduoniao chouweishiianaa hwenduobuwei0dewsmdingzheyigekannengnian zhejiuduilema niaokunyachi buzhiyigedifangyou soopettnao\n",
        "#yunchaojyunnaiogaileyibanyachi xkoumeiyouaaaniaoyoubuxinglehenduo bujiansahode qunasi0bukenegkunnia\n"
      ]
    },
    {
      "cell_type": "code",
      "execution_count": null,
      "metadata": {
        "colab": {
          "base_uri": "https://localhost:8080/"
        },
        "id": "5w19LQ65txP9",
        "outputId": "f739a2d1-63c7-4394-b2fc-6134115ae7de"
      },
      "outputs": [
        {
          "data": {
            "text/plain": [
              "27826.0"
            ]
          },
          "execution_count": 187,
          "metadata": {},
          "output_type": "execute_result"
        }
      ],
      "source": [
        "np.sum(A*(npX - X_val[sample])**2,axis=1)[3] #lengyachi yunkunlengduzi sum youwenti?meiyou zhejiushi 10 ge meige sde kijuli"
      ]
    },
    {
      "cell_type": "code",
      "execution_count": null,
      "metadata": {
        "colab": {
          "base_uri": "https://localhost:8080/"
        },
        "id": "rNrQIDuclhze",
        "outputId": "f097cf31-8ced-47d8-9568-e7bafa2711ea"
      },
      "outputs": [
        {
          "data": {
            "text/plain": [
              "array([[1, 2],\n",
              "       [2, 4],\n",
              "       [3, 6],\n",
              "       [4, 8]])"
            ]
          },
          "execution_count": 176,
          "metadata": {},
          "output_type": "execute_result"
        }
      ],
      "source": [
        "np.array([1,2])*[\n",
        "                 [1,1],[2,2],[3,3],[4,4]\n",
        "]"
      ]
    },
    {
      "cell_type": "code",
      "execution_count": null,
      "metadata": {
        "id": "QV0ftjhz2UYt"
      },
      "outputs": [],
      "source": [
        "A[0]=1e100"
      ]
    },
    {
      "cell_type": "code",
      "execution_count": null,
      "metadata": {
        "id": "0pPicVxgie5n"
      },
      "outputs": [],
      "source": [
        "A = np.ones(19)"
      ]
    },
    {
      "cell_type": "code",
      "execution_count": null,
      "metadata": {
        "id": "kmm8UG84igwG"
      },
      "outputs": [],
      "source": [
        "A[1]=1000000\n",
        "A[2]=1000000\n",
        "A[3]=1000000 #haishiyoubianhuadewhyzhiqinamieyo taychikunyun 1 bushi0xiamian"
      ]
    },
    {
      "cell_type": "code",
      "execution_count": null,
      "metadata": {
        "id": "GHk-fs-_hRD4"
      },
      "outputs": [],
      "source": [
        "A=np.random.normal(size=19)\n",
        "\n",
        "y=[]\n",
        "for x in range(10):\n",
        "  loss=train_step(A,50)#yansuanlyahcikunyuenxin zhekiangge doukeyi lai zuo  \n",
        "  A=np.random.normal(size=19)\n",
        "  y.append(loss) #yansanguaibudezhijieloss?bush aaaychihuang yahichiyansuan shanglmian loss= leilekuna duzikouketyahcituranxiangdao wozhegesuofangdeshibushiwuyiyideliang?s"
      ]
    },
    {
      "cell_type": "code",
      "execution_count": null,
      "metadata": {
        "colab": {
          "base_uri": "https://localhost:8080/"
        },
        "id": "UF6URVMEBv41",
        "outputId": "16d1fa01-9727-4550-e823-d9a8ca089dc5"
      },
      "outputs": [
        {
          "data": {
            "text/plain": [
              "array([1, 1])"
            ]
          },
          "execution_count": 20,
          "metadata": {},
          "output_type": "execute_result"
        }
      ],
      "source": [
        "A = np.array([1,1])\n",
        "B = np.copy(A)\n",
        "A[0]=-9\n",
        "B"
      ]
    },
    {
      "cell_type": "code",
      "execution_count": null,
      "metadata": {
        "colab": {
          "background_save": true,
          "base_uri": "https://localhost:8080/"
        },
        "id": "4WIiTKkABb6c",
        "outputId": "2b414de6-9b86-4eb6-b4f5-39e1aaf4ed18"
      },
      "outputs": [
        {
          "name": "stdout",
          "output_type": "stream",
          "text": [
            "failed\n",
            "0.16520344195232017\n",
            "0.16388664127521518\n",
            "0.1634252503879249\n",
            "0.1631056002257019\n",
            "failed\n",
            "failed\n",
            "failed\n",
            "failed\n",
            "failed\n",
            "0.16297125123430703\n",
            "0.1629388630272255\n",
            "0.16266993934264384\n",
            "failed\n",
            "failed\n",
            "0.16241393708562635\n",
            "failed\n",
            "0.16213880660177826\n",
            "failed\n",
            "0.16192991959373762\n",
            "0.16181932571589874\n",
            "failed\n",
            "0.16146553815771023\n",
            "failed\n",
            "0.1614312879108488\n",
            "0.16138157709126927\n",
            "0.16117054591620883\n",
            "0.16080259557060333\n",
            "0.1607916490337149\n",
            "failed\n",
            "0.16035423896177287\n",
            "failed\n",
            "0.160344985188321\n",
            "0.16001263930032558\n",
            "0.15982079277754374\n",
            "failed\n",
            "0.15911344336295766\n",
            "failed\n",
            "failed\n",
            "failed\n",
            "0.15904172661870614\n",
            "failed\n",
            "0.1589806178586554\n",
            "0.15845693327690885\n",
            "0.15823230356891038\n",
            "0.15759035124841378\n",
            "0.1553517844547904\n",
            "0.1537546057271846\n",
            "failed\n",
            "0.1535006912117388\n",
            "failed\n",
            "0.1473957398786894\n",
            "failed\n",
            "failed\n",
            "0.10541255466215511\n",
            "0.103020905628441\n",
            "0.09977249259416242\n",
            "0.09966477641416498\n",
            "0.09894162787417367\n",
            "0.09877494710114498\n",
            "failed\n",
            "failed\n",
            "failed\n",
            "0.09782716885315526\n",
            "0.09657379037946355\n",
            "failed\n",
            "failed\n",
            "failed\n",
            "failed\n",
            "0.09627022146988516\n",
            "0.09607143461701444\n",
            "failed\n",
            "failed\n",
            "failed\n",
            "failed\n",
            "failed\n",
            "0.09587355057130975\n",
            "failed\n",
            "0.09574439272111944\n",
            "failed\n",
            "failed\n",
            "failed\n",
            "0.09520502186486313\n",
            "0.09508714910424813\n",
            "failed\n",
            "0.09474504161376977\n",
            "failed\n",
            "0.09450162223162867\n",
            "failed\n",
            "failed\n",
            "failed\n",
            "0.09441980533220704\n",
            "0.09381052334603138\n",
            "failed\n",
            "failed\n",
            "failed\n",
            "0.09332802934123517\n",
            "0.09284587388912598\n",
            "0.09279198758640345\n",
            "0.09262609676964507\n"
          ]
        }
      ],
      "source": [
        "A=np.random.normal(size=19)\n",
        "\n",
        "y=[]\n",
        "for x in range(100):#niaokoukekunzhege shijhuasuanfattkunnnashouyouhua bengbaza\n",
        "  loss=train_step(A,50)\n",
        "  B=np.random.normal(size=19)*0.1+A #koukeniaoyyangzheyang koukeniaolearningratejiaozang\n",
        "  loss2=train_step(B,50)\n",
        "  # loss2=train_step(A,50)\n",
        "  if loss2<loss:\n",
        "    print(loss2)\n",
        "    A=np.copy(B)\n",
        "  else:\n",
        "    print(\"failed\")"
      ]
    },
    {
      "cell_type": "markdown",
      "metadata": {
        "id": "Yhdb311khJo4"
      },
      "source": [
        "kunshouzangbushoulie kun ttyunnashou huang xkou yuntt chaojikun xianhuachulai?xianbusuiji?kun"
      ]
    },
    {
      "cell_type": "code",
      "execution_count": null,
      "metadata": {
        "colab": {
          "base_uri": "https://localhost:8080/",
          "height": 283
        },
        "id": "uqgQSQX1fitY",
        "outputId": "4c00dae9-6fee-4310-a5a0-02525fd58cf1"
      },
      "outputs": [
        {
          "data": {
            "text/plain": [
              "[<matplotlib.lines.Line2D at 0x7f70b2617650>]"
            ]
          },
          "execution_count": 17,
          "metadata": {},
          "output_type": "execute_result"
        },
        {
          "data": {
            "image/png": "[encoded data removed]",
            "text/plain": [
              "<Figure size 432x288 with 1 Axes>"
            ]
          },
          "metadata": {},
          "output_type": "display_data"
        }
      ],
      "source": [
        "import matplotlib.pyplot as plt\n",
        "#niaokunkouek weismzihiqianshishanghsende jhuasuanfa?niao huangkun zang jiaozang\n",
        "\n",
        "plt.plot(y) #kunyachi haidouyiyng meisuijichaojikuntttt kuns shixianshag?niaotaijidogongjliyahci sui ji de A faner youbianhua le zengzhang  yachi xielvfanerbusing"
      ]
    },
    {
      "cell_type": "code",
      "execution_count": null,
      "metadata": {
        "id": "JZqDLfe34DqS"
      },
      "outputs": [],
      "source": [
        "# zhengming A shi youyxiangdekunbunengzhiyongyigebianliang "
      ]
    },
    {
      "cell_type": "code",
      "execution_count": null,
      "metadata": {
        "colab": {
          "base_uri": "https://localhost:8080/"
        },
        "id": "VCfM1bqIfD4h",
        "outputId": "f12d0c9f-784a-4ac1-aa12-3da0aafd2c7f"
      },
      "outputs": [
        {
          "name": "stdout",
          "output_type": "stream",
          "text": [
            "0.9859556725916173\n",
            "0.37058823529411766\n",
            "0.75\n",
            "0.08788173741362298\n"
          ]
        },
        {
          "data": {
            "text/plain": [
              "0.08788173741362298"
            ]
          },
          "execution_count": 41,
          "metadata": {},
          "output_type": "execute_result"
        }
      ],
      "source": [
        ""
      ]
    },
    {
      "cell_type": "code",
      "execution_count": null,
      "metadata": {
        "colab": {
          "base_uri": "https://localhost:8080/"
        },
        "id": "knlRLxXFYJWm",
        "outputId": "b13a07f9-4fbd-40d0-bb19-bf2f272d3898"
      },
      "outputs": [
        {
          "data": {
            "text/plain": [
              "0.18000000000000022"
            ]
          },
          "execution_count": 345,
          "metadata": {},
          "output_type": "execute_result"
        }
      ],
      "source": [
        "sum1/(sum0+sum1)"
      ]
    },
    {
      "cell_type": "code",
      "execution_count": null,
      "metadata": {
        "colab": {
          "base_uri": "https://localhost:8080/"
        },
        "id": "GSzuYu0kXEzo",
        "outputId": "733e4c05-db30-46cf-b514-4838967a4f01"
      },
      "outputs": [
        {
          "data": {
            "text/plain": [
              "-9.999999989999978e-08"
            ]
          },
          "execution_count": 335,
          "metadata": {},
          "output_type": "execute_result"
        }
      ],
      "source": [
        "sum"
      ]
    },
    {
      "cell_type": "code",
      "execution_count": null,
      "metadata": {
        "colab": {
          "base_uri": "https://localhost:8080/"
        },
        "id": "jFhePXPnTg8m",
        "outputId": "a92206f5-f841-4007-b443-9de70beab1f9"
      },
      "outputs": [
        {
          "data": {
            "text/plain": [
              "4043056.074194"
            ]
          },
          "execution_count": 328,
          "metadata": {},
          "output_type": "execute_result"
        }
      ],
      "source": [
        "distance[8]"
      ]
    },
    {
      "cell_type": "markdown",
      "metadata": {
        "id": "fKtLuqMzcqeq"
      },
      "source": [
        "### Baseline 2 (NN)"
      ]
    },
    {
      "cell_type": "code",
      "execution_count": null,
      "metadata": {
        "id": "cO5iRGOaaTgq"
      },
      "outputs": [],
      "source": [
        "import tensorflow as tf\n",
        "\n",
        "import os\n",
        "import tensorflow_datasets as tfds\n",
        "import numpy as np\n",
        "from PIL import Image\n",
        "\n",
        "import matplotlib.pyplot as plt\n",
        "import matplotlib.patches as patches"
      ]
    },
    {
      "cell_type": "code",
      "execution_count": null,
      "metadata": {
        "colab": {
          "base_uri": "https://localhost:8080/"
        },
        "id": "G_zQuJIvaH_M",
        "outputId": "afa0fa24-b2a1-4ffc-89ae-7ce46067fc52"
      },
      "outputs": [
        {
          "name": "stdout",
          "output_type": "stream",
          "text": [
            "Model: \"sequential_4\"\n",
            "_________________________________________________________________\n",
            " Layer (type)                Output Shape              Param #   \n",
            "=================================================================\n",
            " dense_16 (Dense)            (None, 40)                800       \n",
            "                                                                 \n",
            " dense_17 (Dense)            (None, 50)                2050      \n",
            "                                                                 \n",
            " dense_18 (Dense)            (None, 60)                3060      \n",
            "                                                                 \n",
            " dense_19 (Dense)            (None, 50)                3050      \n",
            "                                                                 \n",
            " dense_20 (Dense)            (None, 20)                1020      \n",
            "                                                                 \n",
            " dense_21 (Dense)            (None, 10)                210       \n",
            "                                                                 \n",
            " dense_22 (Dense)            (None, 1)                 11        \n",
            "                                                                 \n",
            "=================================================================\n",
            "Total params: 10,201\n",
            "Trainable params: 10,201\n",
            "Non-trainable params: 0\n",
            "_________________________________________________________________\n"
          ]
        }
      ],
      "source": [
        "import tensorflow as tf\n",
        "\n",
        "import os\n",
        "import tensorflow_datasets as tfds\n",
        "import numpy as np\n",
        "from PIL import Image\n",
        "\n",
        "import matplotlib.pyplot as plt\n",
        "import matplotlib.patches as patches\n",
        "\n",
        "model = tf.keras.models.Sequential([\n",
        "  tf.keras.layers.Input(X.shape[1]),\n",
        "  tf.keras.layers.Dense(40, activation=\"relu\"),\n",
        "  tf.keras.layers.Dense(50, activation=\"relu\"),\n",
        "  tf.keras.layers.Dense(60, activation=\"relu\"),\n",
        "  tf.keras.layers.Dense(50, activation=\"relu\"),\n",
        "  tf.keras.layers.Dense(20, activation=\"relu\"),\n",
        "  tf.keras.layers.Dense(10, activation=\"relu\"),\n",
        "  tf.keras.layers.Dense(1, activation=\"sigmoid\"),\n",
        "])\n",
        "model.summary()\n",
        "# print(model.output_shape)\n",
        "model.compile(optimizer=tf.keras.optimizers.Adam(),\n",
        "          loss='binary_crossentropy',metrics=[\"accuracy\"])\n",
        "model.fit(input, label, epoches = 50)"
      ]
    },
    {
      "cell_type": "code",
      "execution_count": null,
      "metadata": {
        "colab": {
          "base_uri": "https://localhost:8080/"
        },
        "id": "Z9PlqKWZcd5f",
        "outputId": "567134e9-c075-41ff-fac2-fe6d1344959e"
      },
      "outputs": [
        {
          "name": "stdout",
          "output_type": "stream",
          "text": [
            "317/317 [==============================] - 1s 4ms/step - loss: 0.6061 - accuracy: 0.8216\n"
          ]
        },
        {
          "data": {
            "text/plain": [
              "<keras.callbacks.History at 0x7efeff6d43d0>"
            ]
          },
          "execution_count": 21,
          "metadata": {},
          "output_type": "execute_result"
        }
      ],
      "source": [
        "model.fit(X,Y)"
      ]
    }
  ],
  "metadata": {
    "colab": {
      "collapsed_sections": [],
      "name": "Credit Card Test.ipynb",
      "provenance": [],
      "authorship_tag": "ABX9TyNFrq4vHP7Dv2M7pa6ofWjo",
      "include_colab_link": true
    },
    "kernelspec": {
      "display_name": "Python 3",
      "name": "python3"
    },
    "language_info": {
      "name": "python"
    }
  },
  "nbformat": 4,
  "nbformat_minor": 0
}