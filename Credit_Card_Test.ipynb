{
  "nbformat": 4,
  "nbformat_minor": 0,
  "metadata": {
    "colab": {
      "name": "Credit Card Test.ipynb",
      "provenance": [],
      "collapsed_sections": [],
      "authorship_tag": "ABX9TyNDzeRv+Co18mvUBFBW1H7Y",
      "include_colab_link": true
    },
    "kernelspec": {
      "name": "python3",
      "display_name": "Python 3"
    },
    "language_info": {
      "name": "python"
    }
  },
  "cells": [
    {
      "cell_type": "markdown",
      "metadata": {
        "id": "view-in-github",
        "colab_type": "text"
      },
      "source": [
        "<a href=\"https://colab.research.google.com/github/weathon/kNN_Research/blob/main/Credit_Card_Test.ipynb\" target=\"_parent\"><img src=\"https://colab.research.google.com/assets/colab-badge.svg\" alt=\"Open In Colab\"/></a>"
      ]
    },
    {
      "cell_type": "code",
      "execution_count": null,
      "metadata": {
        "colab": {
          "base_uri": "https://localhost:8080/"
        },
        "id": "Xp1nNwCaskI7",
        "outputId": "3ef08d32-d27b-463c-8176-5b88791c6a16"
      },
      "outputs": [
        {
          "output_type": "stream",
          "name": "stdout",
          "text": [
            "Warning: Your Kaggle API key is readable by other users on this system! To fix this, you can run 'chmod 600 /root/.kaggle/kaggle.json'\n",
            "credit-card-customers.zip: Skipping, found more recently modified local copy (use --force to force download)\n",
            "Archive:  credit-card-customers.zip\n",
            "  inflating: BankChurners.csv        \n"
          ]
        }
      ],
      "source": [
        "!cp kaggle.json /root/.kaggle/\n",
        "!kaggle datasets download -d sakshigoyal7/credit-card-customers\n",
        "!unzip credit-card-customers.zip"
      ]
    },
    {
      "cell_type": "code",
      "source": [
        "import pandas as pd\n",
        "import numpy as np"
      ],
      "metadata": {
        "id": "M7CYYLrvxB1F"
      },
      "execution_count": 3,
      "outputs": []
    },
    {
      "cell_type": "markdown",
      "source": [
        "### Data Washing"
      ],
      "metadata": {
        "id": "bGOd4Spyw9-u"
      }
    },
    {
      "cell_type": "code",
      "source": [
        "BankChurners = pd.read_csv(\"BankChurners.csv\")"
      ],
      "metadata": {
        "id": "YTxbDnWpxM6n"
      },
      "execution_count": 4,
      "outputs": []
    },
    {
      "cell_type": "code",
      "source": [
        "del BankChurners[\"Naive_Bayes_Classifier_Attrition_Flag_Card_Category_Contacts_Count_12_mon_Dependent_count_Education_Level_Months_Inactive_12_mon_1\"]\n",
        "del BankChurners[\"Naive_Bayes_Classifier_Attrition_Flag_Card_Category_Contacts_Count_12_mon_Dependent_count_Education_Level_Months_Inactive_12_mon_2\"]"
      ],
      "metadata": {
        "id": "xXzWcNCg3Zle"
      },
      "execution_count": 5,
      "outputs": []
    },
    {
      "cell_type": "code",
      "source": [
        "Y = BankChurners[\"Attrition_Flag\"]\n",
        "del BankChurners[\"Attrition_Flag\"]\n",
        "del BankChurners[\"CLIENTNUM\"]\n",
        "X = BankChurners"
      ],
      "metadata": {
        "id": "fFWtW_Yr3v5V"
      },
      "execution_count": 6,
      "outputs": []
    },
    {
      "cell_type": "code",
      "source": [
        "Y = Y.replace(\"Existing Customer\",0).replace(\"Attrited Customer\",1)"
      ],
      "metadata": {
        "id": "cMrBJLNA35kX"
      },
      "execution_count": 7,
      "outputs": []
    },
    {
      "cell_type": "code",
      "source": [
        "X[\"Gender\"] = X[\"Gender\"].replace(\"M\",1).replace(\"F\",0)\n",
        "X[\"Marital_Status\"] = X[\"Marital_Status\"].replace(\"Married\",0).replace(\"Single\",1).replace(\"Divorced\",2).replace(\"Unknown\",3)\n",
        "X[\"Education_Level\"] = X[\"Education_Level\"].replace(\"Uneducated\",0).replace(\"High School\",1).replace(\"College\",2).replace(\"Graduate\",3).replace(\"Post-Graduate\",4).replace(\"Doctorate\",5).replace(\"Unknown\",-1)\n",
        "X[\"Card_Category\"] = X[\"Card_Category\"].replace(\"Blue\",0).replace(\"Silver\",1).replace(\"Gold\",2).replace(\"Platinum\",3)\n",
        "X[\"Income_Category\"] = X[\"Income_Category\"].replace(\"Less than $40K\",0).replace(\"$40K - $60K\",1).replace(\"$60K - $80K\",2).replace(\"$80K - $120K\",3).replace(\"$120K +\",4).replace(\"Unknown\",-1)"
      ],
      "metadata": {
        "id": "BXYqrbW85uTs"
      },
      "execution_count": 8,
      "outputs": []
    },
    {
      "cell_type": "markdown",
      "source": [
        "### Baseline: tradional kNN"
      ],
      "metadata": {
        "id": "CVTu8XTf8bBm"
      }
    },
    {
      "cell_type": "code",
      "source": [
        "def result(sum0, sum1):\n",
        "  return 1 if sum1>sum0 else 0"
      ],
      "metadata": {
        "id": "Muw3v8H8ClqT"
      },
      "execution_count": 24,
      "outputs": []
    },
    {
      "cell_type": "code",
      "source": [
        "X = np.array(X)\n",
        "Y = np.array(Y)\n",
        "indexs = np.arange(len(X))\n",
        "\n",
        "np.random.shuffle(indexs)\n",
        "X = X[indexs]\n",
        "Y = Y[indexs]\n",
        "def train_step(A):\n",
        "  global X,Y\n",
        "  r = int(len(X)*0.9)\n",
        "  npX = np.array(X[:r])\n",
        "  npY = np.array(Y[:r])\n",
        "  X_val = np.array(X[r:])\n",
        "  Y_val = np.array(Y[r:])\n",
        "\n",
        "  error = 0\n",
        "  TruePositives = 0\n",
        "  FalseNegatives = 0\n",
        "  FalsePositives = 0\n",
        "  TrueNegatives = 0\n",
        "  MSE = 0\n",
        "\n",
        "  for sample in range(len(X)-r): # change this from 20 to r decreased the accuracy a alot\n",
        "    distance = np.sum((npX - X_val[sample])**2,axis=1)\n",
        "    sum0 = 0\n",
        "    sum1 = 0\n",
        "    for i in range(100):\n",
        "      m = np.argmin(distance)\n",
        "      distance[m] = 1000000000 \n",
        "      sum0 += 1/(distance[m]+1) * (1-npY[m])\n",
        "      sum1 += 1/(distance[m]+1) * (npY[m])\n",
        "\n",
        "    if(Y_val[sample] != result(sum0, sum1)):\n",
        "      error+=1\n",
        "    \n",
        "    if Y_val[sample] == result(sum0, sum1) == 1:\n",
        "      TruePositives += 1\n",
        "\n",
        "    if result(sum0, sum1) == 0 and Y_val[sample] == 1:\n",
        "      FalseNegatives +=1\n",
        "\n",
        "    if result(sum0, sum1) == 1 and Y_val[sample] == 0:\n",
        "      FalsePositives +=1\n",
        "\n",
        "    if Y_val[sample] == result(sum0, sum1) == 0:\n",
        "      TrueNegatives += 1\n",
        "\n",
        "    MSE += (sum1/(sum0+sum1) - Y_val[sample])**2\n",
        "\n",
        "  # print(1-error/r)\n",
        "  # print(TruePositives / (TruePositives + FalseNegatives))\n",
        "  # print(TruePositives / (TruePositives + FalsePositives))\n",
        "  # print(MSE/(len(X)-r)) \n",
        "  # return MSE/(len(X)-r)\n",
        "  return TruePositives / (TruePositives + FalsePositives)"
      ],
      "metadata": {
        "id": "rvpDY1Jc8pAY"
      },
      "execution_count": 79,
      "outputs": []
    },
    {
      "cell_type": "code",
      "source": [
        "# Guess and try method for GD\n",
        "#xiamianyangttnianbenlaishibuyiyangdewhyxianzaiyiyang\n",
        "A = np.ones(19)\n",
        "def ff(A):\n",
        "  return np.sum(A**2)\n",
        "for epoches in range(10):\n",
        "  loss = ff(A)\n",
        "  A[1] += 0.1\n",
        "  loss2 = ff(A)\n",
        "  slope = (loss2-loss)/0.1\n",
        "  A[1]-=slope*10\n",
        "  print(loss)"
      ],
      "metadata": {
        "colab": {
          "base_uri": "https://localhost:8080/"
        },
        "id": "1p9EUP5dd14Y",
        "outputId": "3324f738-8078-466c-b9e3-a04f2916901a"
      },
      "execution_count": 93,
      "outputs": [
        {
          "output_type": "stream",
          "name": "stdout",
          "text": [
            "19.0\n",
            "414.01000000000334\n",
            "142297.84000000628\n",
            "51375941.29005829\n",
            "18546463191.3943\n",
            "6695277863144.764\n",
            "2416995224292102.0\n",
            "8.725353451689786e+17\n",
            "3.149852565874189e+20\n",
            "1.1370499026228518e+23\n"
          ]
        }
      ]
    },
    {
      "cell_type": "code",
      "source": [
        "slope"
      ],
      "metadata": {
        "colab": {
          "base_uri": "https://localhost:8080/"
        },
        "id": "0pPicVxgie5n",
        "outputId": "50fc5a97-597a-43c1-9a92-dcb7861bb2ed"
      },
      "execution_count": 84,
      "outputs": [
        {
          "output_type": "execute_result",
          "data": {
            "text/plain": [
              "-1.8999999999999773"
            ]
          },
          "metadata": {},
          "execution_count": 84
        }
      ]
    },
    {
      "cell_type": "code",
      "source": [
        "A[1]=1000000\n",
        "A[2]=1000000\n",
        "A[3]=1000000 #haishiyoubianhuadewhyzhiqinamieyo taychikunyun 1 bushi0xiamian"
      ],
      "metadata": {
        "id": "kmm8UG84igwG"
      },
      "execution_count": 67,
      "outputs": []
    },
    {
      "cell_type": "code",
      "source": [
        "y=[]\n",
        "for x in range(100):\n",
        "  loss=train_step(A)\n",
        "  A[0]+=0.1\n",
        "  y.append(loss)"
      ],
      "metadata": {
        "id": "GHk-fs-_hRD4"
      },
      "execution_count": null,
      "outputs": []
    },
    {
      "cell_type": "markdown",
      "source": [
        "kunshouzangbushoulie kun ttyunnashou huang xkou yuntt chaojikun xianhuachulai?xianbusuiji?kun"
      ],
      "metadata": {
        "id": "Yhdb311khJo4"
      }
    },
    {
      "cell_type": "code",
      "source": [
        ""
      ],
      "metadata": {
        "id": "uqgQSQX1fitY"
      },
      "execution_count": 38,
      "outputs": []
    },
    {
      "cell_type": "code",
      "source": [
        ""
      ],
      "metadata": {
        "colab": {
          "base_uri": "https://localhost:8080/"
        },
        "id": "VCfM1bqIfD4h",
        "outputId": "f12d0c9f-784a-4ac1-aa12-3da0aafd2c7f"
      },
      "execution_count": 41,
      "outputs": [
        {
          "output_type": "stream",
          "name": "stdout",
          "text": [
            "0.9859556725916173\n",
            "0.37058823529411766\n",
            "0.75\n",
            "0.08788173741362298\n"
          ]
        },
        {
          "output_type": "execute_result",
          "data": {
            "text/plain": [
              "0.08788173741362298"
            ]
          },
          "metadata": {},
          "execution_count": 41
        }
      ]
    },
    {
      "cell_type": "code",
      "source": [
        "sum1/(sum0+sum1)"
      ],
      "metadata": {
        "colab": {
          "base_uri": "https://localhost:8080/"
        },
        "id": "knlRLxXFYJWm",
        "outputId": "b13a07f9-4fbd-40d0-bb19-bf2f272d3898"
      },
      "execution_count": 345,
      "outputs": [
        {
          "output_type": "execute_result",
          "data": {
            "text/plain": [
              "0.18000000000000022"
            ]
          },
          "metadata": {},
          "execution_count": 345
        }
      ]
    },
    {
      "cell_type": "code",
      "source": [
        "sum"
      ],
      "metadata": {
        "colab": {
          "base_uri": "https://localhost:8080/"
        },
        "id": "GSzuYu0kXEzo",
        "outputId": "733e4c05-db30-46cf-b514-4838967a4f01"
      },
      "execution_count": 335,
      "outputs": [
        {
          "output_type": "execute_result",
          "data": {
            "text/plain": [
              "-9.999999989999978e-08"
            ]
          },
          "metadata": {},
          "execution_count": 335
        }
      ]
    },
    {
      "cell_type": "code",
      "source": [
        "distance[8]"
      ],
      "metadata": {
        "colab": {
          "base_uri": "https://localhost:8080/"
        },
        "id": "jFhePXPnTg8m",
        "outputId": "a92206f5-f841-4007-b443-9de70beab1f9"
      },
      "execution_count": 328,
      "outputs": [
        {
          "output_type": "execute_result",
          "data": {
            "text/plain": [
              "4043056.074194"
            ]
          },
          "metadata": {},
          "execution_count": 328
        }
      ]
    },
    {
      "cell_type": "markdown",
      "source": [
        "### Baseline 2 (NN)"
      ],
      "metadata": {
        "id": "fKtLuqMzcqeq"
      }
    },
    {
      "cell_type": "code",
      "source": [
        "import tensorflow as tf\n",
        "\n",
        "import os\n",
        "import tensorflow_datasets as tfds\n",
        "import numpy as np\n",
        "from PIL import Image\n",
        "\n",
        "import matplotlib.pyplot as plt\n",
        "import matplotlib.patches as patches"
      ],
      "metadata": {
        "id": "cO5iRGOaaTgq"
      },
      "execution_count": 1,
      "outputs": []
    },
    {
      "cell_type": "code",
      "source": [
        "\n",
        "model = tf.keras.models.Sequential([\n",
        "  # RBG, because pineapple is yellow\n",
        "  tf.keras.layers.Input(X.shape[1]),\n",
        "  tf.keras.layers.Dense(40, activation=\"relu\"),\n",
        "  tf.keras.layers.Dense(50, activation=\"relu\"),\n",
        "  tf.keras.layers.Dense(60, activation=\"relu\"),\n",
        "  tf.keras.layers.Dense(50, activation=\"relu\"),\n",
        "  tf.keras.layers.Dense(20, activation=\"relu\"),\n",
        "  tf.keras.layers.Dense(10, activation=\"relu\"),\n",
        "  tf.keras.layers.Dense(1, activation=\"sigmoid\"),\n",
        "])\n",
        "model.summary()\n",
        "# print(model.output_shape)\n",
        "model.compile(optimizer=tf.keras.optimizers.Adam(),\n",
        "          loss='binary_crossentropy',metrics=[\"accuracy\"])\n"
      ],
      "metadata": {
        "colab": {
          "base_uri": "https://localhost:8080/"
        },
        "id": "G_zQuJIvaH_M",
        "outputId": "afa0fa24-b2a1-4ffc-89ae-7ce46067fc52"
      },
      "execution_count": 18,
      "outputs": [
        {
          "output_type": "stream",
          "name": "stdout",
          "text": [
            "Model: \"sequential_4\"\n",
            "_________________________________________________________________\n",
            " Layer (type)                Output Shape              Param #   \n",
            "=================================================================\n",
            " dense_16 (Dense)            (None, 40)                800       \n",
            "                                                                 \n",
            " dense_17 (Dense)            (None, 50)                2050      \n",
            "                                                                 \n",
            " dense_18 (Dense)            (None, 60)                3060      \n",
            "                                                                 \n",
            " dense_19 (Dense)            (None, 50)                3050      \n",
            "                                                                 \n",
            " dense_20 (Dense)            (None, 20)                1020      \n",
            "                                                                 \n",
            " dense_21 (Dense)            (None, 10)                210       \n",
            "                                                                 \n",
            " dense_22 (Dense)            (None, 1)                 11        \n",
            "                                                                 \n",
            "=================================================================\n",
            "Total params: 10,201\n",
            "Trainable params: 10,201\n",
            "Non-trainable params: 0\n",
            "_________________________________________________________________\n"
          ]
        }
      ]
    },
    {
      "cell_type": "code",
      "source": [
        "model.fit(X,Y)"
      ],
      "metadata": {
        "colab": {
          "base_uri": "https://localhost:8080/"
        },
        "id": "Z9PlqKWZcd5f",
        "outputId": "567134e9-c075-41ff-fac2-fe6d1344959e"
      },
      "execution_count": 21,
      "outputs": [
        {
          "output_type": "stream",
          "name": "stdout",
          "text": [
            "317/317 [==============================] - 1s 4ms/step - loss: 0.6061 - accuracy: 0.8216\n"
          ]
        },
        {
          "output_type": "execute_result",
          "data": {
            "text/plain": [
              "<keras.callbacks.History at 0x7efeff6d43d0>"
            ]
          },
          "metadata": {},
          "execution_count": 21
        }
      ]
    }
  ]
}