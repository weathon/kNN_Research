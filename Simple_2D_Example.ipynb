{
  "nbformat": 4,
  "nbformat_minor": 0,
  "metadata": {
    "colab": {
      "name": "Simple 2D Example.ipynb",
      "provenance": [],
      "collapsed_sections": [],
      "authorship_tag": "ABX9TyPazKrfaiQnig1MLDgLujCm",
      "include_colab_link": true
    },
    "kernelspec": {
      "name": "python3",
      "display_name": "Python 3"
    },
    "language_info": {
      "name": "python"
    }
  },
  "cells": [
    {
      "cell_type": "markdown",
      "metadata": {
        "id": "view-in-github",
        "colab_type": "text"
      },
      "source": [
        "<a href=\"https://colab.research.google.com/github/weathon/kNN_Research/blob/main/Simple_2D_Example.ipynb\" target=\"_parent\"><img src=\"https://colab.research.google.com/assets/colab-badge.svg\" alt=\"Open In Colab\"/></a>"
      ]
    },
    {
      "cell_type": "code",
      "source": [
        "import autograd.numpy as np\n",
        "from autograd import grad"
      ],
      "metadata": {
        "id": "3ZYaCwY8n6pZ"
      },
      "execution_count": 1,
      "outputs": []
    },
    {
      "cell_type": "code",
      "execution_count": 2,
      "metadata": {
        "id": "0EmwZqo0nGFs"
      },
      "outputs": [],
      "source": [
        "def f(x):\n",
        "  return (x-50)**2"
      ]
    },
    {
      "cell_type": "code",
      "source": [
        "# generate data\n",
        "import random\n",
        "X = []\n",
        "Y = []\n",
        "label = []\n",
        "for i in range(400):\n",
        "  x = np.random.uniform()*100\n",
        "  y = np.random.uniform()*100\n",
        "  X.append([x,y])\n",
        "  if y>f(x):\n",
        "    Y.append(1)\n",
        "  else:\n",
        "    Y.append(0)"
      ],
      "metadata": {
        "id": "vP573v3JoKno"
      },
      "execution_count": 4,
      "outputs": []
    },
    {
      "cell_type": "code",
      "source": [
        "X = np.array(X)\n",
        "Y = np.array(Y)\n",
        "indexs = np.arange(len(X))\n",
        "\n",
        "def train_step(A, k):\n",
        "  global X,Y, accuracy\n",
        "\n",
        "  r = int(len(X)*0.9)\n",
        "  #kunoukoukeduziheisright?kunduzikun zhe gee shi qu 0.8 meiciyifong 0.1?xkou hmiande 0.2 kunkouke zheyag gaicheng 0.9 zhihou yiranconverge \n",
        "  npX = np.array(X[:r])\n",
        "  npY = np.array(Y[:r])\n",
        "  X_val = np.array(X[r:])\n",
        "  Y_val = np.array(Y[r:])\n",
        "\n",
        "  error = 0\n",
        "  # TruePositives = 0\n",
        "  # FalseNegatives = 0\n",
        "  # FalsePositives = 0\n",
        "  # TrueNegatives = 0\n",
        "  MSE = 0.0\n",
        "\n",
        "  for sample in range(len(X)-r): \n",
        "    distance = np.sum(A*(npX - X_val[sample])**2,axis=1) \n",
        "    sum0 = 0\n",
        "    sum1 = 0\n",
        "    mins = np.argsort(distance)[:k]\n",
        "    sum0 += np.sum(1/(distance[mins]+1))\n",
        "    sum1 += np.sum(1/(distance[mins]+1) * (npY[mins]))\n",
        "\n",
        "    MSE += (sum1/sum0-Y_val[sample])**2\n",
        "\n",
        "  return  MSE/(len(X)-r)"
      ],
      "metadata": {
        "id": "MRpnp2UVoOOh"
      },
      "execution_count": 11,
      "outputs": []
    },
    {
      "cell_type": "code",
      "source": [
        "def d(A):\n",
        "  return train_step(abs(A),30)\n",
        "train_grad = grad(d)"
      ],
      "metadata": {
        "id": "9HuuqV2xoZG8"
      },
      "execution_count": 7,
      "outputs": []
    },
    {
      "cell_type": "code",
      "source": [
        "def X_shuffle(X):\n",
        "  return np.append(X[len(X)//10:,:],X[:len(X)//10,:],axis=0)\n",
        "\n",
        "def shuffle(X):\n",
        "  return np.append(X[len(X)//10:],X[:len(X)//10])"
      ],
      "metadata": {
        "id": "wu7P4JaepQJ_"
      },
      "execution_count": 8,
      "outputs": []
    },
    {
      "cell_type": "code",
      "source": [
        "A = np.array([1.0,1.0])\n",
        "losses = []\n",
        "for epoches in range(50): \n",
        "  losssum = 0\n",
        "  for batch in range(10):\n",
        "    slope = train_grad(A)\n",
        "    A-=slope*0.5\n",
        "    loss = train_step(A,30)\n",
        "    losssum+=loss\n",
        "    np.random.shuffle(indexs) #qishiyeyouhenmaneryi?faruanfadouttkunkoukeyouhenduoyijinguxnlinguode youmxianxiangjiangkun ttttfaruan chaoji huangxkouwhy\n",
        "    X = X[indexs]\n",
        "    Y = Y[indexs] \n",
        "  losses.append(losssum)\n",
        "  print(losssum)\n",
        " "
      ],
      "metadata": {
        "colab": {
          "base_uri": "https://localhost:8080/"
        },
        "id": "2UPfWohOpBW3",
        "outputId": "bc15c67d-33bf-4dde-e081-50cb912921d3"
      },
      "execution_count": 15,
      "outputs": [
        {
          "output_type": "stream",
          "name": "stdout",
          "text": [
            "0.33380471117169996\n",
            "0.23342428267531448\n",
            "0.2220879874643537\n",
            "0.22852910679660265\n",
            "0.21648590368610596\n",
            "0.2386175597635586\n",
            "0.1958709085861354\n",
            "0.19759925699502282\n",
            "0.23738047570917026\n",
            "0.24797147259534172\n",
            "0.2739699955004713\n",
            "0.19419751879658137\n",
            "0.2959911877248177\n",
            "0.22282848699444344\n",
            "0.21947116064489908\n",
            "0.23236133988781327\n",
            "0.211010335921954\n",
            "0.19947805051934822\n",
            "0.19137546524183918\n",
            "0.25446721044115655\n",
            "0.18756494692269463\n",
            "0.17058941499998098\n",
            "0.17027236858567513\n",
            "0.23010378217716138\n",
            "0.18933356456599124\n",
            "0.14537207385945747\n",
            "0.21888056101407105\n",
            "0.18697053834466304\n",
            "0.23377088506003252\n",
            "0.12729200635356858\n",
            "0.21973598659938037\n",
            "0.17715870580062026\n",
            "0.20880396413724292\n",
            "0.21243103516093947\n",
            "0.1732416160959587\n",
            "0.1357246008830963\n",
            "0.17114732884683048\n",
            "0.12346551730554974\n",
            "0.11482347225338797\n",
            "0.12049933833612284\n",
            "0.1657627268591842\n",
            "0.18181945511348283\n",
            "0.12749706278411188\n",
            "0.1177486306730819\n",
            "0.20608860932656634\n",
            "0.1218315083346981\n",
            "0.15673313483408827\n",
            "0.16116985199202633\n",
            "0.15202754695505102\n",
            "0.13756616271579664\n"
          ]
        }
      ]
    },
    {
      "cell_type": "code",
      "source": [
        "import matplotlib.pyplot as plt\n",
        "plt.plot(losses)"
      ],
      "metadata": {
        "colab": {
          "base_uri": "https://localhost:8080/",
          "height": 282
        },
        "id": "atiMpXszpr10",
        "outputId": "25bcbe3c-943f-47f9-8e67-f8848622cb16"
      },
      "execution_count": 16,
      "outputs": [
        {
          "output_type": "execute_result",
          "data": {
            "text/plain": [
              "[<matplotlib.lines.Line2D at 0x7f7c5ac39710>]"
            ]
          },
          "metadata": {},
          "execution_count": 16
        },
        {
          "output_type": "display_data",
          "data": {
            "text/plain": [
              "<Figure size 432x288 with 1 Axes>"
            ],
            "image/png": "[encoded data removed]"
          },
          "metadata": {
            "needs_background": "light"
          }
        }
      ]
    }
  ]
}