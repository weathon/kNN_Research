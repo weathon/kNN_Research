{
  "nbformat": 4,
  "nbformat_minor": 0,
  "metadata": {
    "colab": {
      "name": "Simple 2D Example.ipynb",
      "provenance": [],
      "collapsed_sections": [],
      "authorship_tag": "ABX9TyONF5bUUJRT/s0uJOIP3cYd",
      "include_colab_link": true
    },
    "kernelspec": {
      "name": "python3",
      "display_name": "Python 3"
    },
    "language_info": {
      "name": "python"
    }
  },
  "cells": [
    {
      "cell_type": "markdown",
      "metadata": {
        "id": "view-in-github",
        "colab_type": "text"
      },
      "source": [
        "<a href=\"https://colab.research.google.com/github/weathon/kNN_Research/blob/main/Simple_2D_Example.ipynb\" target=\"_parent\"><img src=\"https://colab.research.google.com/assets/colab-badge.svg\" alt=\"Open In Colab\"/></a>"
      ]
    },
    {
      "cell_type": "code",
      "source": [
        "import autograd.numpy as np\n",
        "from autograd import grad"
      ],
      "metadata": {
        "id": "3ZYaCwY8n6pZ"
      },
      "execution_count": 1,
      "outputs": []
    },
    {
      "cell_type": "code",
      "execution_count": 2,
      "metadata": {
        "id": "0EmwZqo0nGFs"
      },
      "outputs": [],
      "source": [
        "def f(x):\n",
        "  return (x-50)**2"
      ]
    },
    {
      "cell_type": "code",
      "source": [
        "# generate data\n",
        "import random\n",
        "X = []\n",
        "Y = []\n",
        "label = []\n",
        "for i in range(400):\n",
        "  x = np.random.uniform()*100\n",
        "  y = np.random.uniform()*100\n",
        "  X.append([x,y])\n",
        "  if y>f(x):\n",
        "    Y.append(1)\n",
        "  else:\n",
        "    Y.append(0)"
      ],
      "metadata": {
        "id": "vP573v3JoKno"
      },
      "execution_count": 22,
      "outputs": []
    },
    {
      "cell_type": "code",
      "source": [
        "X = np.array(X)\n",
        "Y = np.array(Y)\n",
        "indexs = np.arange(len(X))\n",
        "\n",
        "def train_step(A, k):\n",
        "  global X,Y, accuracy\n",
        "\n",
        "  r = int(len(X)*0.9)\n",
        "  #kunoukoukeduziheisright?kunduzikun zhe gee shi qu 0.8 meiciyifong 0.1?xkou hmiande 0.2 kunkouke zheyag gaicheng 0.9 zhihou yiranconverge \n",
        "  npX = np.array(X[:r])\n",
        "  npY = np.array(Y[:r])\n",
        "  X_val = np.array(X[r:])\n",
        "  Y_val = np.array(Y[r:])\n",
        "\n",
        "  error = 0\n",
        "  # TruePositives = 0\n",
        "  # FalseNegatives = 0\n",
        "  # FalsePositives = 0\n",
        "  # TrueNegatives = 0\n",
        "  MSE = 0.0\n",
        "\n",
        "  for sample in range(len(X)-r): \n",
        "    distance = np.sum(A*(npX - X_val[sample])**2,axis=1) \n",
        "    sum0 = 0\n",
        "    sum1 = 0\n",
        "    mins = np.argsort(distance)[:k]\n",
        "    sum0 += np.sum(1/(distance[mins]+1))\n",
        "    sum1 += np.sum(1/(distance[mins]+1) * (npY[mins]))\n",
        "\n",
        "    MSE += (sum1/sum0-Y_val[sample])**2\n",
        "\n",
        "  return  MSE/(len(X)-r)"
      ],
      "metadata": {
        "id": "MRpnp2UVoOOh"
      },
      "execution_count": 23,
      "outputs": []
    },
    {
      "cell_type": "code",
      "source": [
        "def d(A):\n",
        "  return train_step(abs(A),30)\n",
        "train_grad = grad(d)"
      ],
      "metadata": {
        "id": "9HuuqV2xoZG8"
      },
      "execution_count": 24,
      "outputs": []
    },
    {
      "cell_type": "code",
      "source": [
        "def X_shuffle(X):\n",
        "  return np.append(X[len(X)//10:,:],X[:len(X)//10,:],axis=0)\n",
        "\n",
        "def shuffle(X):\n",
        "  return np.append(X[len(X)//10:],X[:len(X)//10])"
      ],
      "metadata": {
        "id": "wu7P4JaepQJ_"
      },
      "execution_count": 25,
      "outputs": []
    },
    {
      "cell_type": "code",
      "source": [
        "# np.random.shuffle(indexs)\n",
        "A = np.array([1.0,1.0])\n",
        "losses = []\n",
        "for epoches in range(30): \n",
        "  losssum = 0\n",
        "  for batch in range(10):\n",
        "    slope = train_grad(A)\n",
        "    A-=slope*0.5\n",
        "    loss = train_step(A,30) \n",
        "    losssum+=loss\n",
        "    indexs = shuffle(indexs) \n",
        "    X = X[indexs]\n",
        "    Y = Y[indexs] \n",
        "  losses.append(losssum)\n",
        "  print(losssum)\n",
        " # kouke toutongfaruansm gui chongxin run yiciyoukeyile congtou koukeshangcide hshi random shuffleguode? xianshuffle zai shoushuffledoubuxing?tttxkou christianwaimianoke\n",
        " # kouke IT IS RIGHT, EVEN IF I JUST SHUFFLE AT THE BEGINING, IT WONT WORK!\n",
        "\n",
        " # xkoukunkouekxkoutamenwaimianhenhuang whywhwywxjkotxtiaott\n",
        " #faruanttkun zhege zhaoyangyouxiajiangdanyeyouhengaodeqkuangkun buzitaida?dfadoufaruanhaihshibuxing xiaianzang wtamenzaiwaimian shouzhishnagshashicainengzouxkokunkouk faruan huang aaaa walmrt"
      ],
      "metadata": {
        "colab": {
          "base_uri": "https://localhost:8080/"
        },
        "id": "2UPfWohOpBW3",
        "outputId": "bf50046d-e611-41f6-ecb9-0819603188e0"
      },
      "execution_count": 36,
      "outputs": [
        {
          "output_type": "stream",
          "name": "stdout",
          "text": [
            "0.341183215167997\n",
            "0.2891695811597413\n",
            "0.32519984248922207\n",
            "0.3611451182682217\n",
            "0.26664467440421713\n",
            "0.23880318298165415\n",
            "0.31218370149404345\n",
            "0.29049924746032235\n",
            "0.26473499220297425\n",
            "0.228580523002227\n",
            "0.29190125921174104\n",
            "0.32327841873805174\n",
            "0.2944822916244979\n",
            "0.24484627319158908\n",
            "0.2630520052438015\n",
            "0.2229621716229119\n",
            "0.2193115508491264\n",
            "0.23537892018170034\n",
            "0.16659157455386908\n",
            "0.17576042416981214\n",
            "0.16091848181086835\n",
            "6.205486559054118\n",
            "5.344104100604125\n",
            "58.1981563059487\n",
            "0.7261771518226434\n",
            "3.200927070027083\n",
            "0.22251275323862074\n",
            "0.3090649549795221\n",
            "0.2734010826740329\n",
            "0.22820451592456173\n"
          ]
        }
      ]
    },
    {
      "cell_type": "code",
      "source": [
        "np.random.shuffle(indexs) #aaaaakunkunkunkouke gaomingbao le zhegeshibufanhui de womendeshifanhuide fadoufaruankun koke suoyiwomendeqishimeigenggaiyoushizhegewentiquanhsnegruan\n",
        "\n",
        "#ttttxueyakunttdanshikaishishuffleyiciyousmwentis"
      ],
      "metadata": {
        "id": "vLJ7mzoJuM-F"
      },
      "execution_count": 33,
      "outputs": []
    },
    {
      "cell_type": "code",
      "source": [
        "import matplotlib.pyplot as plt\n",
        "plt.plot(losses)"
      ],
      "metadata": {
        "colab": {
          "base_uri": "https://localhost:8080/",
          "height": 286
        },
        "id": "atiMpXszpr10",
        "outputId": "6d05066f-389f-4478-ce91-b08c63b9bff7"
      },
      "execution_count": 31,
      "outputs": [
        {
          "output_type": "execute_result",
          "data": {
            "text/plain": [
              "[<matplotlib.lines.Line2D at 0x7f7c5aab5610>]"
            ]
          },
          "metadata": {},
          "execution_count": 31
        },
        {
          "output_type": "display_data",
          "data": {
            "text/plain": [
              "<Figure size 432x288 with 1 Axes>"
            ],
            "image/png": "[encoded data removed]"
          },
          "metadata": {
            "needs_background": "light"
          }
        }
      ]
    },
    {
      "cell_type": "code",
      "source": [
        "A"
      ],
      "metadata": {
        "colab": {
          "base_uri": "https://localhost:8080/"
        },
        "id": "kuJdKPUStmko",
        "outputId": "686340bb-8814-495c-8529-fce3fa865655"
      },
      "execution_count": 28,
      "outputs": [
        {
          "output_type": "execute_result",
          "data": {
            "text/plain": [
              "array([1.69310372, 0.03545942])"
            ]
          },
          "metadata": {},
          "execution_count": 28
        }
      ]
    }
  ]
}