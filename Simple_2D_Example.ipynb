{
  "nbformat": 4,
  "nbformat_minor": 0,
  "metadata": {
    "colab": {
      "name": "Simple 2D Example.ipynb",
      "provenance": [],
      "collapsed_sections": [],
      "authorship_tag": "ABX9TyNohGB5Q285Z2gaw13wKJXI",
      "include_colab_link": true
    },
    "kernelspec": {
      "name": "python3",
      "display_name": "Python 3"
    },
    "language_info": {
      "name": "python"
    }
  },
  "cells": [
    {
      "cell_type": "markdown",
      "metadata": {
        "id": "view-in-github",
        "colab_type": "text"
      },
      "source": [
        "<a href=\"https://colab.research.google.com/github/weathon/kNN_Research/blob/main/Simple_2D_Example.ipynb\" target=\"_parent\"><img src=\"https://colab.research.google.com/assets/colab-badge.svg\" alt=\"Open In Colab\"/></a>"
      ]
    },
    {
      "cell_type": "code",
      "source": [
        "import autograd.numpy as np\n",
        "from autograd import grad"
      ],
      "metadata": {
        "id": "3ZYaCwY8n6pZ"
      },
      "execution_count": 1,
      "outputs": []
    },
    {
      "cell_type": "code",
      "execution_count": 2,
      "metadata": {
        "id": "0EmwZqo0nGFs"
      },
      "outputs": [],
      "source": [
        "def f(x):\n",
        "  return (x-50)**2"
      ]
    },
    {
      "cell_type": "code",
      "source": [
        "# generate data\n",
        "import random\n",
        "X = []\n",
        "Y = []\n",
        "label = []\n",
        "for i in range(600):\n",
        "  x = np.random.uniform()*100\n",
        "  y = np.random.uniform()*100\n",
        "  X.append([x,y])\n",
        "  if y>f(x):\n",
        "    Y.append(1)\n",
        "  else:\n",
        "    Y.append(0)\n"
      ],
      "metadata": {
        "id": "vP573v3JoKno"
      },
      "execution_count": 3,
      "outputs": []
    },
    {
      "cell_type": "code",
      "source": [
        "import sklearn.metrics\n",
        "X = np.array(X)\n",
        "Y = np.array(Y)\n",
        "indexs = np.arange(len(X))\n",
        "\n",
        "def train_step(A, k):\n",
        "  pred = []\n",
        "  real = []\n",
        "  global X,Y, accuracy\n",
        "\n",
        "  r = int(len(X)*0.5)\n",
        "  #kunoukoukeduziheisright?kunduzikun zhe gee shi qu 0.8 meiciyifong 0.1?xkou hmiande 0.2 kunkouke zheyag gaicheng 0.9 zhihou yiranconverge \n",
        "  npX = np.array(X[:r])\n",
        "  npY = np.array(Y[:r])\n",
        "  X_val = np.array(X[r:])\n",
        "  Y_val = np.array(Y[r:])\n",
        "\n",
        "  error = 0\n",
        "  # TruePositives = 0\n",
        "  # FalseNegatives = 0\n",
        "  # FalsePositives = 0\n",
        "  # TrueNegatives = 0\n",
        "  MSE = 0.0\n",
        "\n",
        "  for sample in range(len(X)-r): \n",
        "    distance = np.sum(A*(npX - X_val[sample])**2,axis=1) \n",
        "    sum0 = 0\n",
        "    sum1 = 0\n",
        "    mins = np.argsort(distance)[:k]\n",
        "    sum0 += np.sum(1/(distance[mins]+1))\n",
        "    sum1 += np.sum(1/(distance[mins]+1) * (npY[mins]))\n",
        "    pred.append(1 if sum1/sum0>0.5 else 0)\n",
        "    real.append(Y_val[sample]) #npY\n",
        "    MSE += (sum1/sum0-Y_val[sample])**2\n",
        "  # print(real,pred)\n",
        "  F2 = sklearn.metrics.fbeta_score(real, pred, beta=2)\n",
        "  return  MSE/(len(X)-r), F2\n"
      ],
      "metadata": {
        "id": "MRpnp2UVoOOh"
      },
      "execution_count": 4,
      "outputs": []
    },
    {
      "cell_type": "code",
      "source": [
        "def val(A, k):\n",
        "  pred = []\n",
        "  real = []\n",
        "  global X,Y, accuracy\n",
        "\n",
        "  npX = np.array(X[:])\n",
        "  npY = np.array(Y[:])\n",
        "  X_val = []\n",
        "  Y_val = []\n",
        "  \n",
        "  for i in range(50):\n",
        "    x = np.random.uniform()*100\n",
        "    y = np.random.uniform()*100\n",
        "    X_val.append([x,y])\n",
        "    if y>f(x):\n",
        "      Y_val.append(1)\n",
        "    else:\n",
        "      Y_val.append(0)\n",
        "\n",
        "  error = 0\n",
        "  MSE = 0.0\n",
        "\n",
        "  for sample in range(len(X)-r): \n",
        "    distance = np.sum(A*(npX - X_val[sample])**2,axis=1) \n",
        "    sum0 = 0\n",
        "    sum1 = 0\n",
        "    mins = np.argsort(distance)[:k]\n",
        "    sum0 += np.sum(1/(distance[mins]+1))\n",
        "    sum1 += np.sum(1/(distance[mins]+1) * (npY[mins]))\n",
        "    pred.append(1 if sum1/sum0>0.5 else 0)\n",
        "    real.append(Y_val[sample]) #npY\n",
        "    MSE += (sum1/sum0-Y_val[sample])**2\n",
        "  # print(real,pred)\n",
        "  F2 = sklearn.metrics.fbeta_score(real, pred, beta=2)\n",
        "  return  MSE/(len(X)-r), F2\n"
      ],
      "metadata": {
        "id": "eu2KIzLhVE83"
      },
      "execution_count": 5,
      "outputs": []
    },
    {
      "cell_type": "code",
      "source": [
        "def d(A):\n",
        "  return train_step(abs(A),30)[0]\n",
        "train_grad = grad(d)"
      ],
      "metadata": {
        "id": "9HuuqV2xoZG8"
      },
      "execution_count": 6,
      "outputs": []
    },
    {
      "cell_type": "code",
      "source": [
        "def X_shuffle(X):\n",
        "  return np.append(X[len(X)//10:,:],X[:len(X)//10,:],axis=0)\n",
        "\n",
        "def shuffle(X):\n",
        "  return np.append(X[len(X)//10:],X[:len(X)//10])"
      ],
      "metadata": {
        "id": "wu7P4JaepQJ_"
      },
      "execution_count": 7,
      "outputs": []
    },
    {
      "cell_type": "code",
      "source": [
        "import matplotlib.pyplot as plt\n",
        "#kuneinkunzhameklunattxkouyangzang\n",
        "plt.scatter(X[:,0],X[:,1],c=Y) #xkouruankun nanshou chaojisuan xkoutttttkun ruanhuxi yanyang ttxkouhuxizhangkun huang tanxaoixoaikmaikandaoskou xkoukunyachiruantt zhege tumeicuo suoruanruanurunttkunsuoyizhendeshishukjucuolejiumaijianchaxkouxkouruanku\n",
        "#xkouttxkouxueyakunnashouzhang weism wo xianzai shuffle haikeyieng jishishi random shuffleyekeyi nashismcuolexkou runhaishifenxi xkouxkou ttfaruankuneix huxi duzi nashou zang kun zheyiqieeixnkun znaghuangfaruanhuxi chajixiaiayangdaduhaishimeiulunanashismshidhouhuiuluan"
      ],
      "metadata": {
        "colab": {
          "base_uri": "https://localhost:8080/",
          "height": 218
        },
        "id": "WuFfsasgvk0K",
        "outputId": "f86b7f92-ecb2-4294-a325-f536488228ab"
      },
      "execution_count": 8,
      "outputs": [
        {
          "output_type": "error",
          "ename": "NameError",
          "evalue": "ignored",
          "traceback": [
            "\u001b[0;31m---------------------------------------------------------------------------\u001b[0m",
            "\u001b[0;31mNameError\u001b[0m                                 Traceback (most recent call last)",
            "\u001b[0;32m<ipython-input-8-cf02c0f8e8d5>\u001b[0m in \u001b[0;36m<module>\u001b[0;34m()\u001b[0m\n\u001b[0;32m----> 1\u001b[0;31m \u001b[0mplt\u001b[0m\u001b[0;34m.\u001b[0m\u001b[0mscatter\u001b[0m\u001b[0;34m(\u001b[0m\u001b[0mX\u001b[0m\u001b[0;34m[\u001b[0m\u001b[0;34m:\u001b[0m\u001b[0;34m,\u001b[0m\u001b[0;36m0\u001b[0m\u001b[0;34m]\u001b[0m\u001b[0;34m,\u001b[0m\u001b[0mX\u001b[0m\u001b[0;34m[\u001b[0m\u001b[0;34m:\u001b[0m\u001b[0;34m,\u001b[0m\u001b[0;36m1\u001b[0m\u001b[0;34m]\u001b[0m\u001b[0;34m,\u001b[0m\u001b[0mc\u001b[0m\u001b[0;34m=\u001b[0m\u001b[0mY\u001b[0m\u001b[0;34m)\u001b[0m \u001b[0;31m#xkouruankun nanshou chaojisuan xkoutttttkun ruanhuxi yanyang ttxkouhuxizhangkun huang tanxaoixoaikmaikandaoskou xkoukunyachiruantt zhege tumeicuo suoruanruanurunttkunsuoyizhendeshishukjucuolejiumaijianchaxkouxkouruanku\u001b[0m\u001b[0;34m\u001b[0m\u001b[0;34m\u001b[0m\u001b[0m\n\u001b[0m\u001b[1;32m      2\u001b[0m \u001b[0;31m#xkouttxkouxueyakunnashouzhang weism wo xianzai shuffle haikeyieng jishishi random shuffleyekeyi nashismcuolexkou runhaishifenxi xkouxkou ttfaruankuneix huxi duzi nashou zang kun zheyiqieeixnkun znaghuangfaruanhuxi chajixiaiayangdaduhaishimeiulunanashismshidhouhuiuluan\u001b[0m\u001b[0;34m\u001b[0m\u001b[0;34m\u001b[0m\u001b[0;34m\u001b[0m\u001b[0m\n",
            "\u001b[0;31mNameError\u001b[0m: name 'plt' is not defined"
          ]
        }
      ]
    },
    {
      "cell_type": "code",
      "source": [
        "np.random.shuffle(indexs) \n",
        "X = X[indexs]\n",
        "Y = Y[indexs] \n",
        "#zhinnongyigejiuhuilunandiao tt xueyakun zhiqiqnzenmehuishiweism shuffeyicizhihoujiubuxlekun yijinglinguoyihuile"
      ],
      "metadata": {
        "id": "l9_6kFa5xQa4"
      },
      "execution_count": null,
      "outputs": []
    },
    {
      "cell_type": "code",
      "source": [
        "indexs = np.arange(len(X))\n"
      ],
      "metadata": {
        "id": "ty497hSgdWKW"
      },
      "execution_count": null,
      "outputs": []
    },
    {
      "cell_type": "code",
      "source": [
        "#mmenshenghuangxkouniaokun ttnanshoudeiziizo walmartkunniaoduzi ttnanshouhuangttduzixueyakun zhsouzan"
      ],
      "metadata": {
        "id": "7t9QjrWIxyQ7"
      },
      "execution_count": null,
      "outputs": []
    },
    {
      "cell_type": "code",
      "source": [
        "# ruanzhendexkou buxipaitupianshidui de xueyaxueyattttindexstxueyakun numpybushuruan"
      ],
      "metadata": {
        "id": "cwohm8kDxGsc"
      },
      "execution_count": null,
      "outputs": []
    },
    {
      "cell_type": "code",
      "source": [
        "Y#yefensankaile?\n",
        "np.random.shuffle(indexs)\n",
        "X_old = X[indexs]\n",
        "Y_old = Y[indexs] "
      ],
      "metadata": {
        "id": "hFMbzTgI0DGl"
      },
      "execution_count": null,
      "outputs": []
    },
    {
      "cell_type": "code",
      "source": [
        "alpha = 0.1 # if it is 1, it can learn fast at the begining but the loss will increase after step over the min\n",
        "A = np.array([1.0,1.0])\n",
        "losses = []\n",
        "F1List = []\n",
        "for epoches in range(300): \n",
        "  losssum = 0\n",
        "  f1sum = 0\n",
        "  for batch in range(10):\n",
        "    slope = train_grad(A)\n",
        "    A-=slope*alpha\n",
        "    loss, F1 = train_step(A,30) \n",
        "    losssum+=loss\n",
        "    f1sum += F1\n",
        "    indexs=shuffle(indexs)  \n",
        "    X = X_old[indexs]\n",
        "    Y = Y_old[indexs] \n",
        "  losses.append(losssum/10)\n",
        "  F1List.append(f1sum/10)\n",
        "  print(f1list[-1])\n",
        "  print(losssum)\n"
      ],
      "metadata": {
        "id": "2UPfWohOpBW3"
      },
      "execution_count": null,
      "outputs": []
    },
    {
      "cell_type": "code",
      "source": [
        "for i in range(100):\n",
        "      indexs=shuffle(indexs)  \n",
        "      X = X_old[indexs]\n",
        "      Y = Y_old[indexs] \n",
        "      print(X[:5])"
      ],
      "metadata": {
        "id": "FIObpo1TzVhU"
      },
      "execution_count": null,
      "outputs": []
    },
    {
      "cell_type": "code",
      "source": [
        ""
      ],
      "metadata": {
        "id": "0W_paGcyfBci"
      },
      "execution_count": null,
      "outputs": []
    },
    {
      "cell_type": "code",
      "source": [
        "# xtiaokunkouke zhaodaole ttyangxkoukun \n",
        "#  meisyici padadaun meicyici  huxi bitiyoudaoshoushang meiyi ci doushizaizhshangmiande xiugai suoyi\n",
        "#  xianzaigailehaishikeyimanmanxiajiangxueyakuneixn \n",
        "#  houmianyidaoqianmian \n",
        "# 9 1 2 3 4 5 6 7 8\n",
        "# 8 9 1 2 3 4 5 6 7 "
      ],
      "metadata": {
        "id": "hMkQBouLeb9D"
      },
      "execution_count": null,
      "outputs": []
    },
    {
      "cell_type": "code",
      "source": [
        "np.random.shuffle(indexs) #aaaaakunkunkunkouke gaomingbao le zhegeshibufanhui de womendeshifanhuide fadoufaruankun koke suoyiwomendeqishimeigenggaiyoushizhegewentiquanhsnegruan\n",
        "\n",
        "#ttttxueyakunttdanshikaishishuffleyiciyousmwentis"
      ],
      "metadata": {
        "id": "vLJ7mzoJuM-F"
      },
      "execution_count": null,
      "outputs": []
    },
    {
      "cell_type": "code",
      "source": [
        ""
      ],
      "metadata": {
        "id": "qRM9_gbhtXQh"
      },
      "execution_count": null,
      "outputs": []
    },
    {
      "cell_type": "code",
      "source": [
        "import matplotlib.pyplot as plt\n",
        "plt.plot(losses)#xkouexyeshixiajianngde shuffle but why it effects\n",
        "plt.plot(np.average(np.array(f1list[:4420]).reshape(-1, 20), axis=1))"
      ],
      "metadata": {
        "colab": {
          "base_uri": "https://localhost:8080/",
          "height": 282
        },
        "id": "atiMpXszpr10",
        "outputId": "57bd3a29-0766-410a-99de-724dc239f9d2"
      },
      "execution_count": null,
      "outputs": [
        {
          "output_type": "execute_result",
          "data": {
            "text/plain": [
              "[<matplotlib.lines.Line2D at 0x7f31f9f3d850>]"
            ]
          },
          "metadata": {},
          "execution_count": 67
        },
        {
          "output_type": "display_data",
          "data": {
            "text/plain": [
              "<Figure size 432x288 with 1 Axes>"
            ],
            "image/png": "[encoded data removed]"
          },
          "metadata": {
            "needs_background": "light"
          }
        }
      ]
    },
    {
      "cell_type": "code",
      "source": [
        "f1list[-1]"
      ],
      "metadata": {
        "colab": {
          "base_uri": "https://localhost:8080/"
        },
        "id": "9HY4UfSWtxZP",
        "outputId": "643e7547-ce4a-42a0-8019-686fb4a79ec8"
      },
      "execution_count": null,
      "outputs": [
        {
          "output_type": "execute_result",
          "data": {
            "text/plain": [
              "0.9862385321100916"
            ]
          },
          "metadata": {},
          "execution_count": 69
        }
      ]
    },
    {
      "cell_type": "code",
      "source": [
        "t = np.arange(0.01, 10.0, 0.01)\n",
        "data1 = np.exp(t)\n",
        "data2 = np.sin(2 * np.pi * t)\n",
        "\n",
        "fig, ax1 = plt.subplots()\n",
        "# fig.suptitle(\"Result On Simple 2D Data\\n\")\n",
        "color = 'tab:red'\n",
        "ax1.set_xlabel('Epochs')\n",
        "ax1.set_ylabel('Loss', color=color)\n",
        "ax1.plot(losses, color=color)\n",
        "ax1.tick_params(axis='y', labelcolor=color)\n",
        "\n",
        "ax2 = ax1.twinx()  # instantiate a second axes that shares the same x-axis\n",
        "\n",
        "color = 'tab:blue'\n",
        "ax2.set_ylabel('F2 Score', color=color)  # we already handled the x-label with ax1\n",
        "ax2.plot(np.average(np.array(f1list[:4420]).reshape(-1, 20), axis=1) , color=color)\n",
        "ax2.tick_params(axis='y', labelcolor=color)\n",
        "\n",
        "fig.tight_layout()  # otherwise the right y-label is slightly clipped\n",
        "plt.show()\n"
      ],
      "metadata": {
        "colab": {
          "base_uri": "https://localhost:8080/",
          "height": 297
        },
        "id": "giNxzrnFxVbh",
        "outputId": "ebb88c20-291d-4198-d6ec-4c73f78b6f9f"
      },
      "execution_count": null,
      "outputs": [
        {
          "output_type": "display_data",
          "data": {
            "text/plain": [
              "<Figure size 432x288 with 2 Axes>"
            ],
            "image/png": "[encoded data removed]"
          },
          "metadata": {
            "needs_background": "light"
          }
        }
      ]
    },
    {
      "cell_type": "code",
      "source": [
        "np.average(np.array(f1list[:4420]).reshape(-1, 20), axis=1) "
      ],
      "metadata": {
        "id": "J8wKD_KAx3t-"
      },
      "execution_count": null,
      "outputs": []
    },
    {
      "cell_type": "code",
      "source": [
        "A"
      ],
      "metadata": {
        "colab": {
          "base_uri": "https://localhost:8080/"
        },
        "id": "kuJdKPUStmko",
        "outputId": "6a821918-ccee-4f03-b87d-b0059ddd3db6"
      },
      "execution_count": null,
      "outputs": [
        {
          "output_type": "execute_result",
          "data": {
            "text/plain": [
              "array([1.59977223, 0.01755944])"
            ]
          },
          "metadata": {},
          "execution_count": 77
        }
      ]
    }
  ]
}