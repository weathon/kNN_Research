{
  "nbformat": 4,
  "nbformat_minor": 0,
  "metadata": {
    "colab": {
      "name": "Simple 2D Example.ipynb",
      "provenance": [],
      "collapsed_sections": [],
      "authorship_tag": "ABX9TyMGKzSCDchG73MQJzbOz/JU",
      "include_colab_link": true
    },
    "kernelspec": {
      "name": "python3",
      "display_name": "Python 3"
    },
    "language_info": {
      "name": "python"
    }
  },
  "cells": [
    {
      "cell_type": "markdown",
      "metadata": {
        "id": "view-in-github",
        "colab_type": "text"
      },
      "source": [
        "<a href=\"https://colab.research.google.com/github/weathon/kNN_Research/blob/main/Simple_2D_Example.ipynb\" target=\"_parent\"><img src=\"https://colab.research.google.com/assets/colab-badge.svg\" alt=\"Open In Colab\"/></a>"
      ]
    },
    {
      "cell_type": "code",
      "source": [
        "import autograd.numpy as np\n",
        "from autograd import grad"
      ],
      "metadata": {
        "id": "3ZYaCwY8n6pZ"
      },
      "execution_count": 1,
      "outputs": []
    },
    {
      "cell_type": "code",
      "execution_count": 2,
      "metadata": {
        "id": "0EmwZqo0nGFs"
      },
      "outputs": [],
      "source": [
        "def f(x):\n",
        "  return (x-50)**2"
      ]
    },
    {
      "cell_type": "code",
      "source": [
        "# generate data\n",
        "import random\n",
        "X = []\n",
        "Y = []\n",
        "label = []\n",
        "for i in range(400):\n",
        "  x = np.random.uniform()*100\n",
        "  y = np.random.uniform()*100\n",
        "  X.append([x,y])\n",
        "  if y>f(x):\n",
        "    Y.append(1)\n",
        "  else:\n",
        "    Y.append(0)"
      ],
      "metadata": {
        "id": "vP573v3JoKno"
      },
      "execution_count": 4,
      "outputs": []
    },
    {
      "cell_type": "code",
      "source": [
        "X = np.array(X)\n",
        "Y = np.array(Y)\n",
        "indexs = np.arange(len(X))\n",
        "\n",
        "def train_step(A, k):\n",
        "  global X,Y, accuracy\n",
        "\n",
        "  r = int(len(X)*0.9)\n",
        "  #kunoukoukeduziheisright?kunduzikun zhe gee shi qu 0.8 meiciyifong 0.1?xkou hmiande 0.2 kunkouke zheyag gaicheng 0.9 zhihou yiranconverge \n",
        "  npX = np.array(X[:r])\n",
        "  npY = np.array(Y[:r])\n",
        "  X_val = np.array(X[r:])\n",
        "  Y_val = np.array(Y[r:])\n",
        "\n",
        "  error = 0\n",
        "  # TruePositives = 0\n",
        "  # FalseNegatives = 0\n",
        "  # FalsePositives = 0\n",
        "  # TrueNegatives = 0\n",
        "  MSE = 0.0\n",
        "\n",
        "  for sample in range(len(X)-r): \n",
        "    distance = np.sum(A*(npX - X_val[sample])**2,axis=1) \n",
        "    sum0 = 0\n",
        "    sum1 = 0\n",
        "    mins = np.argsort(distance)[:k]\n",
        "    sum0 += np.sum(1/(distance[mins]+1))\n",
        "    sum1 += np.sum(1/(distance[mins]+1) * (npY[mins]))\n",
        "\n",
        "    MSE += (sum1/sum0-Y_val[sample])**2\n",
        "\n",
        "  return  MSE/(len(X)-r)"
      ],
      "metadata": {
        "id": "MRpnp2UVoOOh"
      },
      "execution_count": 11,
      "outputs": []
    },
    {
      "cell_type": "code",
      "source": [
        "def d(A):\n",
        "  return train_step(abs(A),30)\n",
        "train_grad = grad(d)"
      ],
      "metadata": {
        "id": "9HuuqV2xoZG8"
      },
      "execution_count": 7,
      "outputs": []
    },
    {
      "cell_type": "code",
      "source": [
        "def X_shuffle(X):\n",
        "  return np.append(X[len(X)//10:,:],X[:len(X)//10,:],axis=0)\n",
        "\n",
        "def shuffle(X):\n",
        "  return np.append(X[len(X)//10:],X[:len(X)//10])"
      ],
      "metadata": {
        "id": "wu7P4JaepQJ_"
      },
      "execution_count": 8,
      "outputs": []
    },
    {
      "cell_type": "code",
      "source": [
        "A = np.array([1.0,1.0])\n",
        "losses = []\n",
        "for epoches in range(30): \n",
        "  losssum = 0\n",
        "  for batch in range(10):\n",
        "    slope = train_grad(A)\n",
        "    A-=slope*0.5\n",
        "    loss = train_step(A,30)\n",
        "    losssum+=loss\n",
        "    shuffle(indexs)  #xkoukunkouke what?gaihuilaiyouyebushouleile\n",
        "    X = X[indexs]\n",
        "    Y = Y[indexs] \n",
        "  losses.append(losssum)\n",
        "  print(losssum)\n",
        " "
      ],
      "metadata": {
        "colab": {
          "base_uri": "https://localhost:8080/"
        },
        "id": "2UPfWohOpBW3",
        "outputId": "2b877c61-3341-452f-f053-b1b9512e3b32"
      },
      "execution_count": 17,
      "outputs": [
        {
          "output_type": "stream",
          "name": "stdout",
          "text": [
            "0.1943975352355589\n",
            "0.17311425757273463\n",
            "0.26665704984409\n",
            "0.18759180486383656\n",
            "0.22333378682732202\n",
            "0.21466592539147383\n",
            "0.24554008606662964\n",
            "0.24677849489964923\n",
            "0.21693570141643762\n",
            "0.26095414819460316\n",
            "0.19915269790881848\n",
            "0.22791629096865962\n",
            "0.14530969581964587\n",
            "0.24828596965279887\n",
            "0.18296572005929632\n",
            "0.26991864479818967\n",
            "0.2233296381956772\n",
            "0.17106115306947242\n",
            "0.19545540589041266\n",
            "0.15431405233863174\n",
            "0.1784197334383319\n",
            "0.17859565285602885\n",
            "0.16853458829362247\n",
            "0.20088459031711609\n",
            "0.2006319782090713\n",
            "0.18576647447293926\n",
            "0.1268570832469203\n",
            "0.2030719191308823\n",
            "0.20862016417324822\n",
            "0.18893538140999666\n"
          ]
        }
      ]
    },
    {
      "cell_type": "code",
      "source": [
        "import matplotlib.pyplot as plt\n",
        "plt.plot(losses)"
      ],
      "metadata": {
        "colab": {
          "base_uri": "https://localhost:8080/",
          "height": 282
        },
        "id": "atiMpXszpr10",
        "outputId": "f3bdcb5d-a0e4-47da-f8a9-e0c14d2f0e0a"
      },
      "execution_count": 18,
      "outputs": [
        {
          "output_type": "execute_result",
          "data": {
            "text/plain": [
              "[<matplotlib.lines.Line2D at 0x7f7c5b12ee90>]"
            ]
          },
          "metadata": {},
          "execution_count": 18
        },
        {
          "output_type": "display_data",
          "data": {
            "text/plain": [
              "<Figure size 432x288 with 1 Axes>"
            ],
            "image/png": "[encoded data removed]"
          },
          "metadata": {
            "needs_background": "light"
          }
        }
      ]
    }
  ]
}