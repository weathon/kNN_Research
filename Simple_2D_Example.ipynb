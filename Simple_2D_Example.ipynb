{
  "nbformat": 4,
  "nbformat_minor": 0,
  "metadata": {
    "colab": {
      "name": "Simple 2D Example.ipynb",
      "provenance": [],
      "collapsed_sections": [],
      "authorship_tag": "ABX9TyPxd+OXeBMWkN+JOGLNQumX",
      "include_colab_link": true
    },
    "kernelspec": {
      "name": "python3",
      "display_name": "Python 3"
    },
    "language_info": {
      "name": "python"
    }
  },
  "cells": [
    {
      "cell_type": "markdown",
      "metadata": {
        "id": "view-in-github",
        "colab_type": "text"
      },
      "source": [
        "<a href=\"https://colab.research.google.com/github/weathon/kNN_Research/blob/main/Simple_2D_Example.ipynb\" target=\"_parent\"><img src=\"https://colab.research.google.com/assets/colab-badge.svg\" alt=\"Open In Colab\"/></a>"
      ]
    },
    {
      "cell_type": "code",
      "source": [
        "import autograd.numpy as np\n",
        "from autograd import grad"
      ],
      "metadata": {
        "id": "3ZYaCwY8n6pZ"
      },
      "execution_count": 1,
      "outputs": []
    },
    {
      "cell_type": "code",
      "execution_count": 2,
      "metadata": {
        "id": "0EmwZqo0nGFs"
      },
      "outputs": [],
      "source": [
        "def f(x):\n",
        "  return (x-50)**2"
      ]
    },
    {
      "cell_type": "code",
      "source": [
        "# generate data\n",
        "import random\n",
        "X = []\n",
        "Y = []\n",
        "label = []\n",
        "for i in range(400):\n",
        "  x = np.random.uniform()*100\n",
        "  y = np.random.uniform()*100\n",
        "  X.append([x,y])\n",
        "  if y>f(x):\n",
        "    Y.append(1)\n",
        "  else:\n",
        "    Y.append(0)"
      ],
      "metadata": {
        "id": "vP573v3JoKno"
      },
      "execution_count": 22,
      "outputs": []
    },
    {
      "cell_type": "code",
      "source": [
        "X = np.array(X)\n",
        "Y = np.array(Y)\n",
        "indexs = np.arange(len(X))\n",
        "\n",
        "def train_step(A, k):\n",
        "  global X,Y, accuracy\n",
        "\n",
        "  r = int(len(X)*0.9)\n",
        "  #kunoukoukeduziheisright?kunduzikun zhe gee shi qu 0.8 meiciyifong 0.1?xkou hmiande 0.2 kunkouke zheyag gaicheng 0.9 zhihou yiranconverge \n",
        "  npX = np.array(X[:r])\n",
        "  npY = np.array(Y[:r])\n",
        "  X_val = np.array(X[r:])\n",
        "  Y_val = np.array(Y[r:])\n",
        "\n",
        "  error = 0\n",
        "  # TruePositives = 0\n",
        "  # FalseNegatives = 0\n",
        "  # FalsePositives = 0\n",
        "  # TrueNegatives = 0\n",
        "  MSE = 0.0\n",
        "\n",
        "  for sample in range(len(X)-r): \n",
        "    distance = np.sum(A*(npX - X_val[sample])**2,axis=1) \n",
        "    sum0 = 0\n",
        "    sum1 = 0\n",
        "    mins = np.argsort(distance)[:k]\n",
        "    sum0 += np.sum(1/(distance[mins]+1))\n",
        "    sum1 += np.sum(1/(distance[mins]+1) * (npY[mins]))\n",
        "\n",
        "    MSE += (sum1/sum0-Y_val[sample])**2\n",
        "\n",
        "  return  MSE/(len(X)-r)"
      ],
      "metadata": {
        "id": "MRpnp2UVoOOh"
      },
      "execution_count": 23,
      "outputs": []
    },
    {
      "cell_type": "code",
      "source": [
        "def d(A):\n",
        "  return train_step(abs(A),30)\n",
        "train_grad = grad(d)"
      ],
      "metadata": {
        "id": "9HuuqV2xoZG8"
      },
      "execution_count": 24,
      "outputs": []
    },
    {
      "cell_type": "code",
      "source": [
        "def X_shuffle(X):\n",
        "  return np.append(X[len(X)//10:,:],X[:len(X)//10,:],axis=0)\n",
        "\n",
        "def shuffle(X):\n",
        "  return np.append(X[len(X)//10:],X[:len(X)//10])"
      ],
      "metadata": {
        "id": "wu7P4JaepQJ_"
      },
      "execution_count": 25,
      "outputs": []
    },
    {
      "cell_type": "code",
      "source": [
        "np.random.shuffle(indexs)\n",
        "A = np.array([1.0,1.0])\n",
        "losses = []\n",
        "for epoches in range(30): \n",
        "  losssum = 0\n",
        "  for batch in range(10):\n",
        "    slope = train_grad(A)\n",
        "    A-=slope*0.5\n",
        "    loss = train_step(A,30) \n",
        "    losssum+=loss\n",
        "    shuffle(indexs) \n",
        "    X = X[indexs]\n",
        "    Y = Y[indexs] \n",
        "  losses.append(losssum)\n",
        "  print(losssum)\n",
        " # kouke toutongfaruansm gui chongxin run yiciyoukeyile congtou koukeshangcide hshi random shuffleguode? xianshuffle zai shoushuffledoubuxing?tttxkou christianwaimianoke\n",
        " # kouke IT IS RIGHT, EVEN IF I JUST SHUFFLE AT THE BEGINING, IT WONT WORK!\n",
        "\n",
        " # xkoukunkouekxkoutamenwaimianhenhuang whywhwywxjkotxtiaott"
      ],
      "metadata": {
        "colab": {
          "base_uri": "https://localhost:8080/"
        },
        "id": "2UPfWohOpBW3",
        "outputId": "421f049e-2ebc-49b5-9cb8-758e8ee57dfc"
      },
      "execution_count": 30,
      "outputs": [
        {
          "output_type": "stream",
          "name": "stdout",
          "text": [
            "0.38831288826332233\n",
            "0.34273075185852353\n",
            "0.3230265542165263\n",
            "0.29777256856188716\n",
            "0.2670926394609414\n",
            "0.25827509007020516\n",
            "0.22107171415293414\n",
            "0.2879242699927068\n",
            "0.2502094305343331\n",
            "0.2290107856682473\n",
            "0.29283291023870317\n",
            "0.2588614948113741\n",
            "0.34671879760379365\n",
            "0.19878609758888796\n",
            "0.2750595593942301\n",
            "0.2464519428883602\n",
            "0.2632137463250076\n",
            "0.21020851447577268\n",
            "0.23735495651082678\n",
            "0.1928235992058427\n",
            "0.1565995663399285\n",
            "0.23180823827227953\n",
            "0.5190166200487862\n",
            "1.1530930582349526\n",
            "1.007576841586979\n",
            "0.8583799985590578\n",
            "0.49167426556118987\n",
            "0.34034713226559016\n",
            "0.3297718562550732\n",
            "0.39891489839759137\n"
          ]
        }
      ]
    },
    {
      "cell_type": "code",
      "source": [
        "import matplotlib.pyplot as plt\n",
        "plt.plot(losses)"
      ],
      "metadata": {
        "colab": {
          "base_uri": "https://localhost:8080/",
          "height": 282
        },
        "id": "atiMpXszpr10",
        "outputId": "48a8d49f-6701-431e-bc3a-825f72ce3b0e"
      },
      "execution_count": 27,
      "outputs": [
        {
          "output_type": "execute_result",
          "data": {
            "text/plain": [
              "[<matplotlib.lines.Line2D at 0x7f7c5abf2c10>]"
            ]
          },
          "metadata": {},
          "execution_count": 27
        },
        {
          "output_type": "display_data",
          "data": {
            "text/plain": [
              "<Figure size 432x288 with 1 Axes>"
            ],
            "image/png": "[encoded data removed]"
          },
          "metadata": {
            "needs_background": "light"
          }
        }
      ]
    },
    {
      "cell_type": "code",
      "source": [
        "A"
      ],
      "metadata": {
        "colab": {
          "base_uri": "https://localhost:8080/"
        },
        "id": "kuJdKPUStmko",
        "outputId": "686340bb-8814-495c-8529-fce3fa865655"
      },
      "execution_count": 28,
      "outputs": [
        {
          "output_type": "execute_result",
          "data": {
            "text/plain": [
              "array([1.69310372, 0.03545942])"
            ]
          },
          "metadata": {},
          "execution_count": 28
        }
      ]
    }
  ]
}